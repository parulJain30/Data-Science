{
 "cells": [
  {
   "cell_type": "markdown",
   "metadata": {},
   "source": [
    "## Logistic Regression\n",
    "\n",
    "### Problem Statement\n",
    "\n",
    "An X Education need help to select the most promising leads, i.e. the leads that are most likely to convert into paying customers. The company requires us to build a model wherein you need to assign a lead score to each of the leads such that the customers with higher lead score have a higher conversion chance and the customers with lower lead score have a lower conversion chance. The CEO, in particular, has given a ballpark of the target lead conversion rate to be around 80%.\n",
    "\n",
    "\n",
    "### Goals and Objectives\n",
    "\n",
    "There are quite a few goals for this case study.\n",
    "\n",
    "- Build a logistic regression model to assign a lead score between 0 and 100 to each of the leads which can be used by the company to target potential leads. A higher score would mean that the lead is hot, i.e. is most likely to convert whereas a lower score would mean that the lead is cold and will mostly not get converted.\n",
    "- There are some more problems presented by the company which your model should be able to adjust to if the company's requirement changes in the future so you will need to handle these as well. These problems are provided in a separate doc file. Please fill it based on the logistic regression model you got in the first step. Also, make sure you include this in your final PPT where you'll make recommendations.\n"
   ]
  },
  {
   "cell_type": "code",
   "execution_count": 217,
   "metadata": {},
   "outputs": [],
   "source": [
    "# Supress Warnings\n",
    "import warnings\n",
    "warnings.filterwarnings('ignore')\n",
    "\n",
    "import numpy as np\n",
    "import pandas as pd\n",
    "import matplotlib.pyplot as plt\n",
    "%matplotlib inline\n",
    "import seaborn as sns\n",
    "\n",
    "pd.options.display.float_format = '{:.2f}'.format\n",
    "pd.set_option(\"precision\",2)\n",
    "pd.set_option('display.max_colwidth', -1)\n",
    "pd.options.display.max_columns = 50"
   ]
  },
  {
   "cell_type": "code",
   "execution_count": 218,
   "metadata": {},
   "outputs": [
    {
     "data": {
      "text/plain": [
       "(9240, 37)"
      ]
     },
     "execution_count": 218,
     "metadata": {},
     "output_type": "execute_result"
    }
   ],
   "source": [
    "lead = pd.read_csv(\"Leads.csv\")\n",
    "\n",
    "lead.shape"
   ]
  },
  {
   "cell_type": "code",
   "execution_count": 219,
   "metadata": {},
   "outputs": [
    {
     "name": "stdout",
     "output_type": "stream",
     "text": [
      "<class 'pandas.core.frame.DataFrame'>\n",
      "RangeIndex: 9240 entries, 0 to 9239\n",
      "Data columns (total 37 columns):\n",
      "Prospect ID                                      9240 non-null object\n",
      "Lead Number                                      9240 non-null int64\n",
      "Lead Origin                                      9240 non-null object\n",
      "Lead Source                                      9204 non-null object\n",
      "Do Not Email                                     9240 non-null object\n",
      "Do Not Call                                      9240 non-null object\n",
      "Converted                                        9240 non-null int64\n",
      "TotalVisits                                      9103 non-null float64\n",
      "Total Time Spent on Website                      9240 non-null int64\n",
      "Page Views Per Visit                             9103 non-null float64\n",
      "Last Activity                                    9137 non-null object\n",
      "Country                                          6779 non-null object\n",
      "Specialization                                   7802 non-null object\n",
      "How did you hear about X Education               7033 non-null object\n",
      "What is your current occupation                  6550 non-null object\n",
      "What matters most to you in choosing a course    6531 non-null object\n",
      "Search                                           9240 non-null object\n",
      "Magazine                                         9240 non-null object\n",
      "Newspaper Article                                9240 non-null object\n",
      "X Education Forums                               9240 non-null object\n",
      "Newspaper                                        9240 non-null object\n",
      "Digital Advertisement                            9240 non-null object\n",
      "Through Recommendations                          9240 non-null object\n",
      "Receive More Updates About Our Courses           9240 non-null object\n",
      "Tags                                             5887 non-null object\n",
      "Lead Quality                                     4473 non-null object\n",
      "Update me on Supply Chain Content                9240 non-null object\n",
      "Get updates on DM Content                        9240 non-null object\n",
      "Lead Profile                                     6531 non-null object\n",
      "City                                             7820 non-null object\n",
      "Asymmetrique Activity Index                      5022 non-null object\n",
      "Asymmetrique Profile Index                       5022 non-null object\n",
      "Asymmetrique Activity Score                      5022 non-null float64\n",
      "Asymmetrique Profile Score                       5022 non-null float64\n",
      "I agree to pay the amount through cheque         9240 non-null object\n",
      "A free copy of Mastering The Interview           9240 non-null object\n",
      "Last Notable Activity                            9240 non-null object\n",
      "dtypes: float64(4), int64(3), object(30)\n",
      "memory usage: 2.6+ MB\n"
     ]
    }
   ],
   "source": [
    "#Inspecting the dataset\n",
    "lead.info()"
   ]
  },
  {
   "cell_type": "code",
   "execution_count": 220,
   "metadata": {},
   "outputs": [
    {
     "data": {
      "text/html": [
       "<div>\n",
       "<style scoped>\n",
       "    .dataframe tbody tr th:only-of-type {\n",
       "        vertical-align: middle;\n",
       "    }\n",
       "\n",
       "    .dataframe tbody tr th {\n",
       "        vertical-align: top;\n",
       "    }\n",
       "\n",
       "    .dataframe thead th {\n",
       "        text-align: right;\n",
       "    }\n",
       "</style>\n",
       "<table border=\"1\" class=\"dataframe\">\n",
       "  <thead>\n",
       "    <tr style=\"text-align: right;\">\n",
       "      <th></th>\n",
       "      <th>Prospect ID</th>\n",
       "      <th>Lead Number</th>\n",
       "      <th>Lead Origin</th>\n",
       "      <th>Lead Source</th>\n",
       "      <th>Do Not Email</th>\n",
       "      <th>Do Not Call</th>\n",
       "      <th>Converted</th>\n",
       "      <th>TotalVisits</th>\n",
       "      <th>Total Time Spent on Website</th>\n",
       "      <th>Page Views Per Visit</th>\n",
       "      <th>Last Activity</th>\n",
       "      <th>Country</th>\n",
       "      <th>Specialization</th>\n",
       "      <th>How did you hear about X Education</th>\n",
       "      <th>What is your current occupation</th>\n",
       "      <th>What matters most to you in choosing a course</th>\n",
       "      <th>Search</th>\n",
       "      <th>Magazine</th>\n",
       "      <th>Newspaper Article</th>\n",
       "      <th>X Education Forums</th>\n",
       "      <th>Newspaper</th>\n",
       "      <th>Digital Advertisement</th>\n",
       "      <th>Through Recommendations</th>\n",
       "      <th>Receive More Updates About Our Courses</th>\n",
       "      <th>Tags</th>\n",
       "      <th>Lead Quality</th>\n",
       "      <th>Update me on Supply Chain Content</th>\n",
       "      <th>Get updates on DM Content</th>\n",
       "      <th>Lead Profile</th>\n",
       "      <th>City</th>\n",
       "      <th>Asymmetrique Activity Index</th>\n",
       "      <th>Asymmetrique Profile Index</th>\n",
       "      <th>Asymmetrique Activity Score</th>\n",
       "      <th>Asymmetrique Profile Score</th>\n",
       "      <th>I agree to pay the amount through cheque</th>\n",
       "      <th>A free copy of Mastering The Interview</th>\n",
       "      <th>Last Notable Activity</th>\n",
       "    </tr>\n",
       "  </thead>\n",
       "  <tbody>\n",
       "    <tr>\n",
       "      <th>0</th>\n",
       "      <td>7927b2df-8bba-4d29-b9a2-b6e0beafe620</td>\n",
       "      <td>660737</td>\n",
       "      <td>API</td>\n",
       "      <td>Olark Chat</td>\n",
       "      <td>No</td>\n",
       "      <td>No</td>\n",
       "      <td>0</td>\n",
       "      <td>0.00</td>\n",
       "      <td>0</td>\n",
       "      <td>0.00</td>\n",
       "      <td>Page Visited on Website</td>\n",
       "      <td>NaN</td>\n",
       "      <td>Select</td>\n",
       "      <td>Select</td>\n",
       "      <td>Unemployed</td>\n",
       "      <td>Better Career Prospects</td>\n",
       "      <td>No</td>\n",
       "      <td>No</td>\n",
       "      <td>No</td>\n",
       "      <td>No</td>\n",
       "      <td>No</td>\n",
       "      <td>No</td>\n",
       "      <td>No</td>\n",
       "      <td>No</td>\n",
       "      <td>Interested in other courses</td>\n",
       "      <td>Low in Relevance</td>\n",
       "      <td>No</td>\n",
       "      <td>No</td>\n",
       "      <td>Select</td>\n",
       "      <td>Select</td>\n",
       "      <td>02.Medium</td>\n",
       "      <td>02.Medium</td>\n",
       "      <td>15.00</td>\n",
       "      <td>15.00</td>\n",
       "      <td>No</td>\n",
       "      <td>No</td>\n",
       "      <td>Modified</td>\n",
       "    </tr>\n",
       "    <tr>\n",
       "      <th>1</th>\n",
       "      <td>2a272436-5132-4136-86fa-dcc88c88f482</td>\n",
       "      <td>660728</td>\n",
       "      <td>API</td>\n",
       "      <td>Organic Search</td>\n",
       "      <td>No</td>\n",
       "      <td>No</td>\n",
       "      <td>0</td>\n",
       "      <td>5.00</td>\n",
       "      <td>674</td>\n",
       "      <td>2.50</td>\n",
       "      <td>Email Opened</td>\n",
       "      <td>India</td>\n",
       "      <td>Select</td>\n",
       "      <td>Select</td>\n",
       "      <td>Unemployed</td>\n",
       "      <td>Better Career Prospects</td>\n",
       "      <td>No</td>\n",
       "      <td>No</td>\n",
       "      <td>No</td>\n",
       "      <td>No</td>\n",
       "      <td>No</td>\n",
       "      <td>No</td>\n",
       "      <td>No</td>\n",
       "      <td>No</td>\n",
       "      <td>Ringing</td>\n",
       "      <td>NaN</td>\n",
       "      <td>No</td>\n",
       "      <td>No</td>\n",
       "      <td>Select</td>\n",
       "      <td>Select</td>\n",
       "      <td>02.Medium</td>\n",
       "      <td>02.Medium</td>\n",
       "      <td>15.00</td>\n",
       "      <td>15.00</td>\n",
       "      <td>No</td>\n",
       "      <td>No</td>\n",
       "      <td>Email Opened</td>\n",
       "    </tr>\n",
       "    <tr>\n",
       "      <th>2</th>\n",
       "      <td>8cc8c611-a219-4f35-ad23-fdfd2656bd8a</td>\n",
       "      <td>660727</td>\n",
       "      <td>Landing Page Submission</td>\n",
       "      <td>Direct Traffic</td>\n",
       "      <td>No</td>\n",
       "      <td>No</td>\n",
       "      <td>1</td>\n",
       "      <td>2.00</td>\n",
       "      <td>1532</td>\n",
       "      <td>2.00</td>\n",
       "      <td>Email Opened</td>\n",
       "      <td>India</td>\n",
       "      <td>Business Administration</td>\n",
       "      <td>Select</td>\n",
       "      <td>Student</td>\n",
       "      <td>Better Career Prospects</td>\n",
       "      <td>No</td>\n",
       "      <td>No</td>\n",
       "      <td>No</td>\n",
       "      <td>No</td>\n",
       "      <td>No</td>\n",
       "      <td>No</td>\n",
       "      <td>No</td>\n",
       "      <td>No</td>\n",
       "      <td>Will revert after reading the email</td>\n",
       "      <td>Might be</td>\n",
       "      <td>No</td>\n",
       "      <td>No</td>\n",
       "      <td>Potential Lead</td>\n",
       "      <td>Mumbai</td>\n",
       "      <td>02.Medium</td>\n",
       "      <td>01.High</td>\n",
       "      <td>14.00</td>\n",
       "      <td>20.00</td>\n",
       "      <td>No</td>\n",
       "      <td>Yes</td>\n",
       "      <td>Email Opened</td>\n",
       "    </tr>\n",
       "    <tr>\n",
       "      <th>3</th>\n",
       "      <td>0cc2df48-7cf4-4e39-9de9-19797f9b38cc</td>\n",
       "      <td>660719</td>\n",
       "      <td>Landing Page Submission</td>\n",
       "      <td>Direct Traffic</td>\n",
       "      <td>No</td>\n",
       "      <td>No</td>\n",
       "      <td>0</td>\n",
       "      <td>1.00</td>\n",
       "      <td>305</td>\n",
       "      <td>1.00</td>\n",
       "      <td>Unreachable</td>\n",
       "      <td>India</td>\n",
       "      <td>Media and Advertising</td>\n",
       "      <td>Word Of Mouth</td>\n",
       "      <td>Unemployed</td>\n",
       "      <td>Better Career Prospects</td>\n",
       "      <td>No</td>\n",
       "      <td>No</td>\n",
       "      <td>No</td>\n",
       "      <td>No</td>\n",
       "      <td>No</td>\n",
       "      <td>No</td>\n",
       "      <td>No</td>\n",
       "      <td>No</td>\n",
       "      <td>Ringing</td>\n",
       "      <td>Not Sure</td>\n",
       "      <td>No</td>\n",
       "      <td>No</td>\n",
       "      <td>Select</td>\n",
       "      <td>Mumbai</td>\n",
       "      <td>02.Medium</td>\n",
       "      <td>01.High</td>\n",
       "      <td>13.00</td>\n",
       "      <td>17.00</td>\n",
       "      <td>No</td>\n",
       "      <td>No</td>\n",
       "      <td>Modified</td>\n",
       "    </tr>\n",
       "    <tr>\n",
       "      <th>4</th>\n",
       "      <td>3256f628-e534-4826-9d63-4a8b88782852</td>\n",
       "      <td>660681</td>\n",
       "      <td>Landing Page Submission</td>\n",
       "      <td>Google</td>\n",
       "      <td>No</td>\n",
       "      <td>No</td>\n",
       "      <td>1</td>\n",
       "      <td>2.00</td>\n",
       "      <td>1428</td>\n",
       "      <td>1.00</td>\n",
       "      <td>Converted to Lead</td>\n",
       "      <td>India</td>\n",
       "      <td>Select</td>\n",
       "      <td>Other</td>\n",
       "      <td>Unemployed</td>\n",
       "      <td>Better Career Prospects</td>\n",
       "      <td>No</td>\n",
       "      <td>No</td>\n",
       "      <td>No</td>\n",
       "      <td>No</td>\n",
       "      <td>No</td>\n",
       "      <td>No</td>\n",
       "      <td>No</td>\n",
       "      <td>No</td>\n",
       "      <td>Will revert after reading the email</td>\n",
       "      <td>Might be</td>\n",
       "      <td>No</td>\n",
       "      <td>No</td>\n",
       "      <td>Select</td>\n",
       "      <td>Mumbai</td>\n",
       "      <td>02.Medium</td>\n",
       "      <td>01.High</td>\n",
       "      <td>15.00</td>\n",
       "      <td>18.00</td>\n",
       "      <td>No</td>\n",
       "      <td>No</td>\n",
       "      <td>Modified</td>\n",
       "    </tr>\n",
       "  </tbody>\n",
       "</table>\n",
       "</div>"
      ],
      "text/plain": [
       "                            Prospect ID  Lead Number              Lead Origin  \\\n",
       "0  7927b2df-8bba-4d29-b9a2-b6e0beafe620  660737       API                       \n",
       "1  2a272436-5132-4136-86fa-dcc88c88f482  660728       API                       \n",
       "2  8cc8c611-a219-4f35-ad23-fdfd2656bd8a  660727       Landing Page Submission   \n",
       "3  0cc2df48-7cf4-4e39-9de9-19797f9b38cc  660719       Landing Page Submission   \n",
       "4  3256f628-e534-4826-9d63-4a8b88782852  660681       Landing Page Submission   \n",
       "\n",
       "      Lead Source Do Not Email Do Not Call  Converted  TotalVisits  \\\n",
       "0  Olark Chat      No           No          0         0.00           \n",
       "1  Organic Search  No           No          0         5.00           \n",
       "2  Direct Traffic  No           No          1         2.00           \n",
       "3  Direct Traffic  No           No          0         1.00           \n",
       "4  Google          No           No          1         2.00           \n",
       "\n",
       "   Total Time Spent on Website  Page Views Per Visit            Last Activity  \\\n",
       "0  0                           0.00                   Page Visited on Website   \n",
       "1  674                         2.50                   Email Opened              \n",
       "2  1532                        2.00                   Email Opened              \n",
       "3  305                         1.00                   Unreachable               \n",
       "4  1428                        1.00                   Converted to Lead         \n",
       "\n",
       "  Country           Specialization How did you hear about X Education  \\\n",
       "0  NaN     Select                   Select                              \n",
       "1  India   Select                   Select                              \n",
       "2  India   Business Administration  Select                              \n",
       "3  India   Media and Advertising    Word Of Mouth                       \n",
       "4  India   Select                   Other                               \n",
       "\n",
       "  What is your current occupation  \\\n",
       "0  Unemployed                       \n",
       "1  Unemployed                       \n",
       "2  Student                          \n",
       "3  Unemployed                       \n",
       "4  Unemployed                       \n",
       "\n",
       "  What matters most to you in choosing a course Search Magazine  \\\n",
       "0  Better Career Prospects                       No     No        \n",
       "1  Better Career Prospects                       No     No        \n",
       "2  Better Career Prospects                       No     No        \n",
       "3  Better Career Prospects                       No     No        \n",
       "4  Better Career Prospects                       No     No        \n",
       "\n",
       "  Newspaper Article X Education Forums Newspaper Digital Advertisement  \\\n",
       "0  No                No                 No        No                     \n",
       "1  No                No                 No        No                     \n",
       "2  No                No                 No        No                     \n",
       "3  No                No                 No        No                     \n",
       "4  No                No                 No        No                     \n",
       "\n",
       "  Through Recommendations Receive More Updates About Our Courses  \\\n",
       "0  No                      No                                      \n",
       "1  No                      No                                      \n",
       "2  No                      No                                      \n",
       "3  No                      No                                      \n",
       "4  No                      No                                      \n",
       "\n",
       "                                  Tags      Lead Quality  \\\n",
       "0  Interested in other courses          Low in Relevance   \n",
       "1  Ringing                              NaN                \n",
       "2  Will revert after reading the email  Might be           \n",
       "3  Ringing                              Not Sure           \n",
       "4  Will revert after reading the email  Might be           \n",
       "\n",
       "  Update me on Supply Chain Content Get updates on DM Content    Lead Profile  \\\n",
       "0  No                                No                        Select           \n",
       "1  No                                No                        Select           \n",
       "2  No                                No                        Potential Lead   \n",
       "3  No                                No                        Select           \n",
       "4  No                                No                        Select           \n",
       "\n",
       "     City Asymmetrique Activity Index Asymmetrique Profile Index  \\\n",
       "0  Select  02.Medium                   02.Medium                   \n",
       "1  Select  02.Medium                   02.Medium                   \n",
       "2  Mumbai  02.Medium                   01.High                     \n",
       "3  Mumbai  02.Medium                   01.High                     \n",
       "4  Mumbai  02.Medium                   01.High                     \n",
       "\n",
       "   Asymmetrique Activity Score  Asymmetrique Profile Score  \\\n",
       "0 15.00                        15.00                         \n",
       "1 15.00                        15.00                         \n",
       "2 14.00                        20.00                         \n",
       "3 13.00                        17.00                         \n",
       "4 15.00                        18.00                         \n",
       "\n",
       "  I agree to pay the amount through cheque  \\\n",
       "0  No                                        \n",
       "1  No                                        \n",
       "2  No                                        \n",
       "3  No                                        \n",
       "4  No                                        \n",
       "\n",
       "  A free copy of Mastering The Interview Last Notable Activity  \n",
       "0  No                                     Modified              \n",
       "1  No                                     Email Opened          \n",
       "2  Yes                                    Email Opened          \n",
       "3  No                                     Modified              \n",
       "4  No                                     Modified              "
      ]
     },
     "execution_count": 220,
     "metadata": {},
     "output_type": "execute_result"
    }
   ],
   "source": [
    "#Taking a look at the values in dataset\n",
    "lead.head()"
   ]
  },
  {
   "cell_type": "code",
   "execution_count": 221,
   "metadata": {},
   "outputs": [
    {
     "data": {
      "text/html": [
       "<div>\n",
       "<style scoped>\n",
       "    .dataframe tbody tr th:only-of-type {\n",
       "        vertical-align: middle;\n",
       "    }\n",
       "\n",
       "    .dataframe tbody tr th {\n",
       "        vertical-align: top;\n",
       "    }\n",
       "\n",
       "    .dataframe thead th {\n",
       "        text-align: right;\n",
       "    }\n",
       "</style>\n",
       "<table border=\"1\" class=\"dataframe\">\n",
       "  <thead>\n",
       "    <tr style=\"text-align: right;\">\n",
       "      <th></th>\n",
       "      <th>Lead Number</th>\n",
       "      <th>Converted</th>\n",
       "      <th>TotalVisits</th>\n",
       "      <th>Total Time Spent on Website</th>\n",
       "      <th>Page Views Per Visit</th>\n",
       "      <th>Asymmetrique Activity Score</th>\n",
       "      <th>Asymmetrique Profile Score</th>\n",
       "    </tr>\n",
       "  </thead>\n",
       "  <tbody>\n",
       "    <tr>\n",
       "      <th>count</th>\n",
       "      <td>9240.00</td>\n",
       "      <td>9240.00</td>\n",
       "      <td>9103.00</td>\n",
       "      <td>9240.00</td>\n",
       "      <td>9103.00</td>\n",
       "      <td>5022.00</td>\n",
       "      <td>5022.00</td>\n",
       "    </tr>\n",
       "    <tr>\n",
       "      <th>mean</th>\n",
       "      <td>617188.44</td>\n",
       "      <td>0.39</td>\n",
       "      <td>3.45</td>\n",
       "      <td>487.70</td>\n",
       "      <td>2.36</td>\n",
       "      <td>14.31</td>\n",
       "      <td>16.34</td>\n",
       "    </tr>\n",
       "    <tr>\n",
       "      <th>std</th>\n",
       "      <td>23406.00</td>\n",
       "      <td>0.49</td>\n",
       "      <td>4.85</td>\n",
       "      <td>548.02</td>\n",
       "      <td>2.16</td>\n",
       "      <td>1.39</td>\n",
       "      <td>1.81</td>\n",
       "    </tr>\n",
       "    <tr>\n",
       "      <th>min</th>\n",
       "      <td>579533.00</td>\n",
       "      <td>0.00</td>\n",
       "      <td>0.00</td>\n",
       "      <td>0.00</td>\n",
       "      <td>0.00</td>\n",
       "      <td>7.00</td>\n",
       "      <td>11.00</td>\n",
       "    </tr>\n",
       "    <tr>\n",
       "      <th>25%</th>\n",
       "      <td>596484.50</td>\n",
       "      <td>0.00</td>\n",
       "      <td>1.00</td>\n",
       "      <td>12.00</td>\n",
       "      <td>1.00</td>\n",
       "      <td>14.00</td>\n",
       "      <td>15.00</td>\n",
       "    </tr>\n",
       "    <tr>\n",
       "      <th>50%</th>\n",
       "      <td>615479.00</td>\n",
       "      <td>0.00</td>\n",
       "      <td>3.00</td>\n",
       "      <td>248.00</td>\n",
       "      <td>2.00</td>\n",
       "      <td>14.00</td>\n",
       "      <td>16.00</td>\n",
       "    </tr>\n",
       "    <tr>\n",
       "      <th>75%</th>\n",
       "      <td>637387.25</td>\n",
       "      <td>1.00</td>\n",
       "      <td>5.00</td>\n",
       "      <td>936.00</td>\n",
       "      <td>3.00</td>\n",
       "      <td>15.00</td>\n",
       "      <td>18.00</td>\n",
       "    </tr>\n",
       "    <tr>\n",
       "      <th>max</th>\n",
       "      <td>660737.00</td>\n",
       "      <td>1.00</td>\n",
       "      <td>251.00</td>\n",
       "      <td>2272.00</td>\n",
       "      <td>55.00</td>\n",
       "      <td>18.00</td>\n",
       "      <td>20.00</td>\n",
       "    </tr>\n",
       "  </tbody>\n",
       "</table>\n",
       "</div>"
      ],
      "text/plain": [
       "       Lead Number  Converted  TotalVisits  Total Time Spent on Website  \\\n",
       "count 9240.00      9240.00    9103.00      9240.00                        \n",
       "mean  617188.44    0.39       3.45         487.70                         \n",
       "std   23406.00     0.49       4.85         548.02                         \n",
       "min   579533.00    0.00       0.00         0.00                           \n",
       "25%   596484.50    0.00       1.00         12.00                          \n",
       "50%   615479.00    0.00       3.00         248.00                         \n",
       "75%   637387.25    1.00       5.00         936.00                         \n",
       "max   660737.00    1.00       251.00       2272.00                        \n",
       "\n",
       "       Page Views Per Visit  Asymmetrique Activity Score  \\\n",
       "count 9103.00               5022.00                        \n",
       "mean  2.36                  14.31                          \n",
       "std   2.16                  1.39                           \n",
       "min   0.00                  7.00                           \n",
       "25%   1.00                  14.00                          \n",
       "50%   2.00                  14.00                          \n",
       "75%   3.00                  15.00                          \n",
       "max   55.00                 18.00                          \n",
       "\n",
       "       Asymmetrique Profile Score  \n",
       "count 5022.00                      \n",
       "mean  16.34                        \n",
       "std   1.81                         \n",
       "min   11.00                        \n",
       "25%   15.00                        \n",
       "50%   16.00                        \n",
       "75%   18.00                        \n",
       "max   20.00                        "
      ]
     },
     "execution_count": 221,
     "metadata": {},
     "output_type": "execute_result"
    }
   ],
   "source": [
    "#Describing the dataset\n",
    "lead.describe()"
   ]
  },
  {
   "cell_type": "code",
   "execution_count": 222,
   "metadata": {},
   "outputs": [],
   "source": [
    "#Replacing the space in column names by '_'\n",
    "lead.columns = lead.columns.str.strip().str.replace(' ', '_')"
   ]
  },
  {
   "cell_type": "markdown",
   "metadata": {},
   "source": [
    "### Missing Values Analysis"
   ]
  },
  {
   "cell_type": "code",
   "execution_count": 223,
   "metadata": {},
   "outputs": [
    {
     "data": {
      "text/plain": [
       "Prospect_ID                                     0.00 \n",
       "Lead_Number                                     0.00 \n",
       "Lead_Origin                                     0.00 \n",
       "Lead_Source                                     0.39 \n",
       "Do_Not_Email                                    0.00 \n",
       "Do_Not_Call                                     0.00 \n",
       "Converted                                       0.00 \n",
       "TotalVisits                                     1.48 \n",
       "Total_Time_Spent_on_Website                     0.00 \n",
       "Page_Views_Per_Visit                            1.48 \n",
       "Last_Activity                                   1.11 \n",
       "Country                                         26.63\n",
       "Specialization                                  15.56\n",
       "How_did_you_hear_about_X_Education              23.89\n",
       "What_is_your_current_occupation                 29.11\n",
       "What_matters_most_to_you_in_choosing_a_course   29.32\n",
       "Search                                          0.00 \n",
       "Magazine                                        0.00 \n",
       "Newspaper_Article                               0.00 \n",
       "X_Education_Forums                              0.00 \n",
       "Newspaper                                       0.00 \n",
       "Digital_Advertisement                           0.00 \n",
       "Through_Recommendations                         0.00 \n",
       "Receive_More_Updates_About_Our_Courses          0.00 \n",
       "Tags                                            36.29\n",
       "Lead_Quality                                    51.59\n",
       "Update_me_on_Supply_Chain_Content               0.00 \n",
       "Get_updates_on_DM_Content                       0.00 \n",
       "Lead_Profile                                    29.32\n",
       "City                                            15.37\n",
       "Asymmetrique_Activity_Index                     45.65\n",
       "Asymmetrique_Profile_Index                      45.65\n",
       "Asymmetrique_Activity_Score                     45.65\n",
       "Asymmetrique_Profile_Score                      45.65\n",
       "I_agree_to_pay_the_amount_through_cheque        0.00 \n",
       "A_free_copy_of_Mastering_The_Interview          0.00 \n",
       "Last_Notable_Activity                           0.00 \n",
       "dtype: float64"
      ]
     },
     "execution_count": 223,
     "metadata": {},
     "output_type": "execute_result"
    }
   ],
   "source": [
    "# Checking the percentage of missing values\n",
    "round(100*(lead.isnull().sum()/len(lead.index)), 2)"
   ]
  },
  {
   "cell_type": "code",
   "execution_count": 224,
   "metadata": {},
   "outputs": [
    {
     "data": {
      "text/plain": [
       "0    5679\n",
       "1    3561\n",
       "Name: Converted, dtype: int64"
      ]
     },
     "execution_count": 224,
     "metadata": {},
     "output_type": "execute_result"
    }
   ],
   "source": [
    "#Lets have a look at Target Variable \n",
    "lead['Converted'].value_counts()"
   ]
  },
  {
   "cell_type": "code",
   "execution_count": 225,
   "metadata": {},
   "outputs": [
    {
     "data": {
      "text/plain": [
       "Prospect_ID                                      9240\n",
       "Lead_Number                                      9240\n",
       "Lead_Origin                                      5   \n",
       "Lead_Source                                      21  \n",
       "Do_Not_Email                                     2   \n",
       "Do_Not_Call                                      2   \n",
       "Converted                                        2   \n",
       "TotalVisits                                      41  \n",
       "Total_Time_Spent_on_Website                      1731\n",
       "Page_Views_Per_Visit                             114 \n",
       "Last_Activity                                    17  \n",
       "Country                                          38  \n",
       "Specialization                                   19  \n",
       "How_did_you_hear_about_X_Education               10  \n",
       "What_is_your_current_occupation                  6   \n",
       "What_matters_most_to_you_in_choosing_a_course    3   \n",
       "Search                                           2   \n",
       "Magazine                                         1   \n",
       "Newspaper_Article                                2   \n",
       "X_Education_Forums                               2   \n",
       "Newspaper                                        2   \n",
       "Digital_Advertisement                            2   \n",
       "Through_Recommendations                          2   \n",
       "Receive_More_Updates_About_Our_Courses           1   \n",
       "Tags                                             26  \n",
       "Lead_Quality                                     5   \n",
       "Update_me_on_Supply_Chain_Content                1   \n",
       "Get_updates_on_DM_Content                        1   \n",
       "Lead_Profile                                     6   \n",
       "City                                             7   \n",
       "Asymmetrique_Activity_Index                      3   \n",
       "Asymmetrique_Profile_Index                       3   \n",
       "Asymmetrique_Activity_Score                      12  \n",
       "Asymmetrique_Profile_Score                       10  \n",
       "I_agree_to_pay_the_amount_through_cheque         1   \n",
       "A_free_copy_of_Mastering_The_Interview           2   \n",
       "Last_Notable_Activity                            16  \n",
       "dtype: int64"
      ]
     },
     "execution_count": 225,
     "metadata": {},
     "output_type": "execute_result"
    }
   ],
   "source": [
    "#Uniques values in each column\n",
    "lead.nunique()"
   ]
  },
  {
   "cell_type": "markdown",
   "metadata": {},
   "source": [
    "### As mentioned in the problem statement many of the categorical variables have a level called 'Select' which needs to be handled because it is as good as a null value.\n",
    "\n",
    "Hence replacing the 'Select' via Nan"
   ]
  },
  {
   "cell_type": "code",
   "execution_count": 226,
   "metadata": {},
   "outputs": [
    {
     "data": {
      "text/plain": [
       "Prospect_ID                                     0.00 \n",
       "Lead_Number                                     0.00 \n",
       "Lead_Origin                                     0.00 \n",
       "Lead_Source                                     0.39 \n",
       "Do_Not_Email                                    0.00 \n",
       "Do_Not_Call                                     0.00 \n",
       "Converted                                       0.00 \n",
       "TotalVisits                                     1.48 \n",
       "Total_Time_Spent_on_Website                     0.00 \n",
       "Page_Views_Per_Visit                            1.48 \n",
       "Last_Activity                                   1.11 \n",
       "Country                                         26.63\n",
       "Specialization                                  36.58\n",
       "How_did_you_hear_about_X_Education              78.46\n",
       "What_is_your_current_occupation                 29.11\n",
       "What_matters_most_to_you_in_choosing_a_course   29.32\n",
       "Search                                          0.00 \n",
       "Magazine                                        0.00 \n",
       "Newspaper_Article                               0.00 \n",
       "X_Education_Forums                              0.00 \n",
       "Newspaper                                       0.00 \n",
       "Digital_Advertisement                           0.00 \n",
       "Through_Recommendations                         0.00 \n",
       "Receive_More_Updates_About_Our_Courses          0.00 \n",
       "Tags                                            36.29\n",
       "Lead_Quality                                    51.59\n",
       "Update_me_on_Supply_Chain_Content               0.00 \n",
       "Get_updates_on_DM_Content                       0.00 \n",
       "Lead_Profile                                    74.19\n",
       "City                                            39.71\n",
       "Asymmetrique_Activity_Index                     45.65\n",
       "Asymmetrique_Profile_Index                      45.65\n",
       "Asymmetrique_Activity_Score                     45.65\n",
       "Asymmetrique_Profile_Score                      45.65\n",
       "I_agree_to_pay_the_amount_through_cheque        0.00 \n",
       "A_free_copy_of_Mastering_The_Interview          0.00 \n",
       "Last_Notable_Activity                           0.00 \n",
       "dtype: float64"
      ]
     },
     "execution_count": 226,
     "metadata": {},
     "output_type": "execute_result"
    }
   ],
   "source": [
    "lead=lead.replace('Select',np.nan)\n",
    "\n",
    "# Checking the percentage of missing values\n",
    "round(100*(lead.isnull().sum()/len(lead.index)), 2)"
   ]
  },
  {
   "cell_type": "code",
   "execution_count": 227,
   "metadata": {},
   "outputs": [],
   "source": [
    "##drop columns which are having more than 35% null values and some unnecessary columns\n",
    "lead = lead.drop(['Asymmetrique_Profile_Index','Asymmetrique_Activity_Index','Asymmetrique_Activity_Score','Asymmetrique_Profile_Score','Lead_Profile','Tags','Lead_Quality','How_did_you_hear_about_X_Education','City','Lead_Number'],axis=1)"
   ]
  },
  {
   "cell_type": "code",
   "execution_count": 228,
   "metadata": {},
   "outputs": [
    {
     "data": {
      "text/plain": [
       "Prospect_ID                                     0.00 \n",
       "Lead_Origin                                     0.00 \n",
       "Lead_Source                                     0.39 \n",
       "Do_Not_Email                                    0.00 \n",
       "Do_Not_Call                                     0.00 \n",
       "Converted                                       0.00 \n",
       "TotalVisits                                     1.48 \n",
       "Total_Time_Spent_on_Website                     0.00 \n",
       "Page_Views_Per_Visit                            1.48 \n",
       "Last_Activity                                   1.11 \n",
       "Country                                         26.63\n",
       "Specialization                                  36.58\n",
       "What_is_your_current_occupation                 29.11\n",
       "What_matters_most_to_you_in_choosing_a_course   29.32\n",
       "Search                                          0.00 \n",
       "Magazine                                        0.00 \n",
       "Newspaper_Article                               0.00 \n",
       "X_Education_Forums                              0.00 \n",
       "Newspaper                                       0.00 \n",
       "Digital_Advertisement                           0.00 \n",
       "Through_Recommendations                         0.00 \n",
       "Receive_More_Updates_About_Our_Courses          0.00 \n",
       "Update_me_on_Supply_Chain_Content               0.00 \n",
       "Get_updates_on_DM_Content                       0.00 \n",
       "I_agree_to_pay_the_amount_through_cheque        0.00 \n",
       "A_free_copy_of_Mastering_The_Interview          0.00 \n",
       "Last_Notable_Activity                           0.00 \n",
       "dtype: float64"
      ]
     },
     "execution_count": 228,
     "metadata": {},
     "output_type": "execute_result"
    }
   ],
   "source": [
    "# Checking the percentage of missing values\n",
    "round(100*(lead.isnull().sum()/len(lead.index)), 2)"
   ]
  },
  {
   "cell_type": "code",
   "execution_count": 229,
   "metadata": {},
   "outputs": [
    {
     "data": {
      "text/plain": [
       "Prospect_ID                                      9240\n",
       "Lead_Origin                                      5   \n",
       "Lead_Source                                      21  \n",
       "Do_Not_Email                                     2   \n",
       "Do_Not_Call                                      2   \n",
       "Converted                                        2   \n",
       "TotalVisits                                      41  \n",
       "Total_Time_Spent_on_Website                      1731\n",
       "Page_Views_Per_Visit                             114 \n",
       "Last_Activity                                    17  \n",
       "Country                                          38  \n",
       "Specialization                                   18  \n",
       "What_is_your_current_occupation                  6   \n",
       "What_matters_most_to_you_in_choosing_a_course    3   \n",
       "Search                                           2   \n",
       "Magazine                                         1   \n",
       "Newspaper_Article                                2   \n",
       "X_Education_Forums                               2   \n",
       "Newspaper                                        2   \n",
       "Digital_Advertisement                            2   \n",
       "Through_Recommendations                          2   \n",
       "Receive_More_Updates_About_Our_Courses           1   \n",
       "Update_me_on_Supply_Chain_Content                1   \n",
       "Get_updates_on_DM_Content                        1   \n",
       "I_agree_to_pay_the_amount_through_cheque         1   \n",
       "A_free_copy_of_Mastering_The_Interview           2   \n",
       "Last_Notable_Activity                            16  \n",
       "dtype: int64"
      ]
     },
     "execution_count": 229,
     "metadata": {},
     "output_type": "execute_result"
    }
   ],
   "source": [
    "#We will now remove columns with single value\n",
    "lead.nunique()"
   ]
  },
  {
   "cell_type": "code",
   "execution_count": 230,
   "metadata": {},
   "outputs": [],
   "source": [
    "## drop the columns which is having a single value\n",
    "lead=lead.drop(['Magazine','Receive_More_Updates_About_Our_Courses','I_agree_to_pay_the_amount_through_cheque','Get_updates_on_DM_Content','Update_me_on_Supply_Chain_Content'],axis=1)"
   ]
  },
  {
   "cell_type": "markdown",
   "metadata": {},
   "source": [
    "## Plotting the contibuous variables against target variable"
   ]
  },
  {
   "cell_type": "code",
   "execution_count": 231,
   "metadata": {},
   "outputs": [
    {
     "data": {
      "text/plain": [
       "<matplotlib.axes._subplots.AxesSubplot at 0x20734efcf98>"
      ]
     },
     "execution_count": 231,
     "metadata": {},
     "output_type": "execute_result"
    },
    {
     "data": {
      "image/png": "[encoded data removed]",
      "text/plain": [
       "<Figure size 432x288 with 1 Axes>"
      ]
     },
     "metadata": {
      "needs_background": "light"
     },
     "output_type": "display_data"
    }
   ],
   "source": [
    "\n",
    "sns.barplot(x=lead['Converted'],y=lead['Total_Time_Spent_on_Website']) ##As there is good amount of variance so this variable can be a good predictor"
   ]
  },
  {
   "cell_type": "code",
   "execution_count": 232,
   "metadata": {},
   "outputs": [
    {
     "data": {
      "text/plain": [
       "<matplotlib.axes._subplots.AxesSubplot at 0x20734b32a58>"
      ]
     },
     "execution_count": 232,
     "metadata": {},
     "output_type": "execute_result"
    },
    {
     "data": {
      "image/png": "[encoded data removed]",
      "text/plain": [
       "<Figure size 432x288 with 1 Axes>"
      ]
     },
     "metadata": {
      "needs_background": "light"
     },
     "output_type": "display_data"
    }
   ],
   "source": [
    "sns.barplot(x=lead['Converted'],y=lead['TotalVisits'])  ##As there is no significant variance so this variable may not be good predicto"
   ]
  },
  {
   "cell_type": "code",
   "execution_count": 233,
   "metadata": {},
   "outputs": [
    {
     "data": {
      "text/plain": [
       "<matplotlib.axes._subplots.AxesSubplot at 0x20737859550>"
      ]
     },
     "execution_count": 233,
     "metadata": {},
     "output_type": "execute_result"
    },
    {
     "data": {
      "image/png": "[encoded data removed]",
      "text/plain": [
       "<Figure size 432x288 with 1 Axes>"
      ]
     },
     "metadata": {
      "needs_background": "light"
     },
     "output_type": "display_data"
    }
   ],
   "source": [
    "sns.barplot(x=lead['Converted'],y=lead['Page_Views_Per_Visit']) ##As there is no significant variance so this variable may not be good predictor"
   ]
  },
  {
   "cell_type": "markdown",
   "metadata": {},
   "source": [
    "## Checking type and number of categories in categorical variable"
   ]
  },
  {
   "cell_type": "code",
   "execution_count": 234,
   "metadata": {},
   "outputs": [
    {
     "name": "stdout",
     "output_type": "stream",
     "text": [
      "Landing Page Submission    4886\n",
      "API                        3580\n",
      "Lead Add Form              718 \n",
      "Lead Import                55  \n",
      "Quick Add Form             1   \n",
      "Name: Lead_Origin, dtype: int64\n",
      "NaN count 0\n"
     ]
    }
   ],
   "source": [
    "print(lead[\"Lead_Origin\"].value_counts())\n",
    "print('NaN count', lead[\"Lead_Origin\"].isnull().sum())\n",
    "## Lead import and quick have very few enteries so it would be good to merge it with other categories or remove these record"
   ]
  },
  {
   "cell_type": "code",
   "execution_count": 235,
   "metadata": {},
   "outputs": [
    {
     "name": "stdout",
     "output_type": "stream",
     "text": [
      "Google               2868\n",
      "Direct Traffic       2543\n",
      "Olark Chat           1755\n",
      "Organic Search       1154\n",
      "Reference            534 \n",
      "Welingak Website     142 \n",
      "Referral Sites       125 \n",
      "Facebook             55  \n",
      "bing                 6   \n",
      "google               5   \n",
      "Click2call           4   \n",
      "Press_Release        2   \n",
      "Social Media         2   \n",
      "Live Chat            2   \n",
      "Pay per Click Ads    1   \n",
      "testone              1   \n",
      "youtubechannel       1   \n",
      "welearnblog_Home     1   \n",
      "blog                 1   \n",
      "WeLearn              1   \n",
      "NC_EDM               1   \n",
      "Name: Lead_Source, dtype: int64\n",
      "NaN count 36\n"
     ]
    }
   ],
   "source": [
    "print(lead[\"Lead_Source\"].value_counts())\n",
    "print('NaN count', lead[\"Lead_Source\"].isnull().sum())\n",
    "## many categories ahve very few enteries so it would be good to merge them with other categories or remove these record"
   ]
  },
  {
   "cell_type": "code",
   "execution_count": 236,
   "metadata": {},
   "outputs": [
    {
     "name": "stdout",
     "output_type": "stream",
     "text": [
      "No     8506\n",
      "Yes    734 \n",
      "Name: Do_Not_Email, dtype: int64\n",
      "NaN count 0\n"
     ]
    }
   ],
   "source": [
    "print(lead[\"Do_Not_Email\"].value_counts())\n",
    "print('NaN count', lead[\"Do_Not_Email\"].isnull().sum())\n",
    "##dne has dominance of \"yes\" so it may not be good predictor"
   ]
  },
  {
   "cell_type": "code",
   "execution_count": 237,
   "metadata": {},
   "outputs": [
    {
     "name": "stdout",
     "output_type": "stream",
     "text": [
      "No     9238\n",
      "Yes    2   \n",
      "Name: Do_Not_Call, dtype: int64\n",
      "NaN count 0\n"
     ]
    }
   ],
   "source": [
    "print(lead[\"Do_Not_Call\"].value_counts())\n",
    "print('NaN count', lead[\"Do_Not_Call\"].isnull().sum())\n",
    "##\"yes\" has only two records so it would be better to drop the variable"
   ]
  },
  {
   "cell_type": "code",
   "execution_count": 238,
   "metadata": {},
   "outputs": [
    {
     "name": "stdout",
     "output_type": "stream",
     "text": [
      "India                   6492\n",
      "United States           69  \n",
      "United Arab Emirates    53  \n",
      "Singapore               24  \n",
      "Saudi Arabia            21  \n",
      "United Kingdom          15  \n",
      "Australia               13  \n",
      "Qatar                   10  \n",
      "Bahrain                 7   \n",
      "Hong Kong               7   \n",
      "France                  6   \n",
      "Oman                    6   \n",
      "unknown                 5   \n",
      "Germany                 4   \n",
      "Kuwait                  4   \n",
      "South Africa            4   \n",
      "Nigeria                 4   \n",
      "Canada                  4   \n",
      "Sweden                  3   \n",
      "Uganda                  2   \n",
      "Ghana                   2   \n",
      "Philippines             2   \n",
      "Italy                   2   \n",
      "Asia/Pacific Region     2   \n",
      "Netherlands             2   \n",
      "China                   2   \n",
      "Bangladesh              2   \n",
      "Belgium                 2   \n",
      "Sri Lanka               1   \n",
      "Indonesia               1   \n",
      "Malaysia                1   \n",
      "Kenya                   1   \n",
      "Vietnam                 1   \n",
      "Denmark                 1   \n",
      "Switzerland             1   \n",
      "Russia                  1   \n",
      "Tanzania                1   \n",
      "Liberia                 1   \n",
      "Name: Country, dtype: int64\n",
      "NaN count 2461\n"
     ]
    }
   ],
   "source": [
    "print(lead[\"Country\"].value_counts())\n",
    "print('NaN count', lead[\"Country\"].isnull().sum())\n",
    "## many categories have very few enteries so it would be good to merge them with other categories or create new category for them\n",
    "##NaN  can be clubbed to make new category \"Not Declared\""
   ]
  },
  {
   "cell_type": "code",
   "execution_count": 239,
   "metadata": {},
   "outputs": [
    {
     "name": "stdout",
     "output_type": "stream",
     "text": [
      "Finance Management                   976\n",
      "Human Resource Management            848\n",
      "Marketing Management                 838\n",
      "Operations Management                503\n",
      "Business Administration              403\n",
      "IT Projects Management               366\n",
      "Supply Chain Management              349\n",
      "Banking, Investment And Insurance    338\n",
      "Media and Advertising                203\n",
      "Travel and Tourism                   203\n",
      "International Business               178\n",
      "Healthcare Management                159\n",
      "Hospitality Management               114\n",
      "E-COMMERCE                           112\n",
      "Retail Management                    100\n",
      "Rural and Agribusiness               73 \n",
      "E-Business                           57 \n",
      "Services Excellence                  40 \n",
      "Name: Specialization, dtype: int64\n",
      "NaN count 3380\n"
     ]
    }
   ],
   "source": [
    "print(lead[\"Specialization\"].value_counts())\n",
    "print('NaN count', lead[\"Specialization\"].isnull().sum())\n",
    "##it seems a normal distribution so we will keep it as it is\n",
    "##NaN and Select can be clubbed to make new category \"Not Declared\""
   ]
  },
  {
   "cell_type": "code",
   "execution_count": 240,
   "metadata": {},
   "outputs": [
    {
     "name": "stdout",
     "output_type": "stream",
     "text": [
      "Unemployed              5600\n",
      "Working Professional    706 \n",
      "Student                 210 \n",
      "Other                   16  \n",
      "Housewife               10  \n",
      "Businessman             8   \n",
      "Name: What_is_your_current_occupation, dtype: int64\n",
      "NaN count 2690\n"
     ]
    }
   ],
   "source": [
    "print(lead[\"What_is_your_current_occupation\"].value_counts())\n",
    "print('NaN count', lead[\"What_is_your_current_occupation\"].isnull().sum())\n",
    "##categories less than 100 should be removed to make it significant\n",
    "##instead of dropping \"NaN\", they can be assigned new category \"not declared\""
   ]
  },
  {
   "cell_type": "code",
   "execution_count": 241,
   "metadata": {},
   "outputs": [
    {
     "name": "stdout",
     "output_type": "stream",
     "text": [
      "Better Career Prospects      6528\n",
      "Flexibility & Convenience    2   \n",
      "Other                        1   \n",
      "Name: What_matters_most_to_you_in_choosing_a_course, dtype: int64\n",
      "NaN count 2709\n"
     ]
    }
   ],
   "source": [
    "print(lead[\"What_matters_most_to_you_in_choosing_a_course\"].value_counts())\n",
    "print('NaN count', lead[\"What_matters_most_to_you_in_choosing_a_course\"].isnull().sum())\n",
    "##NaN and Select can be clubbed to make new category \"Not Declared\"\n",
    "## Flexibility & Convenience     and Other  should be removed"
   ]
  },
  {
   "cell_type": "code",
   "execution_count": 242,
   "metadata": {},
   "outputs": [
    {
     "name": "stdout",
     "output_type": "stream",
     "text": [
      "No     9226\n",
      "Yes    14  \n",
      "Name: Search, dtype: int64\n",
      "NaN count 0\n"
     ]
    }
   ],
   "source": [
    "print(lead[\"Search\"].value_counts())\n",
    "print('NaN count', lead[\"Search\"].isnull().sum())\n",
    "####\"yes\" has only 14 records so it would be better to drop the variable"
   ]
  },
  {
   "cell_type": "code",
   "execution_count": 243,
   "metadata": {},
   "outputs": [
    {
     "name": "stdout",
     "output_type": "stream",
     "text": [
      "No     9238\n",
      "Yes    2   \n",
      "Name: Newspaper_Article, dtype: int64\n",
      "NaN count 0\n"
     ]
    }
   ],
   "source": [
    "print(lead[\"Newspaper_Article\"].value_counts())\n",
    "print('NaN count', lead[\"Newspaper_Article\"].isnull().sum())\n",
    "##drop the variable"
   ]
  },
  {
   "cell_type": "code",
   "execution_count": 244,
   "metadata": {},
   "outputs": [
    {
     "name": "stdout",
     "output_type": "stream",
     "text": [
      "No     9239\n",
      "Yes    1   \n",
      "Name: X_Education_Forums, dtype: int64\n",
      "NaN count 0\n"
     ]
    }
   ],
   "source": [
    "print(lead[\"X_Education_Forums\"].value_counts())\n",
    "print('NaN count', lead[\"X_Education_Forums\"].isnull().sum())\n",
    "##drop the variable"
   ]
  },
  {
   "cell_type": "code",
   "execution_count": 245,
   "metadata": {},
   "outputs": [
    {
     "name": "stdout",
     "output_type": "stream",
     "text": [
      "No     9239\n",
      "Yes    1   \n",
      "Name: Newspaper, dtype: int64\n",
      "NaN count 0\n"
     ]
    }
   ],
   "source": [
    "print(lead[\"Newspaper\"].value_counts())\n",
    "print('NaN count', lead[\"Newspaper\"].isnull().sum())\n",
    "#drop the variable"
   ]
  },
  {
   "cell_type": "code",
   "execution_count": 246,
   "metadata": {},
   "outputs": [
    {
     "name": "stdout",
     "output_type": "stream",
     "text": [
      "No     9236\n",
      "Yes    4   \n",
      "Name: Digital_Advertisement, dtype: int64\n",
      "NaN count 0\n"
     ]
    }
   ],
   "source": [
    "print(lead[\"Digital_Advertisement\"].value_counts())\n",
    "print('NaN count', lead[\"Digital_Advertisement\"].isnull().sum())\n",
    "#drop the variable"
   ]
  },
  {
   "cell_type": "code",
   "execution_count": 247,
   "metadata": {},
   "outputs": [
    {
     "name": "stdout",
     "output_type": "stream",
     "text": [
      "No     9233\n",
      "Yes    7   \n",
      "Name: Through_Recommendations, dtype: int64\n",
      "NaN count 0\n"
     ]
    }
   ],
   "source": [
    "print(lead[\"Through_Recommendations\"].value_counts())\n",
    "print('NaN count', lead[\"Through_Recommendations\"].isnull().sum())\n",
    "#drop the variable"
   ]
  },
  {
   "cell_type": "code",
   "execution_count": 248,
   "metadata": {},
   "outputs": [
    {
     "name": "stdout",
     "output_type": "stream",
     "text": [
      "No     6352\n",
      "Yes    2888\n",
      "Name: A_free_copy_of_Mastering_The_Interview, dtype: int64\n",
      "NaN count 0\n"
     ]
    }
   ],
   "source": [
    "print(lead[\"A_free_copy_of_Mastering_The_Interview\"].value_counts())\n",
    "print('NaN count', lead[\"A_free_copy_of_Mastering_The_Interview\"].isnull().sum())\n",
    "#keep the varible"
   ]
  },
  {
   "cell_type": "code",
   "execution_count": 249,
   "metadata": {},
   "outputs": [
    {
     "name": "stdout",
     "output_type": "stream",
     "text": [
      "Modified                        3407\n",
      "Email Opened                    2827\n",
      "SMS Sent                        2172\n",
      "Page Visited on Website         318 \n",
      "Olark Chat Conversation         183 \n",
      "Email Link Clicked              173 \n",
      "Email Bounced                   60  \n",
      "Unsubscribed                    47  \n",
      "Unreachable                     32  \n",
      "Had a Phone Conversation        14  \n",
      "Email Marked Spam               2   \n",
      "Email Received                  1   \n",
      "Resubscribed to emails          1   \n",
      "Approached upfront              1   \n",
      "Form Submitted on Website       1   \n",
      "View in browser link Clicked    1   \n",
      "Name: Last_Notable_Activity, dtype: int64\n",
      "NaN count 0\n"
     ]
    }
   ],
   "source": [
    "print(lead[\"Last_Notable_Activity\"].value_counts())\n",
    "print('NaN count', lead[\"Last_Notable_Activity\"].isnull().sum())\n",
    "##drop the categories with records less than 100"
   ]
  },
  {
   "cell_type": "code",
   "execution_count": 250,
   "metadata": {},
   "outputs": [
    {
     "name": "stdout",
     "output_type": "stream",
     "text": [
      "Email Opened                    3437\n",
      "SMS Sent                        2745\n",
      "Olark Chat Conversation         973 \n",
      "Page Visited on Website         640 \n",
      "Converted to Lead               428 \n",
      "Email Bounced                   326 \n",
      "Email Link Clicked              267 \n",
      "Form Submitted on Website       116 \n",
      "Unreachable                     93  \n",
      "Unsubscribed                    61  \n",
      "Had a Phone Conversation        30  \n",
      "Approached upfront              9   \n",
      "View in browser link Clicked    6   \n",
      "Email Received                  2   \n",
      "Email Marked Spam               2   \n",
      "Visited Booth in Tradeshow      1   \n",
      "Resubscribed to emails          1   \n",
      "Name: Last_Activity, dtype: int64\n",
      "NaN count 103\n"
     ]
    }
   ],
   "source": [
    "print(lead[\"Last_Activity\"].value_counts())\n",
    "print('NaN count', lead[\"Last_Activity\"].isnull().sum())\n",
    "##it does not add much information as same thing is captured in the \"last natable activity\" variable"
   ]
  },
  {
   "cell_type": "code",
   "execution_count": 251,
   "metadata": {},
   "outputs": [
    {
     "name": "stdout",
     "output_type": "stream",
     "text": [
      "(9240, 22)\n"
     ]
    },
    {
     "data": {
      "text/html": [
       "<div>\n",
       "<style scoped>\n",
       "    .dataframe tbody tr th:only-of-type {\n",
       "        vertical-align: middle;\n",
       "    }\n",
       "\n",
       "    .dataframe tbody tr th {\n",
       "        vertical-align: top;\n",
       "    }\n",
       "\n",
       "    .dataframe thead th {\n",
       "        text-align: right;\n",
       "    }\n",
       "</style>\n",
       "<table border=\"1\" class=\"dataframe\">\n",
       "  <thead>\n",
       "    <tr style=\"text-align: right;\">\n",
       "      <th></th>\n",
       "      <th>Prospect_ID</th>\n",
       "      <th>Lead_Origin</th>\n",
       "      <th>Lead_Source</th>\n",
       "      <th>Do_Not_Email</th>\n",
       "      <th>Do_Not_Call</th>\n",
       "      <th>Converted</th>\n",
       "      <th>TotalVisits</th>\n",
       "      <th>Total_Time_Spent_on_Website</th>\n",
       "      <th>Page_Views_Per_Visit</th>\n",
       "      <th>Last_Activity</th>\n",
       "      <th>Country</th>\n",
       "      <th>Specialization</th>\n",
       "      <th>What_is_your_current_occupation</th>\n",
       "      <th>What_matters_most_to_you_in_choosing_a_course</th>\n",
       "      <th>Search</th>\n",
       "      <th>Newspaper_Article</th>\n",
       "      <th>X_Education_Forums</th>\n",
       "      <th>Newspaper</th>\n",
       "      <th>Digital_Advertisement</th>\n",
       "      <th>Through_Recommendations</th>\n",
       "      <th>A_free_copy_of_Mastering_The_Interview</th>\n",
       "      <th>Last_Notable_Activity</th>\n",
       "    </tr>\n",
       "  </thead>\n",
       "  <tbody>\n",
       "    <tr>\n",
       "      <th>0</th>\n",
       "      <td>7927b2df-8bba-4d29-b9a2-b6e0beafe620</td>\n",
       "      <td>API</td>\n",
       "      <td>Olark Chat</td>\n",
       "      <td>No</td>\n",
       "      <td>No</td>\n",
       "      <td>0</td>\n",
       "      <td>0.00</td>\n",
       "      <td>0</td>\n",
       "      <td>0.00</td>\n",
       "      <td>Page Visited on Website</td>\n",
       "      <td>NaN</td>\n",
       "      <td>NaN</td>\n",
       "      <td>Unemployed</td>\n",
       "      <td>Better Career Prospects</td>\n",
       "      <td>No</td>\n",
       "      <td>No</td>\n",
       "      <td>No</td>\n",
       "      <td>No</td>\n",
       "      <td>No</td>\n",
       "      <td>No</td>\n",
       "      <td>No</td>\n",
       "      <td>Modified</td>\n",
       "    </tr>\n",
       "    <tr>\n",
       "      <th>1</th>\n",
       "      <td>2a272436-5132-4136-86fa-dcc88c88f482</td>\n",
       "      <td>API</td>\n",
       "      <td>Organic Search</td>\n",
       "      <td>No</td>\n",
       "      <td>No</td>\n",
       "      <td>0</td>\n",
       "      <td>5.00</td>\n",
       "      <td>674</td>\n",
       "      <td>2.50</td>\n",
       "      <td>Email Opened</td>\n",
       "      <td>India</td>\n",
       "      <td>NaN</td>\n",
       "      <td>Unemployed</td>\n",
       "      <td>Better Career Prospects</td>\n",
       "      <td>No</td>\n",
       "      <td>No</td>\n",
       "      <td>No</td>\n",
       "      <td>No</td>\n",
       "      <td>No</td>\n",
       "      <td>No</td>\n",
       "      <td>No</td>\n",
       "      <td>Email Opened</td>\n",
       "    </tr>\n",
       "    <tr>\n",
       "      <th>2</th>\n",
       "      <td>8cc8c611-a219-4f35-ad23-fdfd2656bd8a</td>\n",
       "      <td>Landing Page Submission</td>\n",
       "      <td>Direct Traffic</td>\n",
       "      <td>No</td>\n",
       "      <td>No</td>\n",
       "      <td>1</td>\n",
       "      <td>2.00</td>\n",
       "      <td>1532</td>\n",
       "      <td>2.00</td>\n",
       "      <td>Email Opened</td>\n",
       "      <td>India</td>\n",
       "      <td>Business Administration</td>\n",
       "      <td>Student</td>\n",
       "      <td>Better Career Prospects</td>\n",
       "      <td>No</td>\n",
       "      <td>No</td>\n",
       "      <td>No</td>\n",
       "      <td>No</td>\n",
       "      <td>No</td>\n",
       "      <td>No</td>\n",
       "      <td>Yes</td>\n",
       "      <td>Email Opened</td>\n",
       "    </tr>\n",
       "    <tr>\n",
       "      <th>3</th>\n",
       "      <td>0cc2df48-7cf4-4e39-9de9-19797f9b38cc</td>\n",
       "      <td>Landing Page Submission</td>\n",
       "      <td>Direct Traffic</td>\n",
       "      <td>No</td>\n",
       "      <td>No</td>\n",
       "      <td>0</td>\n",
       "      <td>1.00</td>\n",
       "      <td>305</td>\n",
       "      <td>1.00</td>\n",
       "      <td>Unreachable</td>\n",
       "      <td>India</td>\n",
       "      <td>Media and Advertising</td>\n",
       "      <td>Unemployed</td>\n",
       "      <td>Better Career Prospects</td>\n",
       "      <td>No</td>\n",
       "      <td>No</td>\n",
       "      <td>No</td>\n",
       "      <td>No</td>\n",
       "      <td>No</td>\n",
       "      <td>No</td>\n",
       "      <td>No</td>\n",
       "      <td>Modified</td>\n",
       "    </tr>\n",
       "    <tr>\n",
       "      <th>4</th>\n",
       "      <td>3256f628-e534-4826-9d63-4a8b88782852</td>\n",
       "      <td>Landing Page Submission</td>\n",
       "      <td>Google</td>\n",
       "      <td>No</td>\n",
       "      <td>No</td>\n",
       "      <td>1</td>\n",
       "      <td>2.00</td>\n",
       "      <td>1428</td>\n",
       "      <td>1.00</td>\n",
       "      <td>Converted to Lead</td>\n",
       "      <td>India</td>\n",
       "      <td>NaN</td>\n",
       "      <td>Unemployed</td>\n",
       "      <td>Better Career Prospects</td>\n",
       "      <td>No</td>\n",
       "      <td>No</td>\n",
       "      <td>No</td>\n",
       "      <td>No</td>\n",
       "      <td>No</td>\n",
       "      <td>No</td>\n",
       "      <td>No</td>\n",
       "      <td>Modified</td>\n",
       "    </tr>\n",
       "  </tbody>\n",
       "</table>\n",
       "</div>"
      ],
      "text/plain": [
       "                            Prospect_ID              Lead_Origin  \\\n",
       "0  7927b2df-8bba-4d29-b9a2-b6e0beafe620  API                       \n",
       "1  2a272436-5132-4136-86fa-dcc88c88f482  API                       \n",
       "2  8cc8c611-a219-4f35-ad23-fdfd2656bd8a  Landing Page Submission   \n",
       "3  0cc2df48-7cf4-4e39-9de9-19797f9b38cc  Landing Page Submission   \n",
       "4  3256f628-e534-4826-9d63-4a8b88782852  Landing Page Submission   \n",
       "\n",
       "      Lead_Source Do_Not_Email Do_Not_Call  Converted  TotalVisits  \\\n",
       "0  Olark Chat      No           No          0         0.00           \n",
       "1  Organic Search  No           No          0         5.00           \n",
       "2  Direct Traffic  No           No          1         2.00           \n",
       "3  Direct Traffic  No           No          0         1.00           \n",
       "4  Google          No           No          1         2.00           \n",
       "\n",
       "   Total_Time_Spent_on_Website  Page_Views_Per_Visit            Last_Activity  \\\n",
       "0  0                           0.00                   Page Visited on Website   \n",
       "1  674                         2.50                   Email Opened              \n",
       "2  1532                        2.00                   Email Opened              \n",
       "3  305                         1.00                   Unreachable               \n",
       "4  1428                        1.00                   Converted to Lead         \n",
       "\n",
       "  Country           Specialization What_is_your_current_occupation  \\\n",
       "0  NaN     NaN                      Unemployed                       \n",
       "1  India   NaN                      Unemployed                       \n",
       "2  India   Business Administration  Student                          \n",
       "3  India   Media and Advertising    Unemployed                       \n",
       "4  India   NaN                      Unemployed                       \n",
       "\n",
       "  What_matters_most_to_you_in_choosing_a_course Search Newspaper_Article  \\\n",
       "0  Better Career Prospects                       No     No                 \n",
       "1  Better Career Prospects                       No     No                 \n",
       "2  Better Career Prospects                       No     No                 \n",
       "3  Better Career Prospects                       No     No                 \n",
       "4  Better Career Prospects                       No     No                 \n",
       "\n",
       "  X_Education_Forums Newspaper Digital_Advertisement Through_Recommendations  \\\n",
       "0  No                 No        No                    No                       \n",
       "1  No                 No        No                    No                       \n",
       "2  No                 No        No                    No                       \n",
       "3  No                 No        No                    No                       \n",
       "4  No                 No        No                    No                       \n",
       "\n",
       "  A_free_copy_of_Mastering_The_Interview Last_Notable_Activity  \n",
       "0  No                                     Modified              \n",
       "1  No                                     Email Opened          \n",
       "2  Yes                                    Email Opened          \n",
       "3  No                                     Modified              \n",
       "4  No                                     Modified              "
      ]
     },
     "execution_count": 251,
     "metadata": {},
     "output_type": "execute_result"
    }
   ],
   "source": [
    "print(lead.shape)\n",
    "\n",
    "lead.head()"
   ]
  },
  {
   "cell_type": "code",
   "execution_count": 252,
   "metadata": {},
   "outputs": [],
   "source": [
    "##Assigning categories to NaN and clubbing others as discussed in above analysis\n",
    "lead['Lead_Source'].replace('google','Google', inplace=True)\n",
    "lead['Lead_Source'].replace('Welingak Website','others', inplace=True)\n",
    "lead['Lead_Source'].replace('Referral Sites','others', inplace=True)\n",
    "lead['Lead_Source'].replace('Reference','others', inplace=True)\n",
    "lead['Specialization'].replace('Select','not declared', inplace=True) \n",
    "lead['What_matters_most_to_you_in_choosing_a_course'].fillna('not declared', inplace=True)\n",
    "lead['Country'].fillna('not declared', inplace=True)\n",
    "lead['Specialization'].fillna('not declared', inplace=True) \n",
    "lead['What_is_your_current_occupation'].fillna('not declared', inplace=True)"
   ]
  },
  {
   "cell_type": "code",
   "execution_count": 253,
   "metadata": {},
   "outputs": [],
   "source": [
    "#clubbing the countries other than India and making new category \"Outside India\"\n",
    "def slots(x):\n",
    "    category = \"\"\n",
    "    if x == \"India\":\n",
    "        category = \"India\"\n",
    "    elif x == \"not declared\":\n",
    "        category = \"Not Declared\"\n",
    "    else:\n",
    "        category = \"Outside India\"\n",
    "    return category\n",
    "\n",
    "lead['Country'] = lead.apply(lambda x:slots(x['Country']), axis = 1)"
   ]
  },
  {
   "cell_type": "code",
   "execution_count": 254,
   "metadata": {},
   "outputs": [],
   "source": [
    "##as discussed in category analysis\n",
    "##here we will drop the categories in various variables\n",
    "\n",
    "few_entries=lead[(lead['Lead_Source']=='bing') | (lead['Lead_Source']=='Facebook') | (lead['Lead_Source']=='Click2call') | \n",
    "                 (lead['Lead_Source']=='Press_Release') |\n",
    "             (lead['Lead_Source']=='Social Media') | (lead['Lead_Source']=='Live Chat') | (lead['Lead_Source']=='blog') | \n",
    "             (lead['Lead_Source']=='youtubechannel') | (lead['Lead_Source']=='NC_EDM') | (lead['Lead_Source']=='testone') |\n",
    "            (lead['Lead_Source']=='WeLearn') | (lead['Lead_Source']=='Pay per Click Ads') | (lead['Lead_Source']=='welearnblog_Home')|\n",
    "           (lead['Lead_Origin']=='Quick Add Form')|(lead['Lead_Origin']=='Lead Import') |(lead['What_is_your_current_occupation']=='Other') |\n",
    "                 (lead['What_is_your_current_occupation']=='Housewife') \n",
    "           |(lead['What_is_your_current_occupation']=='Businessman')  |(lead['What_matters_most_to_you_in_choosing_a_course']=='Flexibility & Convenience')  |\n",
    "                 (lead['What_matters_most_to_you_in_choosing_a_course']=='Other')\n",
    "            |(lead['Last_Notable_Activity']=='Unsubscribed') |(lead['Last_Notable_Activity']=='Email Bounced') |(lead['Last_Notable_Activity']=='Unreachable ')\n",
    "            |(lead['Last_Notable_Activity']=='Had a Phone Conversation') |(lead['Last_Notable_Activity']=='Email Marked Spam ') |(lead['Last_Notable_Activity']=='Approached upfront')\n",
    "            |(lead['Last_Notable_Activity']=='Form Submitted on Website') |(lead['Last_Notable_Activity']=='Resubscribed to emails') |(lead['Last_Notable_Activity']=='View in browser link Clicked')\n",
    "            |(lead['Last_Notable_Activity']=='Email Received')|(lead['Last_Notable_Activity']=='Unreachable')|(lead['Last_Notable_Activity']=='Unreachable')\n",
    "             | (lead['Specialization']=='Services Excellence')].index\n",
    "\n",
    "lead=lead.drop(few_entries)"
   ]
  },
  {
   "cell_type": "code",
   "execution_count": 255,
   "metadata": {},
   "outputs": [
    {
     "data": {
      "text/plain": [
       "(8927, 22)"
      ]
     },
     "execution_count": 255,
     "metadata": {},
     "output_type": "execute_result"
    }
   ],
   "source": [
    "lead.shape"
   ]
  },
  {
   "cell_type": "code",
   "execution_count": 256,
   "metadata": {},
   "outputs": [
    {
     "name": "stdout",
     "output_type": "stream",
     "text": [
      "<class 'pandas.core.frame.DataFrame'>\n",
      "Int64Index: 8927 entries, 0 to 9239\n",
      "Data columns (total 22 columns):\n",
      "Prospect_ID                                      8927 non-null object\n",
      "Lead_Origin                                      8927 non-null object\n",
      "Lead_Source                                      8895 non-null object\n",
      "Do_Not_Email                                     8927 non-null object\n",
      "Do_Not_Call                                      8927 non-null object\n",
      "Converted                                        8927 non-null int64\n",
      "TotalVisits                                      8818 non-null float64\n",
      "Total_Time_Spent_on_Website                      8927 non-null int64\n",
      "Page_Views_Per_Visit                             8818 non-null float64\n",
      "Last_Activity                                    8843 non-null object\n",
      "Country                                          8927 non-null object\n",
      "Specialization                                   8927 non-null object\n",
      "What_is_your_current_occupation                  8927 non-null object\n",
      "What_matters_most_to_you_in_choosing_a_course    8927 non-null object\n",
      "Search                                           8927 non-null object\n",
      "Newspaper_Article                                8927 non-null object\n",
      "X_Education_Forums                               8927 non-null object\n",
      "Newspaper                                        8927 non-null object\n",
      "Digital_Advertisement                            8927 non-null object\n",
      "Through_Recommendations                          8927 non-null object\n",
      "A_free_copy_of_Mastering_The_Interview           8927 non-null object\n",
      "Last_Notable_Activity                            8927 non-null object\n",
      "dtypes: float64(2), int64(2), object(18)\n",
      "memory usage: 1.6+ MB\n"
     ]
    }
   ],
   "source": [
    "lead.info()"
   ]
  },
  {
   "cell_type": "code",
   "execution_count": 257,
   "metadata": {},
   "outputs": [],
   "source": [
    "##dropping the non significant variables as disscussed above\n",
    "colll=['Search','Newspaper_Article','X_Education_Forums','Newspaper','Digital_Advertisement',\n",
    "      'Through_Recommendations','Do_Not_Call','Last_Activity']\n",
    "lead =lead.drop(columns=colll, axis=0)"
   ]
  },
  {
   "cell_type": "code",
   "execution_count": 258,
   "metadata": {},
   "outputs": [
    {
     "name": "stdout",
     "output_type": "stream",
     "text": [
      "Landing Page Submission    4727\n",
      "API                        3502\n",
      "Lead Add Form              698 \n",
      "Name: Lead_Origin, dtype: int64\n",
      "Google            2803\n",
      "Direct Traffic    2461\n",
      "Olark Chat        1729\n",
      "Organic Search    1119\n",
      "others            783 \n",
      "Name: Lead_Source, dtype: int64\n",
      "No     8318\n",
      "Yes    609 \n",
      "Name: Do_Not_Email, dtype: int64\n",
      "0    5486\n",
      "1    3441\n",
      "Name: Converted, dtype: int64\n",
      "India            6286\n",
      "Not Declared     2363\n",
      "Outside India    278 \n",
      "Name: Country, dtype: int64\n",
      "not declared                         3284\n",
      "Finance Management                   947 \n",
      "Human Resource Management            823 \n",
      "Marketing Management                 816 \n",
      "Operations Management                489 \n",
      "Business Administration              387 \n",
      "IT Projects Management               359 \n",
      "Supply Chain Management              338 \n",
      "Banking, Investment And Insurance    333 \n",
      "Travel and Tourism                   197 \n",
      "Media and Advertising                193 \n",
      "International Business               173 \n",
      "Healthcare Management                151 \n",
      "Hospitality Management               110 \n",
      "E-COMMERCE                           106 \n",
      "Retail Management                    95  \n",
      "Rural and Agribusiness               71  \n",
      "E-Business                           55  \n",
      "Name: Specialization, dtype: int64\n",
      "Unemployed              5411\n",
      "not declared            2622\n",
      "Working Professional    687 \n",
      "Student                 207 \n",
      "Name: What_is_your_current_occupation, dtype: int64\n",
      "Better Career Prospects    6288\n",
      "not declared               2639\n",
      "Name: What_matters_most_to_you_in_choosing_a_course, dtype: int64\n",
      "No     6134\n",
      "Yes    2793\n",
      "Name: A_free_copy_of_Mastering_The_Interview, dtype: int64\n",
      "Modified                   3333\n",
      "Email Opened               2771\n",
      "SMS Sent                   2159\n",
      "Page Visited on Website    310 \n",
      "Olark Chat Conversation    182 \n",
      "Email Link Clicked         170 \n",
      "Email Marked Spam          2   \n",
      "Name: Last_Notable_Activity, dtype: int64\n"
     ]
    }
   ],
   "source": [
    "##to check and confirm the changes made in categories \n",
    "print(lead[\"Lead_Origin\"].value_counts())\n",
    "print(lead[\"Lead_Source\"].value_counts())\n",
    "print(lead[\"Do_Not_Email\"].value_counts())\n",
    "print(lead[\"Converted\"].value_counts())\n",
    "print(lead[\"Country\"].value_counts())\n",
    "print(lead[\"Specialization\"].value_counts())\n",
    "print(lead[\"What_is_your_current_occupation\"].value_counts())\n",
    "print(lead[\"What_matters_most_to_you_in_choosing_a_course\"].value_counts())\n",
    "print(lead[\"A_free_copy_of_Mastering_The_Interview\"].value_counts())\n",
    "print(lead[\"Last_Notable_Activity\"].value_counts())"
   ]
  },
  {
   "cell_type": "code",
   "execution_count": 259,
   "metadata": {},
   "outputs": [
    {
     "data": {
      "text/plain": [
       "(8927, 14)"
      ]
     },
     "execution_count": 259,
     "metadata": {},
     "output_type": "execute_result"
    }
   ],
   "source": [
    "lead.shape"
   ]
  },
  {
   "cell_type": "code",
   "execution_count": 260,
   "metadata": {},
   "outputs": [
    {
     "name": "stdout",
     "output_type": "stream",
     "text": [
      "Page_Views_Per_Visit                            1.22\n",
      "TotalVisits                                     1.22\n",
      "Lead_Source                                     0.36\n",
      "Last_Notable_Activity                           0.00\n",
      "A_free_copy_of_Mastering_The_Interview          0.00\n",
      "What_matters_most_to_you_in_choosing_a_course   0.00\n",
      "What_is_your_current_occupation                 0.00\n",
      "Specialization                                  0.00\n",
      "Country                                         0.00\n",
      "Total_Time_Spent_on_Website                     0.00\n",
      "Converted                                       0.00\n",
      "Do_Not_Email                                    0.00\n",
      "Lead_Origin                                     0.00\n",
      "Prospect_ID                                     0.00\n",
      "dtype: float64 %\n"
     ]
    }
   ],
   "source": [
    "##checking the nulls \n",
    "print(((lead.isnull().sum()/len(lead))*100).sort_values(ascending=False),'%')"
   ]
  },
  {
   "cell_type": "markdown",
   "metadata": {},
   "source": [
    "## Frequency plotting of each categorical variable for Converted"
   ]
  },
  {
   "cell_type": "code",
   "execution_count": 261,
   "metadata": {},
   "outputs": [
    {
     "data": {
      "text/plain": [
       "<matplotlib.axes._subplots.AxesSubplot at 0x20736fe75c0>"
      ]
     },
     "execution_count": 261,
     "metadata": {},
     "output_type": "execute_result"
    },
    {
     "data": {
      "image/png": "[encoded data removed]",
      "text/plain": [
       "<Figure size 432x288 with 1 Axes>"
      ]
     },
     "metadata": {
      "needs_background": "light"
     },
     "output_type": "display_data"
    }
   ],
   "source": [
    "sns.countplot(x='Lead_Origin', hue='Converted', data=lead)"
   ]
  },
  {
   "cell_type": "code",
   "execution_count": 262,
   "metadata": {},
   "outputs": [
    {
     "data": {
      "text/plain": [
       "<matplotlib.axes._subplots.AxesSubplot at 0x20737887c50>"
      ]
     },
     "execution_count": 262,
     "metadata": {},
     "output_type": "execute_result"
    },
    {
     "data": {
      "image/png": "[encoded data removed]",
      "text/plain": [
       "<Figure size 1080x288 with 1 Axes>"
      ]
     },
     "metadata": {
      "needs_background": "light"
     },
     "output_type": "display_data"
    }
   ],
   "source": [
    "plt.figure(figsize=(15,4))\n",
    "sns.countplot(x='Lead_Source', hue='Converted', data=lead)"
   ]
  },
  {
   "cell_type": "code",
   "execution_count": 263,
   "metadata": {},
   "outputs": [
    {
     "data": {
      "text/plain": [
       "<matplotlib.axes._subplots.AxesSubplot at 0x20736fe7550>"
      ]
     },
     "execution_count": 263,
     "metadata": {},
     "output_type": "execute_result"
    },
    {
     "data": {
      "image/png": "[encoded data removed]",
      "text/plain": [
       "<Figure size 432x288 with 1 Axes>"
      ]
     },
     "metadata": {
      "needs_background": "light"
     },
     "output_type": "display_data"
    }
   ],
   "source": [
    "sns.countplot(x='Do_Not_Email', hue='Converted', data=lead)"
   ]
  },
  {
   "cell_type": "code",
   "execution_count": 264,
   "metadata": {},
   "outputs": [
    {
     "data": {
      "text/plain": [
       "<matplotlib.axes._subplots.AxesSubplot at 0x2073786f780>"
      ]
     },
     "execution_count": 264,
     "metadata": {},
     "output_type": "execute_result"
    },
    {
     "data": {
      "image/png": "[encoded data removed]",
      "text/plain": [
       "<Figure size 1080x288 with 1 Axes>"
      ]
     },
     "metadata": {
      "needs_background": "light"
     },
     "output_type": "display_data"
    }
   ],
   "source": [
    "plt.figure(figsize=(15,4))\n",
    "sns.countplot(x='Last_Notable_Activity', hue='Converted', data=lead)"
   ]
  },
  {
   "cell_type": "code",
   "execution_count": 265,
   "metadata": {},
   "outputs": [
    {
     "data": {
      "image/png": "[encoded data removed]",
      "text/plain": [
       "<Figure size 1080x288 with 1 Axes>"
      ]
     },
     "metadata": {
      "needs_background": "light"
     },
     "output_type": "display_data"
    }
   ],
   "source": [
    "plt.figure(figsize=(15,4))\n",
    "plott=sns.countplot(x='Specialization', hue='Converted', data=lead)\n",
    "for item in plott.get_xticklabels():\n",
    "    item.set_rotation(90)"
   ]
  },
  {
   "cell_type": "code",
   "execution_count": 266,
   "metadata": {},
   "outputs": [
    {
     "data": {
      "text/plain": [
       "<matplotlib.axes._subplots.AxesSubplot at 0x20738cc3be0>"
      ]
     },
     "execution_count": 266,
     "metadata": {},
     "output_type": "execute_result"
    },
    {
     "data": {
      "image/png": "[encoded data removed]",
      "text/plain": [
       "<Figure size 720x288 with 1 Axes>"
      ]
     },
     "metadata": {
      "needs_background": "light"
     },
     "output_type": "display_data"
    }
   ],
   "source": [
    "plt.figure(figsize=(10,4))\n",
    "sns.countplot(x='What_is_your_current_occupation', hue='Converted', data=lead)"
   ]
  },
  {
   "cell_type": "code",
   "execution_count": 267,
   "metadata": {},
   "outputs": [
    {
     "data": {
      "text/plain": [
       "<matplotlib.axes._subplots.AxesSubplot at 0x20738d792b0>"
      ]
     },
     "execution_count": 267,
     "metadata": {},
     "output_type": "execute_result"
    },
    {
     "data": {
      "image/png": "[encoded data removed]",
      "text/plain": [
       "<Figure size 432x288 with 1 Axes>"
      ]
     },
     "metadata": {
      "needs_background": "light"
     },
     "output_type": "display_data"
    }
   ],
   "source": [
    "sns.countplot(x='What_matters_most_to_you_in_choosing_a_course', hue='Converted', data=lead)"
   ]
  },
  {
   "cell_type": "code",
   "execution_count": 268,
   "metadata": {},
   "outputs": [
    {
     "data": {
      "text/plain": [
       "<matplotlib.axes._subplots.AxesSubplot at 0x20738dd5dd8>"
      ]
     },
     "execution_count": 268,
     "metadata": {},
     "output_type": "execute_result"
    },
    {
     "data": {
      "image/png": "[encoded data removed]",
      "text/plain": [
       "<Figure size 432x288 with 1 Axes>"
      ]
     },
     "metadata": {
      "needs_background": "light"
     },
     "output_type": "display_data"
    }
   ],
   "source": [
    "sns.countplot(x='A_free_copy_of_Mastering_The_Interview', hue='Converted', data=lead)"
   ]
  },
  {
   "cell_type": "code",
   "execution_count": 269,
   "metadata": {},
   "outputs": [
    {
     "name": "stdout",
     "output_type": "stream",
     "text": [
      "<class 'pandas.core.frame.DataFrame'>\n",
      "Int64Index: 8927 entries, 0 to 9239\n",
      "Data columns (total 14 columns):\n",
      "Prospect_ID                                      8927 non-null object\n",
      "Lead_Origin                                      8927 non-null object\n",
      "Lead_Source                                      8895 non-null object\n",
      "Do_Not_Email                                     8927 non-null object\n",
      "Converted                                        8927 non-null int64\n",
      "TotalVisits                                      8818 non-null float64\n",
      "Total_Time_Spent_on_Website                      8927 non-null int64\n",
      "Page_Views_Per_Visit                             8818 non-null float64\n",
      "Country                                          8927 non-null object\n",
      "Specialization                                   8927 non-null object\n",
      "What_is_your_current_occupation                  8927 non-null object\n",
      "What_matters_most_to_you_in_choosing_a_course    8927 non-null object\n",
      "A_free_copy_of_Mastering_The_Interview           8927 non-null object\n",
      "Last_Notable_Activity                            8927 non-null object\n",
      "dtypes: float64(2), int64(2), object(10)\n",
      "memory usage: 1.3+ MB\n"
     ]
    }
   ],
   "source": [
    "lead.info()"
   ]
  },
  {
   "cell_type": "code",
   "execution_count": 270,
   "metadata": {},
   "outputs": [
    {
     "data": {
      "text/html": [
       "<div>\n",
       "<style scoped>\n",
       "    .dataframe tbody tr th:only-of-type {\n",
       "        vertical-align: middle;\n",
       "    }\n",
       "\n",
       "    .dataframe tbody tr th {\n",
       "        vertical-align: top;\n",
       "    }\n",
       "\n",
       "    .dataframe thead th {\n",
       "        text-align: right;\n",
       "    }\n",
       "</style>\n",
       "<table border=\"1\" class=\"dataframe\">\n",
       "  <thead>\n",
       "    <tr style=\"text-align: right;\">\n",
       "      <th></th>\n",
       "      <th>TotalVisits</th>\n",
       "      <th>Total_Time_Spent_on_Website</th>\n",
       "      <th>Page_Views_Per_Visit</th>\n",
       "    </tr>\n",
       "  </thead>\n",
       "  <tbody>\n",
       "    <tr>\n",
       "      <th>count</th>\n",
       "      <td>8818.00</td>\n",
       "      <td>8927.00</td>\n",
       "      <td>8818.00</td>\n",
       "    </tr>\n",
       "    <tr>\n",
       "      <th>mean</th>\n",
       "      <td>3.44</td>\n",
       "      <td>487.51</td>\n",
       "      <td>2.36</td>\n",
       "    </tr>\n",
       "    <tr>\n",
       "      <th>std</th>\n",
       "      <td>4.89</td>\n",
       "      <td>548.22</td>\n",
       "      <td>2.16</td>\n",
       "    </tr>\n",
       "    <tr>\n",
       "      <th>min</th>\n",
       "      <td>0.00</td>\n",
       "      <td>0.00</td>\n",
       "      <td>0.00</td>\n",
       "    </tr>\n",
       "    <tr>\n",
       "      <th>25%</th>\n",
       "      <td>1.00</td>\n",
       "      <td>11.00</td>\n",
       "      <td>1.00</td>\n",
       "    </tr>\n",
       "    <tr>\n",
       "      <th>50%</th>\n",
       "      <td>3.00</td>\n",
       "      <td>247.00</td>\n",
       "      <td>2.00</td>\n",
       "    </tr>\n",
       "    <tr>\n",
       "      <th>75%</th>\n",
       "      <td>5.00</td>\n",
       "      <td>938.00</td>\n",
       "      <td>3.00</td>\n",
       "    </tr>\n",
       "    <tr>\n",
       "      <th>90%</th>\n",
       "      <td>7.00</td>\n",
       "      <td>1379.00</td>\n",
       "      <td>5.00</td>\n",
       "    </tr>\n",
       "    <tr>\n",
       "      <th>99%</th>\n",
       "      <td>17.00</td>\n",
       "      <td>1840.74</td>\n",
       "      <td>9.00</td>\n",
       "    </tr>\n",
       "    <tr>\n",
       "      <th>max</th>\n",
       "      <td>251.00</td>\n",
       "      <td>2272.00</td>\n",
       "      <td>55.00</td>\n",
       "    </tr>\n",
       "  </tbody>\n",
       "</table>\n",
       "</div>"
      ],
      "text/plain": [
       "       TotalVisits  Total_Time_Spent_on_Website  Page_Views_Per_Visit\n",
       "count 8818.00      8927.00                      8818.00              \n",
       "mean  3.44         487.51                       2.36                 \n",
       "std   4.89         548.22                       2.16                 \n",
       "min   0.00         0.00                         0.00                 \n",
       "25%   1.00         11.00                        1.00                 \n",
       "50%   3.00         247.00                       2.00                 \n",
       "75%   5.00         938.00                       3.00                 \n",
       "90%   7.00         1379.00                      5.00                 \n",
       "99%   17.00        1840.74                      9.00                 \n",
       "max   251.00       2272.00                      55.00                "
      ]
     },
     "execution_count": 270,
     "metadata": {},
     "output_type": "execute_result"
    }
   ],
   "source": [
    "numeric=lead[['TotalVisits','Total_Time_Spent_on_Website','Page_Views_Per_Visit']]\n",
    "numeric.describe(percentiles=[0.25,0.5,0.75,0.9,0.99])"
   ]
  },
  {
   "cell_type": "code",
   "execution_count": 271,
   "metadata": {},
   "outputs": [
    {
     "data": {
      "image/png": "[encoded data removed]",
      "text/plain": [
       "<Figure size 1080x360 with 3 Axes>"
      ]
     },
     "metadata": {
      "needs_background": "light"
     },
     "output_type": "display_data"
    }
   ],
   "source": [
    "\n",
    "plt.figure(figsize=(15,5))\n",
    "plt.subplot(1,3,1)\n",
    "sns.boxplot(y='Page_Views_Per_Visit', data=numeric)\n",
    "plt.subplot(1,3,2)\n",
    "sns.boxplot(y='Total_Time_Spent_on_Website', data=numeric)\n",
    "plt.subplot(1,3,3)\n",
    "sns.boxplot(y='TotalVisits', data=numeric)\n",
    "plt.show()"
   ]
  },
  {
   "cell_type": "code",
   "execution_count": 272,
   "metadata": {},
   "outputs": [
    {
     "name": "stdout",
     "output_type": "stream",
     "text": [
      "Page_Views_Per_Visit                            1.22\n",
      "TotalVisits                                     1.22\n",
      "Lead_Source                                     0.36\n",
      "Last_Notable_Activity                           0.00\n",
      "A_free_copy_of_Mastering_The_Interview          0.00\n",
      "What_matters_most_to_you_in_choosing_a_course   0.00\n",
      "What_is_your_current_occupation                 0.00\n",
      "Specialization                                  0.00\n",
      "Country                                         0.00\n",
      "Total_Time_Spent_on_Website                     0.00\n",
      "Converted                                       0.00\n",
      "Do_Not_Email                                    0.00\n",
      "Lead_Origin                                     0.00\n",
      "Prospect_ID                                     0.00\n",
      "dtype: float64 %\n"
     ]
    }
   ],
   "source": [
    "##checking the nulls \n",
    "print(((lead.isnull().sum()/len(lead))*100).sort_values(ascending=False),'%')"
   ]
  },
  {
   "cell_type": "code",
   "execution_count": 273,
   "metadata": {},
   "outputs": [],
   "source": [
    "## drop the nulls\n",
    "lead.dropna(axis=0, inplace=True)"
   ]
  },
  {
   "cell_type": "code",
   "execution_count": 274,
   "metadata": {},
   "outputs": [
    {
     "name": "stdout",
     "output_type": "stream",
     "text": [
      "(8792, 14)\n",
      "<class 'pandas.core.frame.DataFrame'>\n",
      "Int64Index: 8792 entries, 0 to 9239\n",
      "Data columns (total 14 columns):\n",
      "Prospect_ID                                      8792 non-null object\n",
      "Lead_Origin                                      8792 non-null object\n",
      "Lead_Source                                      8792 non-null object\n",
      "Do_Not_Email                                     8792 non-null object\n",
      "Converted                                        8792 non-null int64\n",
      "TotalVisits                                      8792 non-null float64\n",
      "Total_Time_Spent_on_Website                      8792 non-null int64\n",
      "Page_Views_Per_Visit                             8792 non-null float64\n",
      "Country                                          8792 non-null object\n",
      "Specialization                                   8792 non-null object\n",
      "What_is_your_current_occupation                  8792 non-null object\n",
      "What_matters_most_to_you_in_choosing_a_course    8792 non-null object\n",
      "A_free_copy_of_Mastering_The_Interview           8792 non-null object\n",
      "Last_Notable_Activity                            8792 non-null object\n",
      "dtypes: float64(2), int64(2), object(10)\n",
      "memory usage: 1.0+ MB\n",
      "None\n"
     ]
    }
   ],
   "source": [
    "print(lead.shape)\n",
    "print(lead.info())"
   ]
  },
  {
   "cell_type": "markdown",
   "metadata": {},
   "source": [
    "## Normalising the Numerical Variables"
   ]
  },
  {
   "cell_type": "code",
   "execution_count": 275,
   "metadata": {},
   "outputs": [],
   "source": [
    "cnames = [\"TotalVisits\",\"Total_Time_Spent_on_Website\",\"Page_Views_Per_Visit\"]"
   ]
  },
  {
   "cell_type": "code",
   "execution_count": 276,
   "metadata": {},
   "outputs": [
    {
     "name": "stdout",
     "output_type": "stream",
     "text": [
      "TotalVisits\n",
      "Total_Time_Spent_on_Website\n",
      "Page_Views_Per_Visit\n"
     ]
    }
   ],
   "source": [
    "#normalization\n",
    "for i in cnames:\n",
    "    print(i)\n",
    "    lead[i] = (lead[i]-min(lead[i]))/(max(lead[i])-min(lead[i]))"
   ]
  },
  {
   "cell_type": "markdown",
   "metadata": {},
   "source": [
    "## Creating Dummy Variables"
   ]
  },
  {
   "cell_type": "code",
   "execution_count": 277,
   "metadata": {},
   "outputs": [],
   "source": [
    "##Dropped those dummy variables, for which either created category or \"not declared\"\n",
    "lead['Lead_Origin'].value_counts()\n",
    "origin=pd.get_dummies(lead['Lead_Origin'],prefix='orgn')\n",
    "origin=origin.drop('orgn_Lead Add Form', axis=1)\n",
    "\n",
    "lead['Lead_Source'].value_counts()\n",
    "source=pd.get_dummies(lead['Lead_Source'],prefix='src')\n",
    "source=source.drop('src_others', axis=1)\n",
    "\n",
    "lead['Do_Not_Email'].value_counts()\n",
    "DNE=pd.get_dummies(lead['Do_Not_Email'],drop_first=True, prefix='dne')\n",
    "\n",
    "lead['Specialization'].value_counts()\n",
    "spcial=pd.get_dummies(lead['Specialization'],prefix='spcl')\n",
    "spcial=spcial.drop('spcl_not declared', axis=1)\n",
    "\n",
    "lead['What_is_your_current_occupation'].value_counts()\n",
    "occupation=pd.get_dummies(lead['What_is_your_current_occupation'],prefix='occ')\n",
    "occupation=occupation.drop('occ_not declared', axis=1)\n",
    "\n",
    "lead['What_matters_most_to_you_in_choosing_a_course'].value_counts()\n",
    "what=pd.get_dummies(lead['What_is_your_current_occupation'],prefix='what')\n",
    "what=what.drop('what_not declared', axis=1)\n",
    "\n",
    "lead['A_free_copy_of_Mastering_The_Interview'].value_counts()\n",
    "intrvw=pd.get_dummies(lead['A_free_copy_of_Mastering_The_Interview'],prefix='intrvw',drop_first=True)\n",
    "\n",
    "lead['Last_Notable_Activity'].value_counts()\n",
    "last_note=pd.get_dummies(lead['Last_Notable_Activity'],prefix='last_note')\n",
    "last_note=last_note.drop('last_note_Email Link Clicked', axis=1)\n",
    "\n",
    "lead['Country'].value_counts()\n",
    "cntry=pd.get_dummies(lead['Country'],prefix='country')\n",
    "cntry=cntry.drop('country_Not Declared', axis=1)"
   ]
  },
  {
   "cell_type": "code",
   "execution_count": 280,
   "metadata": {},
   "outputs": [
    {
     "data": {
      "text/plain": [
       "(8792, 43)"
      ]
     },
     "execution_count": 280,
     "metadata": {},
     "output_type": "execute_result"
    }
   ],
   "source": [
    "leadn=lead.drop(columns=['Prospect_ID'], axis=1)\n",
    "leadncol=['Converted','TotalVisits','Total_Time_Spent_on_Website','Page_Views_Per_Visit']\n",
    "final=pd.concat([leadn[leadncol],origin,source,DNE,spcial,occupation,what,intrvw,last_note,cntry], axis=1)\n",
    "final.shape"
   ]
  },
  {
   "cell_type": "code",
   "execution_count": 389,
   "metadata": {},
   "outputs": [
    {
     "data": {
      "text/html": [
       "<div>\n",
       "<style scoped>\n",
       "    .dataframe tbody tr th:only-of-type {\n",
       "        vertical-align: middle;\n",
       "    }\n",
       "\n",
       "    .dataframe tbody tr th {\n",
       "        vertical-align: top;\n",
       "    }\n",
       "\n",
       "    .dataframe thead th {\n",
       "        text-align: right;\n",
       "    }\n",
       "</style>\n",
       "<table border=\"1\" class=\"dataframe\">\n",
       "  <thead>\n",
       "    <tr style=\"text-align: right;\">\n",
       "      <th></th>\n",
       "      <th>Converted</th>\n",
       "      <th>TotalVisits</th>\n",
       "      <th>Total_Time_Spent_on_Website</th>\n",
       "      <th>Page_Views_Per_Visit</th>\n",
       "      <th>orgn_API</th>\n",
       "      <th>orgn_Landing Page Submission</th>\n",
       "      <th>src_Direct Traffic</th>\n",
       "      <th>src_Google</th>\n",
       "      <th>src_Olark Chat</th>\n",
       "      <th>src_Organic Search</th>\n",
       "      <th>dne_Yes</th>\n",
       "      <th>spcl_Banking, Investment And Insurance</th>\n",
       "      <th>spcl_Business Administration</th>\n",
       "      <th>spcl_E-Business</th>\n",
       "      <th>spcl_E-COMMERCE</th>\n",
       "      <th>spcl_Finance Management</th>\n",
       "      <th>spcl_Healthcare Management</th>\n",
       "      <th>spcl_Hospitality Management</th>\n",
       "      <th>spcl_Human Resource Management</th>\n",
       "      <th>spcl_IT Projects Management</th>\n",
       "      <th>spcl_International Business</th>\n",
       "      <th>spcl_Marketing Management</th>\n",
       "      <th>spcl_Media and Advertising</th>\n",
       "      <th>spcl_Operations Management</th>\n",
       "      <th>spcl_Retail Management</th>\n",
       "      <th>spcl_Rural and Agribusiness</th>\n",
       "      <th>spcl_Supply Chain Management</th>\n",
       "      <th>spcl_Travel and Tourism</th>\n",
       "      <th>occ_Student</th>\n",
       "      <th>occ_Unemployed</th>\n",
       "      <th>occ_Working Professional</th>\n",
       "      <th>what_Student</th>\n",
       "      <th>what_Unemployed</th>\n",
       "      <th>what_Working Professional</th>\n",
       "      <th>intrvw_Yes</th>\n",
       "      <th>last_note_Email Marked Spam</th>\n",
       "      <th>last_note_Email Opened</th>\n",
       "      <th>last_note_Modified</th>\n",
       "      <th>last_note_Olark Chat Conversation</th>\n",
       "      <th>last_note_Page Visited on Website</th>\n",
       "      <th>last_note_SMS Sent</th>\n",
       "      <th>country_India</th>\n",
       "      <th>country_Outside India</th>\n",
       "    </tr>\n",
       "  </thead>\n",
       "  <tbody>\n",
       "    <tr>\n",
       "      <th>0</th>\n",
       "      <td>0</td>\n",
       "      <td>0.00</td>\n",
       "      <td>0.00</td>\n",
       "      <td>0.00</td>\n",
       "      <td>1</td>\n",
       "      <td>0</td>\n",
       "      <td>0</td>\n",
       "      <td>0</td>\n",
       "      <td>1</td>\n",
       "      <td>0</td>\n",
       "      <td>0</td>\n",
       "      <td>0</td>\n",
       "      <td>0</td>\n",
       "      <td>0</td>\n",
       "      <td>0</td>\n",
       "      <td>0</td>\n",
       "      <td>0</td>\n",
       "      <td>0</td>\n",
       "      <td>0</td>\n",
       "      <td>0</td>\n",
       "      <td>0</td>\n",
       "      <td>0</td>\n",
       "      <td>0</td>\n",
       "      <td>0</td>\n",
       "      <td>0</td>\n",
       "      <td>0</td>\n",
       "      <td>0</td>\n",
       "      <td>0</td>\n",
       "      <td>0</td>\n",
       "      <td>1</td>\n",
       "      <td>0</td>\n",
       "      <td>0</td>\n",
       "      <td>1</td>\n",
       "      <td>0</td>\n",
       "      <td>0</td>\n",
       "      <td>0</td>\n",
       "      <td>0</td>\n",
       "      <td>1</td>\n",
       "      <td>0</td>\n",
       "      <td>0</td>\n",
       "      <td>0</td>\n",
       "      <td>0</td>\n",
       "      <td>0</td>\n",
       "    </tr>\n",
       "    <tr>\n",
       "      <th>1</th>\n",
       "      <td>0</td>\n",
       "      <td>0.02</td>\n",
       "      <td>0.30</td>\n",
       "      <td>0.05</td>\n",
       "      <td>1</td>\n",
       "      <td>0</td>\n",
       "      <td>0</td>\n",
       "      <td>0</td>\n",
       "      <td>0</td>\n",
       "      <td>1</td>\n",
       "      <td>0</td>\n",
       "      <td>0</td>\n",
       "      <td>0</td>\n",
       "      <td>0</td>\n",
       "      <td>0</td>\n",
       "      <td>0</td>\n",
       "      <td>0</td>\n",
       "      <td>0</td>\n",
       "      <td>0</td>\n",
       "      <td>0</td>\n",
       "      <td>0</td>\n",
       "      <td>0</td>\n",
       "      <td>0</td>\n",
       "      <td>0</td>\n",
       "      <td>0</td>\n",
       "      <td>0</td>\n",
       "      <td>0</td>\n",
       "      <td>0</td>\n",
       "      <td>0</td>\n",
       "      <td>1</td>\n",
       "      <td>0</td>\n",
       "      <td>0</td>\n",
       "      <td>1</td>\n",
       "      <td>0</td>\n",
       "      <td>0</td>\n",
       "      <td>0</td>\n",
       "      <td>1</td>\n",
       "      <td>0</td>\n",
       "      <td>0</td>\n",
       "      <td>0</td>\n",
       "      <td>0</td>\n",
       "      <td>1</td>\n",
       "      <td>0</td>\n",
       "    </tr>\n",
       "    <tr>\n",
       "      <th>2</th>\n",
       "      <td>1</td>\n",
       "      <td>0.01</td>\n",
       "      <td>0.67</td>\n",
       "      <td>0.04</td>\n",
       "      <td>0</td>\n",
       "      <td>1</td>\n",
       "      <td>1</td>\n",
       "      <td>0</td>\n",
       "      <td>0</td>\n",
       "      <td>0</td>\n",
       "      <td>0</td>\n",
       "      <td>0</td>\n",
       "      <td>1</td>\n",
       "      <td>0</td>\n",
       "      <td>0</td>\n",
       "      <td>0</td>\n",
       "      <td>0</td>\n",
       "      <td>0</td>\n",
       "      <td>0</td>\n",
       "      <td>0</td>\n",
       "      <td>0</td>\n",
       "      <td>0</td>\n",
       "      <td>0</td>\n",
       "      <td>0</td>\n",
       "      <td>0</td>\n",
       "      <td>0</td>\n",
       "      <td>0</td>\n",
       "      <td>0</td>\n",
       "      <td>1</td>\n",
       "      <td>0</td>\n",
       "      <td>0</td>\n",
       "      <td>1</td>\n",
       "      <td>0</td>\n",
       "      <td>0</td>\n",
       "      <td>1</td>\n",
       "      <td>0</td>\n",
       "      <td>1</td>\n",
       "      <td>0</td>\n",
       "      <td>0</td>\n",
       "      <td>0</td>\n",
       "      <td>0</td>\n",
       "      <td>1</td>\n",
       "      <td>0</td>\n",
       "    </tr>\n",
       "    <tr>\n",
       "      <th>3</th>\n",
       "      <td>0</td>\n",
       "      <td>0.00</td>\n",
       "      <td>0.13</td>\n",
       "      <td>0.02</td>\n",
       "      <td>0</td>\n",
       "      <td>1</td>\n",
       "      <td>1</td>\n",
       "      <td>0</td>\n",
       "      <td>0</td>\n",
       "      <td>0</td>\n",
       "      <td>0</td>\n",
       "      <td>0</td>\n",
       "      <td>0</td>\n",
       "      <td>0</td>\n",
       "      <td>0</td>\n",
       "      <td>0</td>\n",
       "      <td>0</td>\n",
       "      <td>0</td>\n",
       "      <td>0</td>\n",
       "      <td>0</td>\n",
       "      <td>0</td>\n",
       "      <td>0</td>\n",
       "      <td>1</td>\n",
       "      <td>0</td>\n",
       "      <td>0</td>\n",
       "      <td>0</td>\n",
       "      <td>0</td>\n",
       "      <td>0</td>\n",
       "      <td>0</td>\n",
       "      <td>1</td>\n",
       "      <td>0</td>\n",
       "      <td>0</td>\n",
       "      <td>1</td>\n",
       "      <td>0</td>\n",
       "      <td>0</td>\n",
       "      <td>0</td>\n",
       "      <td>0</td>\n",
       "      <td>1</td>\n",
       "      <td>0</td>\n",
       "      <td>0</td>\n",
       "      <td>0</td>\n",
       "      <td>1</td>\n",
       "      <td>0</td>\n",
       "    </tr>\n",
       "    <tr>\n",
       "      <th>4</th>\n",
       "      <td>1</td>\n",
       "      <td>0.01</td>\n",
       "      <td>0.63</td>\n",
       "      <td>0.02</td>\n",
       "      <td>0</td>\n",
       "      <td>1</td>\n",
       "      <td>0</td>\n",
       "      <td>1</td>\n",
       "      <td>0</td>\n",
       "      <td>0</td>\n",
       "      <td>0</td>\n",
       "      <td>0</td>\n",
       "      <td>0</td>\n",
       "      <td>0</td>\n",
       "      <td>0</td>\n",
       "      <td>0</td>\n",
       "      <td>0</td>\n",
       "      <td>0</td>\n",
       "      <td>0</td>\n",
       "      <td>0</td>\n",
       "      <td>0</td>\n",
       "      <td>0</td>\n",
       "      <td>0</td>\n",
       "      <td>0</td>\n",
       "      <td>0</td>\n",
       "      <td>0</td>\n",
       "      <td>0</td>\n",
       "      <td>0</td>\n",
       "      <td>0</td>\n",
       "      <td>1</td>\n",
       "      <td>0</td>\n",
       "      <td>0</td>\n",
       "      <td>1</td>\n",
       "      <td>0</td>\n",
       "      <td>0</td>\n",
       "      <td>0</td>\n",
       "      <td>0</td>\n",
       "      <td>1</td>\n",
       "      <td>0</td>\n",
       "      <td>0</td>\n",
       "      <td>0</td>\n",
       "      <td>1</td>\n",
       "      <td>0</td>\n",
       "    </tr>\n",
       "  </tbody>\n",
       "</table>\n",
       "</div>"
      ],
      "text/plain": [
       "   Converted  TotalVisits  Total_Time_Spent_on_Website  Page_Views_Per_Visit  \\\n",
       "0  0         0.00         0.00                         0.00                    \n",
       "1  0         0.02         0.30                         0.05                    \n",
       "2  1         0.01         0.67                         0.04                    \n",
       "3  0         0.00         0.13                         0.02                    \n",
       "4  1         0.01         0.63                         0.02                    \n",
       "\n",
       "   orgn_API  orgn_Landing Page Submission  src_Direct Traffic  src_Google  \\\n",
       "0  1         0                             0                   0            \n",
       "1  1         0                             0                   0            \n",
       "2  0         1                             1                   0            \n",
       "3  0         1                             1                   0            \n",
       "4  0         1                             0                   1            \n",
       "\n",
       "   src_Olark Chat  src_Organic Search  dne_Yes  \\\n",
       "0  1               0                   0         \n",
       "1  0               1                   0         \n",
       "2  0               0                   0         \n",
       "3  0               0                   0         \n",
       "4  0               0                   0         \n",
       "\n",
       "   spcl_Banking, Investment And Insurance  spcl_Business Administration  \\\n",
       "0  0                                       0                              \n",
       "1  0                                       0                              \n",
       "2  0                                       1                              \n",
       "3  0                                       0                              \n",
       "4  0                                       0                              \n",
       "\n",
       "   spcl_E-Business  spcl_E-COMMERCE  spcl_Finance Management  \\\n",
       "0  0                0                0                         \n",
       "1  0                0                0                         \n",
       "2  0                0                0                         \n",
       "3  0                0                0                         \n",
       "4  0                0                0                         \n",
       "\n",
       "   spcl_Healthcare Management  spcl_Hospitality Management  \\\n",
       "0  0                           0                             \n",
       "1  0                           0                             \n",
       "2  0                           0                             \n",
       "3  0                           0                             \n",
       "4  0                           0                             \n",
       "\n",
       "   spcl_Human Resource Management  spcl_IT Projects Management  \\\n",
       "0  0                               0                             \n",
       "1  0                               0                             \n",
       "2  0                               0                             \n",
       "3  0                               0                             \n",
       "4  0                               0                             \n",
       "\n",
       "   spcl_International Business  spcl_Marketing Management  \\\n",
       "0  0                            0                           \n",
       "1  0                            0                           \n",
       "2  0                            0                           \n",
       "3  0                            0                           \n",
       "4  0                            0                           \n",
       "\n",
       "   spcl_Media and Advertising  spcl_Operations Management  \\\n",
       "0  0                           0                            \n",
       "1  0                           0                            \n",
       "2  0                           0                            \n",
       "3  1                           0                            \n",
       "4  0                           0                            \n",
       "\n",
       "   spcl_Retail Management  spcl_Rural and Agribusiness  \\\n",
       "0  0                       0                             \n",
       "1  0                       0                             \n",
       "2  0                       0                             \n",
       "3  0                       0                             \n",
       "4  0                       0                             \n",
       "\n",
       "   spcl_Supply Chain Management  spcl_Travel and Tourism  occ_Student  \\\n",
       "0  0                             0                        0             \n",
       "1  0                             0                        0             \n",
       "2  0                             0                        1             \n",
       "3  0                             0                        0             \n",
       "4  0                             0                        0             \n",
       "\n",
       "   occ_Unemployed  occ_Working Professional  what_Student  what_Unemployed  \\\n",
       "0  1               0                         0             1                 \n",
       "1  1               0                         0             1                 \n",
       "2  0               0                         1             0                 \n",
       "3  1               0                         0             1                 \n",
       "4  1               0                         0             1                 \n",
       "\n",
       "   what_Working Professional  intrvw_Yes  last_note_Email Marked Spam  \\\n",
       "0  0                          0           0                             \n",
       "1  0                          0           0                             \n",
       "2  0                          1           0                             \n",
       "3  0                          0           0                             \n",
       "4  0                          0           0                             \n",
       "\n",
       "   last_note_Email Opened  last_note_Modified  \\\n",
       "0  0                       1                    \n",
       "1  1                       0                    \n",
       "2  1                       0                    \n",
       "3  0                       1                    \n",
       "4  0                       1                    \n",
       "\n",
       "   last_note_Olark Chat Conversation  last_note_Page Visited on Website  \\\n",
       "0  0                                  0                                   \n",
       "1  0                                  0                                   \n",
       "2  0                                  0                                   \n",
       "3  0                                  0                                   \n",
       "4  0                                  0                                   \n",
       "\n",
       "   last_note_SMS Sent  country_India  country_Outside India  \n",
       "0  0                   0              0                      \n",
       "1  0                   1              0                      \n",
       "2  0                   1              0                      \n",
       "3  0                   1              0                      \n",
       "4  0                   1              0                      "
      ]
     },
     "execution_count": 389,
     "metadata": {},
     "output_type": "execute_result"
    }
   ],
   "source": [
    "final.head()"
   ]
  },
  {
   "cell_type": "markdown",
   "metadata": {},
   "source": [
    "## Train and Test Split"
   ]
  },
  {
   "cell_type": "code",
   "execution_count": 282,
   "metadata": {},
   "outputs": [],
   "source": [
    "from sklearn.model_selection import train_test_split\n",
    "x=final.drop('Converted', axis=1)\n",
    "y=final['Converted']"
   ]
  },
  {
   "cell_type": "code",
   "execution_count": 283,
   "metadata": {},
   "outputs": [],
   "source": [
    "x_train, x_test, y_train, y_test=train_test_split(x,y, train_size=0.7, test_size=0.3, random_state=1000)"
   ]
  },
  {
   "cell_type": "code",
   "execution_count": 284,
   "metadata": {},
   "outputs": [
    {
     "data": {
      "text/plain": [
       "<matplotlib.axes._subplots.AxesSubplot at 0x207392c4fd0>"
      ]
     },
     "execution_count": 284,
     "metadata": {},
     "output_type": "execute_result"
    },
    {
     "data": {
      "image/png": "[encoded data removed]",
      "text/plain": [
       "<Figure size 2160x2160 with 2 Axes>"
      ]
     },
     "metadata": {
      "needs_background": "light"
     },
     "output_type": "display_data"
    }
   ],
   "source": [
    "##to chekc the correlation among varibles\n",
    "plt.figure(figsize=(30,30))\n",
    "sns.heatmap(x_train.corr())"
   ]
  },
  {
   "cell_type": "markdown",
   "metadata": {},
   "source": [
    "## Building Model Logistic Regression"
   ]
  },
  {
   "cell_type": "markdown",
   "metadata": {},
   "source": [
    "### Doing RFE to get significant variables only"
   ]
  },
  {
   "cell_type": "code",
   "execution_count": 292,
   "metadata": {},
   "outputs": [
    {
     "name": "stdout",
     "output_type": "stream",
     "text": [
      "[ True  True  True  True  True False False False False  True  True  True\n",
      "  True  True  True  True False  True  True  True  True  True  True False\n",
      "  True  True  True  True  True  True False False  True False False False\n",
      "  True  True False  True  True  True]\n",
      "[ 1  1  1  1  1  6 11 10  9  1  1  1  1  1  1  1 12  1  1  1  1  1  1  5\n",
      "  1  1  1  1  1  1  3  2  1 13  4  7  1  1  8  1  1  1]\n"
     ]
    }
   ],
   "source": [
    "##as there are 43 variables so it would not be feasible to check individual in model and then drop\n",
    "##so I will use the RFE technique to get only important varibles\n",
    "from sklearn.linear_model import LogisticRegression\n",
    "logreg = LogisticRegression()\n",
    "from sklearn.feature_selection import RFE\n",
    "rfe = RFE(logreg, 30)   # running RFE with 30 variables as output\n",
    "rfe = rfe.fit(x,y)\n",
    "print(rfe.support_)           # Printing the boolean results\n",
    "print(rfe.ranking_)  "
   ]
  },
  {
   "cell_type": "code",
   "execution_count": 293,
   "metadata": {},
   "outputs": [
    {
     "data": {
      "text/plain": [
       "['TotalVisits',\n",
       " 'Total_Time_Spent_on_Website',\n",
       " 'Page_Views_Per_Visit',\n",
       " 'orgn_API',\n",
       " 'orgn_Landing Page Submission',\n",
       " 'dne_Yes',\n",
       " 'spcl_Banking, Investment And Insurance',\n",
       " 'spcl_Business Administration',\n",
       " 'spcl_E-Business',\n",
       " 'spcl_E-COMMERCE',\n",
       " 'spcl_Finance Management',\n",
       " 'spcl_Healthcare Management',\n",
       " 'spcl_Human Resource Management',\n",
       " 'spcl_IT Projects Management',\n",
       " 'spcl_International Business',\n",
       " 'spcl_Marketing Management',\n",
       " 'spcl_Media and Advertising',\n",
       " 'spcl_Operations Management',\n",
       " 'spcl_Rural and Agribusiness',\n",
       " 'spcl_Supply Chain Management',\n",
       " 'spcl_Travel and Tourism',\n",
       " 'occ_Student',\n",
       " 'occ_Unemployed',\n",
       " 'occ_Working Professional',\n",
       " 'what_Working Professional',\n",
       " 'last_note_Modified',\n",
       " 'last_note_Olark Chat Conversation',\n",
       " 'last_note_SMS Sent',\n",
       " 'country_India',\n",
       " 'country_Outside India']"
      ]
     },
     "execution_count": 293,
     "metadata": {},
     "output_type": "execute_result"
    }
   ],
   "source": [
    "##top 30 variables chosen by RFE analysis\n",
    "df=pd.DataFrame(list(x))\n",
    "dfs=pd.DataFrame(rfe.support_)\n",
    "dfs.rename(columns={0:'sup'}, inplace=True)\n",
    "dffs=pd.concat([df,dfs], axis=1)\n",
    "colnm=list(dffs[dffs['sup']==True][0])\n",
    "colnm"
   ]
  },
  {
   "cell_type": "code",
   "execution_count": 294,
   "metadata": {},
   "outputs": [
    {
     "data": {
      "text/plain": [
       "<matplotlib.axes._subplots.AxesSubplot at 0x207374cdc50>"
      ]
     },
     "execution_count": 294,
     "metadata": {},
     "output_type": "execute_result"
    },
    {
     "data": {
      "image/png": "[encoded data removed]",
      "text/plain": [
       "<Figure size 720x432 with 2 Axes>"
      ]
     },
     "metadata": {
      "needs_background": "light"
     },
     "output_type": "display_data"
    }
   ],
   "source": [
    "plt.figure(figsize=(10,6))\n",
    "sns.heatmap(x_train[colnm].corr())"
   ]
  },
  {
   "cell_type": "markdown",
   "metadata": {},
   "source": [
    "### Building model with these 30 variables and taking non-significant varibles out of the model one by one "
   ]
  },
  {
   "cell_type": "code",
   "execution_count": 295,
   "metadata": {},
   "outputs": [
    {
     "data": {
      "text/html": [
       "<table class=\"simpletable\">\n",
       "<caption>Generalized Linear Model Regression Results</caption>\n",
       "<tr>\n",
       "  <th>Dep. Variable:</th>      <td>Converted</td>    <th>  No. Observations:  </th>  <td>  6154</td>  \n",
       "</tr>\n",
       "<tr>\n",
       "  <th>Model:</th>                 <td>GLM</td>       <th>  Df Residuals:      </th>  <td>  6124</td>  \n",
       "</tr>\n",
       "<tr>\n",
       "  <th>Model Family:</th>       <td>Binomial</td>     <th>  Df Model:          </th>  <td>    29</td>  \n",
       "</tr>\n",
       "<tr>\n",
       "  <th>Link Function:</th>        <td>logit</td>      <th>  Scale:             </th> <td>  1.0000</td> \n",
       "</tr>\n",
       "<tr>\n",
       "  <th>Method:</th>               <td>IRLS</td>       <th>  Log-Likelihood:    </th> <td> -2444.4</td> \n",
       "</tr>\n",
       "<tr>\n",
       "  <th>Date:</th>           <td>Sun, 03 Mar 2019</td> <th>  Deviance:          </th> <td>  4888.9</td> \n",
       "</tr>\n",
       "<tr>\n",
       "  <th>Time:</th>               <td>20:50:42</td>     <th>  Pearson chi2:      </th> <td>6.17e+03</td> \n",
       "</tr>\n",
       "<tr>\n",
       "  <th>No. Iterations:</th>         <td>6</td>        <th>  Covariance Type:   </th> <td>nonrobust</td>\n",
       "</tr>\n",
       "</table>\n",
       "<table class=\"simpletable\">\n",
       "<tr>\n",
       "                     <td></td>                       <th>coef</th>     <th>std err</th>      <th>z</th>      <th>P>|z|</th>  <th>[0.025</th>    <th>0.975]</th>  \n",
       "</tr>\n",
       "<tr>\n",
       "  <th>const</th>                                  <td>    0.7559</td> <td>    0.244</td> <td>    3.092</td> <td> 0.002</td> <td>    0.277</td> <td>    1.235</td>\n",
       "</tr>\n",
       "<tr>\n",
       "  <th>TotalVisits</th>                            <td>   10.3453</td> <td>    2.701</td> <td>    3.831</td> <td> 0.000</td> <td>    5.052</td> <td>   15.639</td>\n",
       "</tr>\n",
       "<tr>\n",
       "  <th>Total_Time_Spent_on_Website</th>            <td>    4.8156</td> <td>    0.177</td> <td>   27.197</td> <td> 0.000</td> <td>    4.469</td> <td>    5.163</td>\n",
       "</tr>\n",
       "<tr>\n",
       "  <th>Page_Views_Per_Visit</th>                   <td>   -4.2472</td> <td>    1.368</td> <td>   -3.106</td> <td> 0.002</td> <td>   -6.928</td> <td>   -1.567</td>\n",
       "</tr>\n",
       "<tr>\n",
       "  <th>orgn_API</th>                               <td>   -2.8596</td> <td>    0.237</td> <td>  -12.066</td> <td> 0.000</td> <td>   -3.324</td> <td>   -2.395</td>\n",
       "</tr>\n",
       "<tr>\n",
       "  <th>orgn_Landing Page Submission</th>           <td>   -3.7204</td> <td>    0.258</td> <td>  -14.441</td> <td> 0.000</td> <td>   -4.225</td> <td>   -3.216</td>\n",
       "</tr>\n",
       "<tr>\n",
       "  <th>dne_Yes</th>                                <td>   -1.5580</td> <td>    0.208</td> <td>   -7.502</td> <td> 0.000</td> <td>   -1.965</td> <td>   -1.151</td>\n",
       "</tr>\n",
       "<tr>\n",
       "  <th>spcl_Banking, Investment And Insurance</th> <td>    1.4322</td> <td>    0.207</td> <td>    6.918</td> <td> 0.000</td> <td>    1.026</td> <td>    1.838</td>\n",
       "</tr>\n",
       "<tr>\n",
       "  <th>spcl_Business Administration</th>           <td>    0.8482</td> <td>    0.207</td> <td>    4.101</td> <td> 0.000</td> <td>    0.443</td> <td>    1.254</td>\n",
       "</tr>\n",
       "<tr>\n",
       "  <th>spcl_E-Business</th>                        <td>    0.9051</td> <td>    0.479</td> <td>    1.888</td> <td> 0.059</td> <td>   -0.034</td> <td>    1.844</td>\n",
       "</tr>\n",
       "<tr>\n",
       "  <th>spcl_E-COMMERCE</th>                        <td>    1.0992</td> <td>    0.364</td> <td>    3.021</td> <td> 0.003</td> <td>    0.386</td> <td>    1.812</td>\n",
       "</tr>\n",
       "<tr>\n",
       "  <th>spcl_Finance Management</th>                <td>    0.9011</td> <td>    0.156</td> <td>    5.770</td> <td> 0.000</td> <td>    0.595</td> <td>    1.207</td>\n",
       "</tr>\n",
       "<tr>\n",
       "  <th>spcl_Healthcare Management</th>             <td>    0.9508</td> <td>    0.313</td> <td>    3.037</td> <td> 0.002</td> <td>    0.337</td> <td>    1.564</td>\n",
       "</tr>\n",
       "<tr>\n",
       "  <th>spcl_Human Resource Management</th>         <td>    0.9413</td> <td>    0.159</td> <td>    5.927</td> <td> 0.000</td> <td>    0.630</td> <td>    1.253</td>\n",
       "</tr>\n",
       "<tr>\n",
       "  <th>spcl_IT Projects Management</th>            <td>    1.0708</td> <td>    0.217</td> <td>    4.934</td> <td> 0.000</td> <td>    0.645</td> <td>    1.496</td>\n",
       "</tr>\n",
       "<tr>\n",
       "  <th>spcl_International Business</th>            <td>    0.7691</td> <td>    0.269</td> <td>    2.857</td> <td> 0.004</td> <td>    0.241</td> <td>    1.297</td>\n",
       "</tr>\n",
       "<tr>\n",
       "  <th>spcl_Marketing Management</th>              <td>    1.1071</td> <td>    0.157</td> <td>    7.065</td> <td> 0.000</td> <td>    0.800</td> <td>    1.414</td>\n",
       "</tr>\n",
       "<tr>\n",
       "  <th>spcl_Media and Advertising</th>             <td>    0.7475</td> <td>    0.262</td> <td>    2.853</td> <td> 0.004</td> <td>    0.234</td> <td>    1.261</td>\n",
       "</tr>\n",
       "<tr>\n",
       "  <th>spcl_Operations Management</th>             <td>    0.9589</td> <td>    0.183</td> <td>    5.233</td> <td> 0.000</td> <td>    0.600</td> <td>    1.318</td>\n",
       "</tr>\n",
       "<tr>\n",
       "  <th>spcl_Rural and Agribusiness</th>            <td>    0.8517</td> <td>    0.391</td> <td>    2.176</td> <td> 0.030</td> <td>    0.085</td> <td>    1.619</td>\n",
       "</tr>\n",
       "<tr>\n",
       "  <th>spcl_Supply Chain Management</th>           <td>    0.8727</td> <td>    0.215</td> <td>    4.068</td> <td> 0.000</td> <td>    0.452</td> <td>    1.293</td>\n",
       "</tr>\n",
       "<tr>\n",
       "  <th>spcl_Travel and Tourism</th>                <td>    1.1736</td> <td>    0.265</td> <td>    4.423</td> <td> 0.000</td> <td>    0.654</td> <td>    1.694</td>\n",
       "</tr>\n",
       "<tr>\n",
       "  <th>occ_Student</th>                            <td>    1.0322</td> <td>    0.240</td> <td>    4.310</td> <td> 0.000</td> <td>    0.563</td> <td>    1.502</td>\n",
       "</tr>\n",
       "<tr>\n",
       "  <th>occ_Unemployed</th>                         <td>    1.0784</td> <td>    0.092</td> <td>   11.731</td> <td> 0.000</td> <td>    0.898</td> <td>    1.259</td>\n",
       "</tr>\n",
       "<tr>\n",
       "  <th>occ_Working Professional</th>               <td>    1.7534</td> <td>    0.105</td> <td>   16.766</td> <td> 0.000</td> <td>    1.548</td> <td>    1.958</td>\n",
       "</tr>\n",
       "<tr>\n",
       "  <th>what_Working Professional</th>              <td>    1.7534</td> <td>    0.105</td> <td>   16.766</td> <td> 0.000</td> <td>    1.548</td> <td>    1.958</td>\n",
       "</tr>\n",
       "<tr>\n",
       "  <th>last_note_Modified</th>                     <td>   -0.5499</td> <td>    0.088</td> <td>   -6.250</td> <td> 0.000</td> <td>   -0.722</td> <td>   -0.377</td>\n",
       "</tr>\n",
       "<tr>\n",
       "  <th>last_note_Olark Chat Conversation</th>      <td>   -0.8881</td> <td>    0.319</td> <td>   -2.780</td> <td> 0.005</td> <td>   -1.514</td> <td>   -0.262</td>\n",
       "</tr>\n",
       "<tr>\n",
       "  <th>last_note_SMS Sent</th>                     <td>    1.5463</td> <td>    0.091</td> <td>   16.962</td> <td> 0.000</td> <td>    1.368</td> <td>    1.725</td>\n",
       "</tr>\n",
       "<tr>\n",
       "  <th>country_India</th>                          <td>   -1.1054</td> <td>    0.135</td> <td>   -8.192</td> <td> 0.000</td> <td>   -1.370</td> <td>   -0.841</td>\n",
       "</tr>\n",
       "<tr>\n",
       "  <th>country_Outside India</th>                  <td>   -1.5455</td> <td>    0.245</td> <td>   -6.321</td> <td> 0.000</td> <td>   -2.025</td> <td>   -1.066</td>\n",
       "</tr>\n",
       "</table>"
      ],
      "text/plain": [
       "<class 'statsmodels.iolib.summary.Summary'>\n",
       "\"\"\"\n",
       "                 Generalized Linear Model Regression Results                  \n",
       "==============================================================================\n",
       "Dep. Variable:              Converted   No. Observations:                 6154\n",
       "Model:                            GLM   Df Residuals:                     6124\n",
       "Model Family:                Binomial   Df Model:                           29\n",
       "Link Function:                  logit   Scale:                          1.0000\n",
       "Method:                          IRLS   Log-Likelihood:                -2444.4\n",
       "Date:                Sun, 03 Mar 2019   Deviance:                       4888.9\n",
       "Time:                        20:50:42   Pearson chi2:                 6.17e+03\n",
       "No. Iterations:                     6   Covariance Type:             nonrobust\n",
       "==========================================================================================================\n",
       "                                             coef    std err          z      P>|z|      [0.025      0.975]\n",
       "----------------------------------------------------------------------------------------------------------\n",
       "const                                      0.7559      0.244      3.092      0.002       0.277       1.235\n",
       "TotalVisits                               10.3453      2.701      3.831      0.000       5.052      15.639\n",
       "Total_Time_Spent_on_Website                4.8156      0.177     27.197      0.000       4.469       5.163\n",
       "Page_Views_Per_Visit                      -4.2472      1.368     -3.106      0.002      -6.928      -1.567\n",
       "orgn_API                                  -2.8596      0.237    -12.066      0.000      -3.324      -2.395\n",
       "orgn_Landing Page Submission              -3.7204      0.258    -14.441      0.000      -4.225      -3.216\n",
       "dne_Yes                                   -1.5580      0.208     -7.502      0.000      -1.965      -1.151\n",
       "spcl_Banking, Investment And Insurance     1.4322      0.207      6.918      0.000       1.026       1.838\n",
       "spcl_Business Administration               0.8482      0.207      4.101      0.000       0.443       1.254\n",
       "spcl_E-Business                            0.9051      0.479      1.888      0.059      -0.034       1.844\n",
       "spcl_E-COMMERCE                            1.0992      0.364      3.021      0.003       0.386       1.812\n",
       "spcl_Finance Management                    0.9011      0.156      5.770      0.000       0.595       1.207\n",
       "spcl_Healthcare Management                 0.9508      0.313      3.037      0.002       0.337       1.564\n",
       "spcl_Human Resource Management             0.9413      0.159      5.927      0.000       0.630       1.253\n",
       "spcl_IT Projects Management                1.0708      0.217      4.934      0.000       0.645       1.496\n",
       "spcl_International Business                0.7691      0.269      2.857      0.004       0.241       1.297\n",
       "spcl_Marketing Management                  1.1071      0.157      7.065      0.000       0.800       1.414\n",
       "spcl_Media and Advertising                 0.7475      0.262      2.853      0.004       0.234       1.261\n",
       "spcl_Operations Management                 0.9589      0.183      5.233      0.000       0.600       1.318\n",
       "spcl_Rural and Agribusiness                0.8517      0.391      2.176      0.030       0.085       1.619\n",
       "spcl_Supply Chain Management               0.8727      0.215      4.068      0.000       0.452       1.293\n",
       "spcl_Travel and Tourism                    1.1736      0.265      4.423      0.000       0.654       1.694\n",
       "occ_Student                                1.0322      0.240      4.310      0.000       0.563       1.502\n",
       "occ_Unemployed                             1.0784      0.092     11.731      0.000       0.898       1.259\n",
       "occ_Working Professional                   1.7534      0.105     16.766      0.000       1.548       1.958\n",
       "what_Working Professional                  1.7534      0.105     16.766      0.000       1.548       1.958\n",
       "last_note_Modified                        -0.5499      0.088     -6.250      0.000      -0.722      -0.377\n",
       "last_note_Olark Chat Conversation         -0.8881      0.319     -2.780      0.005      -1.514      -0.262\n",
       "last_note_SMS Sent                         1.5463      0.091     16.962      0.000       1.368       1.725\n",
       "country_India                             -1.1054      0.135     -8.192      0.000      -1.370      -0.841\n",
       "country_Outside India                     -1.5455      0.245     -6.321      0.000      -2.025      -1.066\n",
       "==========================================================================================================\n",
       "\"\"\""
      ]
     },
     "execution_count": 295,
     "metadata": {},
     "output_type": "execute_result"
    }
   ],
   "source": [
    "colnm = ['TotalVisits', 'Total_Time_Spent_on_Website', 'Page_Views_Per_Visit','orgn_API', 'orgn_Landing Page Submission',\n",
    "         'dne_Yes', 'spcl_Banking, Investment And Insurance', 'spcl_Business Administration', 'spcl_E-Business',\n",
    "         'spcl_E-COMMERCE','spcl_Finance Management', 'spcl_Healthcare Management', 'spcl_Human Resource Management', \n",
    "         'spcl_IT Projects Management', 'spcl_International Business','spcl_Marketing Management', 'spcl_Media and Advertising',\n",
    "         'spcl_Operations Management', 'spcl_Rural and Agribusiness','spcl_Supply Chain Management', 'spcl_Travel and Tourism',\n",
    "         'occ_Student', 'occ_Unemployed', 'occ_Working Professional', 'what_Working Professional', 'last_note_Modified', \n",
    "         'last_note_Olark Chat Conversation', 'last_note_SMS Sent', 'country_India', 'country_Outside India']\n",
    "\n",
    "import statsmodels.api as sm\n",
    "logm1=sm.GLM(y_train,sm.add_constant(x_train[colnm]), family=sm.families.Binomial())\n",
    "logm1.fit().summary()"
   ]
  },
  {
   "cell_type": "code",
   "execution_count": 337,
   "metadata": {},
   "outputs": [
    {
     "data": {
      "text/html": [
       "<table class=\"simpletable\">\n",
       "<caption>Generalized Linear Model Regression Results</caption>\n",
       "<tr>\n",
       "  <th>Dep. Variable:</th>      <td>Converted</td>    <th>  No. Observations:  </th>  <td>  6154</td>  \n",
       "</tr>\n",
       "<tr>\n",
       "  <th>Model:</th>                 <td>GLM</td>       <th>  Df Residuals:      </th>  <td>  6125</td>  \n",
       "</tr>\n",
       "<tr>\n",
       "  <th>Model Family:</th>       <td>Binomial</td>     <th>  Df Model:          </th>  <td>    28</td>  \n",
       "</tr>\n",
       "<tr>\n",
       "  <th>Link Function:</th>        <td>logit</td>      <th>  Scale:             </th> <td>  1.0000</td> \n",
       "</tr>\n",
       "<tr>\n",
       "  <th>Method:</th>               <td>IRLS</td>       <th>  Log-Likelihood:    </th> <td> -2446.2</td> \n",
       "</tr>\n",
       "<tr>\n",
       "  <th>Date:</th>           <td>Sun, 03 Mar 2019</td> <th>  Deviance:          </th> <td>  4892.3</td> \n",
       "</tr>\n",
       "<tr>\n",
       "  <th>Time:</th>               <td>21:59:13</td>     <th>  Pearson chi2:      </th> <td>6.19e+03</td> \n",
       "</tr>\n",
       "<tr>\n",
       "  <th>No. Iterations:</th>         <td>6</td>        <th>  Covariance Type:   </th> <td>nonrobust</td>\n",
       "</tr>\n",
       "</table>\n",
       "<table class=\"simpletable\">\n",
       "<tr>\n",
       "                     <td></td>                       <th>coef</th>     <th>std err</th>      <th>z</th>      <th>P>|z|</th>  <th>[0.025</th>    <th>0.975]</th>  \n",
       "</tr>\n",
       "<tr>\n",
       "  <th>const</th>                                  <td>    0.7757</td> <td>    0.244</td> <td>    3.178</td> <td> 0.001</td> <td>    0.297</td> <td>    1.254</td>\n",
       "</tr>\n",
       "<tr>\n",
       "  <th>TotalVisits</th>                            <td>   10.2785</td> <td>    2.699</td> <td>    3.809</td> <td> 0.000</td> <td>    4.989</td> <td>   15.568</td>\n",
       "</tr>\n",
       "<tr>\n",
       "  <th>Total_Time_Spent_on_Website</th>            <td>    4.8239</td> <td>    0.177</td> <td>   27.241</td> <td> 0.000</td> <td>    4.477</td> <td>    5.171</td>\n",
       "</tr>\n",
       "<tr>\n",
       "  <th>Page_Views_Per_Visit</th>                   <td>   -4.1967</td> <td>    1.365</td> <td>   -3.075</td> <td> 0.002</td> <td>   -6.872</td> <td>   -1.521</td>\n",
       "</tr>\n",
       "<tr>\n",
       "  <th>orgn_API</th>                               <td>   -2.8737</td> <td>    0.237</td> <td>  -12.141</td> <td> 0.000</td> <td>   -3.338</td> <td>   -2.410</td>\n",
       "</tr>\n",
       "<tr>\n",
       "  <th>orgn_Landing Page Submission</th>           <td>   -3.6975</td> <td>    0.257</td> <td>  -14.395</td> <td> 0.000</td> <td>   -4.201</td> <td>   -3.194</td>\n",
       "</tr>\n",
       "<tr>\n",
       "  <th>dne_Yes</th>                                <td>   -1.5612</td> <td>    0.208</td> <td>   -7.513</td> <td> 0.000</td> <td>   -1.969</td> <td>   -1.154</td>\n",
       "</tr>\n",
       "<tr>\n",
       "  <th>spcl_Banking, Investment And Insurance</th> <td>    1.3863</td> <td>    0.205</td> <td>    6.752</td> <td> 0.000</td> <td>    0.984</td> <td>    1.789</td>\n",
       "</tr>\n",
       "<tr>\n",
       "  <th>spcl_Business Administration</th>           <td>    0.8022</td> <td>    0.205</td> <td>    3.909</td> <td> 0.000</td> <td>    0.400</td> <td>    1.204</td>\n",
       "</tr>\n",
       "<tr>\n",
       "  <th>spcl_E-COMMERCE</th>                        <td>    1.0514</td> <td>    0.363</td> <td>    2.899</td> <td> 0.004</td> <td>    0.340</td> <td>    1.762</td>\n",
       "</tr>\n",
       "<tr>\n",
       "  <th>spcl_Finance Management</th>                <td>    0.8537</td> <td>    0.154</td> <td>    5.547</td> <td> 0.000</td> <td>    0.552</td> <td>    1.155</td>\n",
       "</tr>\n",
       "<tr>\n",
       "  <th>spcl_Healthcare Management</th>             <td>    0.9052</td> <td>    0.312</td> <td>    2.902</td> <td> 0.004</td> <td>    0.294</td> <td>    1.516</td>\n",
       "</tr>\n",
       "<tr>\n",
       "  <th>spcl_Human Resource Management</th>         <td>    0.8954</td> <td>    0.157</td> <td>    5.715</td> <td> 0.000</td> <td>    0.588</td> <td>    1.202</td>\n",
       "</tr>\n",
       "<tr>\n",
       "  <th>spcl_IT Projects Management</th>            <td>    1.0233</td> <td>    0.215</td> <td>    4.751</td> <td> 0.000</td> <td>    0.601</td> <td>    1.445</td>\n",
       "</tr>\n",
       "<tr>\n",
       "  <th>spcl_International Business</th>            <td>    0.7225</td> <td>    0.268</td> <td>    2.698</td> <td> 0.007</td> <td>    0.198</td> <td>    1.247</td>\n",
       "</tr>\n",
       "<tr>\n",
       "  <th>spcl_Marketing Management</th>              <td>    1.0636</td> <td>    0.155</td> <td>    6.873</td> <td> 0.000</td> <td>    0.760</td> <td>    1.367</td>\n",
       "</tr>\n",
       "<tr>\n",
       "  <th>spcl_Media and Advertising</th>             <td>    0.7006</td> <td>    0.261</td> <td>    2.687</td> <td> 0.007</td> <td>    0.189</td> <td>    1.212</td>\n",
       "</tr>\n",
       "<tr>\n",
       "  <th>spcl_Operations Management</th>             <td>    0.9140</td> <td>    0.181</td> <td>    5.036</td> <td> 0.000</td> <td>    0.558</td> <td>    1.270</td>\n",
       "</tr>\n",
       "<tr>\n",
       "  <th>spcl_Rural and Agribusiness</th>            <td>    0.8087</td> <td>    0.390</td> <td>    2.072</td> <td> 0.038</td> <td>    0.044</td> <td>    1.574</td>\n",
       "</tr>\n",
       "<tr>\n",
       "  <th>spcl_Supply Chain Management</th>           <td>    0.8263</td> <td>    0.213</td> <td>    3.881</td> <td> 0.000</td> <td>    0.409</td> <td>    1.244</td>\n",
       "</tr>\n",
       "<tr>\n",
       "  <th>spcl_Travel and Tourism</th>                <td>    1.1244</td> <td>    0.264</td> <td>    4.261</td> <td> 0.000</td> <td>    0.607</td> <td>    1.642</td>\n",
       "</tr>\n",
       "<tr>\n",
       "  <th>occ_Student</th>                            <td>    1.0257</td> <td>    0.239</td> <td>    4.287</td> <td> 0.000</td> <td>    0.557</td> <td>    1.495</td>\n",
       "</tr>\n",
       "<tr>\n",
       "  <th>occ_Unemployed</th>                         <td>    1.0761</td> <td>    0.092</td> <td>   11.718</td> <td> 0.000</td> <td>    0.896</td> <td>    1.256</td>\n",
       "</tr>\n",
       "<tr>\n",
       "  <th>occ_Working Professional</th>               <td>    1.7543</td> <td>    0.105</td> <td>   16.783</td> <td> 0.000</td> <td>    1.549</td> <td>    1.959</td>\n",
       "</tr>\n",
       "<tr>\n",
       "  <th>what_Working Professional</th>              <td>    1.7543</td> <td>    0.105</td> <td>   16.783</td> <td> 0.000</td> <td>    1.549</td> <td>    1.959</td>\n",
       "</tr>\n",
       "<tr>\n",
       "  <th>last_note_Modified</th>                     <td>   -0.5475</td> <td>    0.088</td> <td>   -6.227</td> <td> 0.000</td> <td>   -0.720</td> <td>   -0.375</td>\n",
       "</tr>\n",
       "<tr>\n",
       "  <th>last_note_Olark Chat Conversation</th>      <td>   -0.8920</td> <td>    0.319</td> <td>   -2.794</td> <td> 0.005</td> <td>   -1.518</td> <td>   -0.266</td>\n",
       "</tr>\n",
       "<tr>\n",
       "  <th>last_note_SMS Sent</th>                     <td>    1.5464</td> <td>    0.091</td> <td>   16.962</td> <td> 0.000</td> <td>    1.368</td> <td>    1.725</td>\n",
       "</tr>\n",
       "<tr>\n",
       "  <th>country_India</th>                          <td>   -1.0992</td> <td>    0.135</td> <td>   -8.158</td> <td> 0.000</td> <td>   -1.363</td> <td>   -0.835</td>\n",
       "</tr>\n",
       "<tr>\n",
       "  <th>country_Outside India</th>                  <td>   -1.5453</td> <td>    0.245</td> <td>   -6.317</td> <td> 0.000</td> <td>   -2.025</td> <td>   -1.066</td>\n",
       "</tr>\n",
       "</table>"
      ],
      "text/plain": [
       "<class 'statsmodels.iolib.summary.Summary'>\n",
       "\"\"\"\n",
       "                 Generalized Linear Model Regression Results                  \n",
       "==============================================================================\n",
       "Dep. Variable:              Converted   No. Observations:                 6154\n",
       "Model:                            GLM   Df Residuals:                     6125\n",
       "Model Family:                Binomial   Df Model:                           28\n",
       "Link Function:                  logit   Scale:                          1.0000\n",
       "Method:                          IRLS   Log-Likelihood:                -2446.2\n",
       "Date:                Sun, 03 Mar 2019   Deviance:                       4892.3\n",
       "Time:                        21:59:13   Pearson chi2:                 6.19e+03\n",
       "No. Iterations:                     6   Covariance Type:             nonrobust\n",
       "==========================================================================================================\n",
       "                                             coef    std err          z      P>|z|      [0.025      0.975]\n",
       "----------------------------------------------------------------------------------------------------------\n",
       "const                                      0.7757      0.244      3.178      0.001       0.297       1.254\n",
       "TotalVisits                               10.2785      2.699      3.809      0.000       4.989      15.568\n",
       "Total_Time_Spent_on_Website                4.8239      0.177     27.241      0.000       4.477       5.171\n",
       "Page_Views_Per_Visit                      -4.1967      1.365     -3.075      0.002      -6.872      -1.521\n",
       "orgn_API                                  -2.8737      0.237    -12.141      0.000      -3.338      -2.410\n",
       "orgn_Landing Page Submission              -3.6975      0.257    -14.395      0.000      -4.201      -3.194\n",
       "dne_Yes                                   -1.5612      0.208     -7.513      0.000      -1.969      -1.154\n",
       "spcl_Banking, Investment And Insurance     1.3863      0.205      6.752      0.000       0.984       1.789\n",
       "spcl_Business Administration               0.8022      0.205      3.909      0.000       0.400       1.204\n",
       "spcl_E-COMMERCE                            1.0514      0.363      2.899      0.004       0.340       1.762\n",
       "spcl_Finance Management                    0.8537      0.154      5.547      0.000       0.552       1.155\n",
       "spcl_Healthcare Management                 0.9052      0.312      2.902      0.004       0.294       1.516\n",
       "spcl_Human Resource Management             0.8954      0.157      5.715      0.000       0.588       1.202\n",
       "spcl_IT Projects Management                1.0233      0.215      4.751      0.000       0.601       1.445\n",
       "spcl_International Business                0.7225      0.268      2.698      0.007       0.198       1.247\n",
       "spcl_Marketing Management                  1.0636      0.155      6.873      0.000       0.760       1.367\n",
       "spcl_Media and Advertising                 0.7006      0.261      2.687      0.007       0.189       1.212\n",
       "spcl_Operations Management                 0.9140      0.181      5.036      0.000       0.558       1.270\n",
       "spcl_Rural and Agribusiness                0.8087      0.390      2.072      0.038       0.044       1.574\n",
       "spcl_Supply Chain Management               0.8263      0.213      3.881      0.000       0.409       1.244\n",
       "spcl_Travel and Tourism                    1.1244      0.264      4.261      0.000       0.607       1.642\n",
       "occ_Student                                1.0257      0.239      4.287      0.000       0.557       1.495\n",
       "occ_Unemployed                             1.0761      0.092     11.718      0.000       0.896       1.256\n",
       "occ_Working Professional                   1.7543      0.105     16.783      0.000       1.549       1.959\n",
       "what_Working Professional                  1.7543      0.105     16.783      0.000       1.549       1.959\n",
       "last_note_Modified                        -0.5475      0.088     -6.227      0.000      -0.720      -0.375\n",
       "last_note_Olark Chat Conversation         -0.8920      0.319     -2.794      0.005      -1.518      -0.266\n",
       "last_note_SMS Sent                         1.5464      0.091     16.962      0.000       1.368       1.725\n",
       "country_India                             -1.0992      0.135     -8.158      0.000      -1.363      -0.835\n",
       "country_Outside India                     -1.5453      0.245     -6.317      0.000      -2.025      -1.066\n",
       "==========================================================================================================\n",
       "\"\"\""
      ]
     },
     "execution_count": 337,
     "metadata": {},
     "output_type": "execute_result"
    }
   ],
   "source": [
    "colnm = ['TotalVisits', 'Total_Time_Spent_on_Website', 'Page_Views_Per_Visit','orgn_API', 'orgn_Landing Page Submission',\n",
    "         'dne_Yes', 'spcl_Banking, Investment And Insurance', 'spcl_Business Administration',\n",
    "         'spcl_E-COMMERCE','spcl_Finance Management', 'spcl_Healthcare Management', 'spcl_Human Resource Management', \n",
    "         'spcl_IT Projects Management', 'spcl_International Business','spcl_Marketing Management', 'spcl_Media and Advertising',\n",
    "         'spcl_Operations Management', 'spcl_Rural and Agribusiness','spcl_Supply Chain Management', 'spcl_Travel and Tourism',\n",
    "         'occ_Student', 'occ_Unemployed', 'occ_Working Professional', 'what_Working Professional', 'last_note_Modified', \n",
    "         'last_note_Olark Chat Conversation', 'last_note_SMS Sent', 'country_India', 'country_Outside India']\n",
    "\n",
    "##droppin the non significant varibles and rebuilding model\n",
    "##Dropped Varibles##\n",
    "#, 'spcl_E-Business\n",
    "\n",
    "import statsmodels.api as sm\n",
    "logm1=sm.GLM(y_train,sm.add_constant(x_train[colnm]), family=sm.families.Binomial())\n",
    "logm1.fit().summary()"
   ]
  },
  {
   "cell_type": "code",
   "execution_count": 338,
   "metadata": {},
   "outputs": [],
   "source": [
    "# Check for the VIF values of the feature variables. \n",
    "from statsmodels.stats.outliers_influence import variance_inflation_factor"
   ]
  },
  {
   "cell_type": "code",
   "execution_count": 339,
   "metadata": {},
   "outputs": [
    {
     "data": {
      "text/html": [
       "<div>\n",
       "<style scoped>\n",
       "    .dataframe tbody tr th:only-of-type {\n",
       "        vertical-align: middle;\n",
       "    }\n",
       "\n",
       "    .dataframe tbody tr th {\n",
       "        vertical-align: top;\n",
       "    }\n",
       "\n",
       "    .dataframe thead th {\n",
       "        text-align: right;\n",
       "    }\n",
       "</style>\n",
       "<table border=\"1\" class=\"dataframe\">\n",
       "  <thead>\n",
       "    <tr style=\"text-align: right;\">\n",
       "      <th></th>\n",
       "      <th>Features</th>\n",
       "      <th>VIF</th>\n",
       "    </tr>\n",
       "  </thead>\n",
       "  <tbody>\n",
       "    <tr>\n",
       "      <th>23</th>\n",
       "      <td>what_Working Professional</td>\n",
       "      <td>inf</td>\n",
       "    </tr>\n",
       "    <tr>\n",
       "      <th>22</th>\n",
       "      <td>occ_Working Professional</td>\n",
       "      <td>inf</td>\n",
       "    </tr>\n",
       "    <tr>\n",
       "      <th>27</th>\n",
       "      <td>country_India</td>\n",
       "      <td>9.40</td>\n",
       "    </tr>\n",
       "    <tr>\n",
       "      <th>4</th>\n",
       "      <td>orgn_Landing Page Submission</td>\n",
       "      <td>9.37</td>\n",
       "    </tr>\n",
       "    <tr>\n",
       "      <th>2</th>\n",
       "      <td>Page_Views_Per_Visit</td>\n",
       "      <td>4.65</td>\n",
       "    </tr>\n",
       "    <tr>\n",
       "      <th>3</th>\n",
       "      <td>orgn_API</td>\n",
       "      <td>3.25</td>\n",
       "    </tr>\n",
       "    <tr>\n",
       "      <th>0</th>\n",
       "      <td>TotalVisits</td>\n",
       "      <td>3.06</td>\n",
       "    </tr>\n",
       "    <tr>\n",
       "      <th>21</th>\n",
       "      <td>occ_Unemployed</td>\n",
       "      <td>2.92</td>\n",
       "    </tr>\n",
       "    <tr>\n",
       "      <th>1</th>\n",
       "      <td>Total_Time_Spent_on_Website</td>\n",
       "      <td>2.38</td>\n",
       "    </tr>\n",
       "    <tr>\n",
       "      <th>24</th>\n",
       "      <td>last_note_Modified</td>\n",
       "      <td>2.03</td>\n",
       "    </tr>\n",
       "    <tr>\n",
       "      <th>9</th>\n",
       "      <td>spcl_Finance Management</td>\n",
       "      <td>1.82</td>\n",
       "    </tr>\n",
       "    <tr>\n",
       "      <th>26</th>\n",
       "      <td>last_note_SMS Sent</td>\n",
       "      <td>1.65</td>\n",
       "    </tr>\n",
       "    <tr>\n",
       "      <th>11</th>\n",
       "      <td>spcl_Human Resource Management</td>\n",
       "      <td>1.64</td>\n",
       "    </tr>\n",
       "    <tr>\n",
       "      <th>14</th>\n",
       "      <td>spcl_Marketing Management</td>\n",
       "      <td>1.60</td>\n",
       "    </tr>\n",
       "    <tr>\n",
       "      <th>16</th>\n",
       "      <td>spcl_Operations Management</td>\n",
       "      <td>1.44</td>\n",
       "    </tr>\n",
       "    <tr>\n",
       "      <th>28</th>\n",
       "      <td>country_Outside India</td>\n",
       "      <td>1.40</td>\n",
       "    </tr>\n",
       "    <tr>\n",
       "      <th>12</th>\n",
       "      <td>spcl_IT Projects Management</td>\n",
       "      <td>1.33</td>\n",
       "    </tr>\n",
       "    <tr>\n",
       "      <th>7</th>\n",
       "      <td>spcl_Business Administration</td>\n",
       "      <td>1.32</td>\n",
       "    </tr>\n",
       "    <tr>\n",
       "      <th>18</th>\n",
       "      <td>spcl_Supply Chain Management</td>\n",
       "      <td>1.29</td>\n",
       "    </tr>\n",
       "    <tr>\n",
       "      <th>6</th>\n",
       "      <td>spcl_Banking, Investment And Insurance</td>\n",
       "      <td>1.28</td>\n",
       "    </tr>\n",
       "    <tr>\n",
       "      <th>19</th>\n",
       "      <td>spcl_Travel and Tourism</td>\n",
       "      <td>1.20</td>\n",
       "    </tr>\n",
       "    <tr>\n",
       "      <th>15</th>\n",
       "      <td>spcl_Media and Advertising</td>\n",
       "      <td>1.18</td>\n",
       "    </tr>\n",
       "    <tr>\n",
       "      <th>13</th>\n",
       "      <td>spcl_International Business</td>\n",
       "      <td>1.17</td>\n",
       "    </tr>\n",
       "    <tr>\n",
       "      <th>5</th>\n",
       "      <td>dne_Yes</td>\n",
       "      <td>1.15</td>\n",
       "    </tr>\n",
       "    <tr>\n",
       "      <th>10</th>\n",
       "      <td>spcl_Healthcare Management</td>\n",
       "      <td>1.11</td>\n",
       "    </tr>\n",
       "    <tr>\n",
       "      <th>8</th>\n",
       "      <td>spcl_E-COMMERCE</td>\n",
       "      <td>1.09</td>\n",
       "    </tr>\n",
       "    <tr>\n",
       "      <th>17</th>\n",
       "      <td>spcl_Rural and Agribusiness</td>\n",
       "      <td>1.08</td>\n",
       "    </tr>\n",
       "    <tr>\n",
       "      <th>25</th>\n",
       "      <td>last_note_Olark Chat Conversation</td>\n",
       "      <td>1.08</td>\n",
       "    </tr>\n",
       "    <tr>\n",
       "      <th>20</th>\n",
       "      <td>occ_Student</td>\n",
       "      <td>1.07</td>\n",
       "    </tr>\n",
       "  </tbody>\n",
       "</table>\n",
       "</div>"
      ],
      "text/plain": [
       "                                  Features  VIF\n",
       "23  what_Working Professional              inf \n",
       "22  occ_Working Professional               inf \n",
       "27  country_India                          9.40\n",
       "4   orgn_Landing Page Submission           9.37\n",
       "2   Page_Views_Per_Visit                   4.65\n",
       "3   orgn_API                               3.25\n",
       "0   TotalVisits                            3.06\n",
       "21  occ_Unemployed                         2.92\n",
       "1   Total_Time_Spent_on_Website            2.38\n",
       "24  last_note_Modified                     2.03\n",
       "9   spcl_Finance Management                1.82\n",
       "26  last_note_SMS Sent                     1.65\n",
       "11  spcl_Human Resource Management         1.64\n",
       "14  spcl_Marketing Management              1.60\n",
       "16  spcl_Operations Management             1.44\n",
       "28  country_Outside India                  1.40\n",
       "12  spcl_IT Projects Management            1.33\n",
       "7   spcl_Business Administration           1.32\n",
       "18  spcl_Supply Chain Management           1.29\n",
       "6   spcl_Banking, Investment And Insurance 1.28\n",
       "19  spcl_Travel and Tourism                1.20\n",
       "15  spcl_Media and Advertising             1.18\n",
       "13  spcl_International Business            1.17\n",
       "5   dne_Yes                                1.15\n",
       "10  spcl_Healthcare Management             1.11\n",
       "8   spcl_E-COMMERCE                        1.09\n",
       "17  spcl_Rural and Agribusiness            1.08\n",
       "25  last_note_Olark Chat Conversation      1.08\n",
       "20  occ_Student                            1.07"
      ]
     },
     "execution_count": 339,
     "metadata": {},
     "output_type": "execute_result"
    }
   ],
   "source": [
    "# Create a dataframe that will contain the names of all the feature variables and their respective VIFs\n",
    "vif = pd.DataFrame()\n",
    "vif['Features'] = x_train[colnm].columns\n",
    "vif['VIF'] = [variance_inflation_factor(x_train[colnm].values, i) for i in range(x_train[colnm].shape[1])]\n",
    "vif['VIF'] = round(vif['VIF'], 2)\n",
    "vif = vif.sort_values(by = \"VIF\", ascending = False)\n",
    "vif"
   ]
  },
  {
   "cell_type": "code",
   "execution_count": 340,
   "metadata": {},
   "outputs": [
    {
     "data": {
      "text/html": [
       "<table class=\"simpletable\">\n",
       "<caption>Generalized Linear Model Regression Results</caption>\n",
       "<tr>\n",
       "  <th>Dep. Variable:</th>      <td>Converted</td>    <th>  No. Observations:  </th>  <td>  6154</td>  \n",
       "</tr>\n",
       "<tr>\n",
       "  <th>Model:</th>                 <td>GLM</td>       <th>  Df Residuals:      </th>  <td>  6125</td>  \n",
       "</tr>\n",
       "<tr>\n",
       "  <th>Model Family:</th>       <td>Binomial</td>     <th>  Df Model:          </th>  <td>    28</td>  \n",
       "</tr>\n",
       "<tr>\n",
       "  <th>Link Function:</th>        <td>logit</td>      <th>  Scale:             </th> <td>  1.0000</td> \n",
       "</tr>\n",
       "<tr>\n",
       "  <th>Method:</th>               <td>IRLS</td>       <th>  Log-Likelihood:    </th> <td> -2446.2</td> \n",
       "</tr>\n",
       "<tr>\n",
       "  <th>Date:</th>           <td>Sun, 03 Mar 2019</td> <th>  Deviance:          </th> <td>  4892.3</td> \n",
       "</tr>\n",
       "<tr>\n",
       "  <th>Time:</th>               <td>22:00:16</td>     <th>  Pearson chi2:      </th> <td>6.19e+03</td> \n",
       "</tr>\n",
       "<tr>\n",
       "  <th>No. Iterations:</th>         <td>6</td>        <th>  Covariance Type:   </th> <td>nonrobust</td>\n",
       "</tr>\n",
       "</table>\n",
       "<table class=\"simpletable\">\n",
       "<tr>\n",
       "                     <td></td>                       <th>coef</th>     <th>std err</th>      <th>z</th>      <th>P>|z|</th>  <th>[0.025</th>    <th>0.975]</th>  \n",
       "</tr>\n",
       "<tr>\n",
       "  <th>const</th>                                  <td>    0.7757</td> <td>    0.244</td> <td>    3.178</td> <td> 0.001</td> <td>    0.297</td> <td>    1.254</td>\n",
       "</tr>\n",
       "<tr>\n",
       "  <th>TotalVisits</th>                            <td>   10.2785</td> <td>    2.699</td> <td>    3.809</td> <td> 0.000</td> <td>    4.989</td> <td>   15.568</td>\n",
       "</tr>\n",
       "<tr>\n",
       "  <th>Total_Time_Spent_on_Website</th>            <td>    4.8239</td> <td>    0.177</td> <td>   27.241</td> <td> 0.000</td> <td>    4.477</td> <td>    5.171</td>\n",
       "</tr>\n",
       "<tr>\n",
       "  <th>Page_Views_Per_Visit</th>                   <td>   -4.1967</td> <td>    1.365</td> <td>   -3.075</td> <td> 0.002</td> <td>   -6.872</td> <td>   -1.521</td>\n",
       "</tr>\n",
       "<tr>\n",
       "  <th>orgn_API</th>                               <td>   -2.8737</td> <td>    0.237</td> <td>  -12.141</td> <td> 0.000</td> <td>   -3.338</td> <td>   -2.410</td>\n",
       "</tr>\n",
       "<tr>\n",
       "  <th>orgn_Landing Page Submission</th>           <td>   -3.6975</td> <td>    0.257</td> <td>  -14.395</td> <td> 0.000</td> <td>   -4.201</td> <td>   -3.194</td>\n",
       "</tr>\n",
       "<tr>\n",
       "  <th>dne_Yes</th>                                <td>   -1.5612</td> <td>    0.208</td> <td>   -7.513</td> <td> 0.000</td> <td>   -1.969</td> <td>   -1.154</td>\n",
       "</tr>\n",
       "<tr>\n",
       "  <th>spcl_Banking, Investment And Insurance</th> <td>    1.3863</td> <td>    0.205</td> <td>    6.752</td> <td> 0.000</td> <td>    0.984</td> <td>    1.789</td>\n",
       "</tr>\n",
       "<tr>\n",
       "  <th>spcl_Business Administration</th>           <td>    0.8022</td> <td>    0.205</td> <td>    3.909</td> <td> 0.000</td> <td>    0.400</td> <td>    1.204</td>\n",
       "</tr>\n",
       "<tr>\n",
       "  <th>spcl_E-COMMERCE</th>                        <td>    1.0514</td> <td>    0.363</td> <td>    2.899</td> <td> 0.004</td> <td>    0.340</td> <td>    1.762</td>\n",
       "</tr>\n",
       "<tr>\n",
       "  <th>spcl_Finance Management</th>                <td>    0.8537</td> <td>    0.154</td> <td>    5.547</td> <td> 0.000</td> <td>    0.552</td> <td>    1.155</td>\n",
       "</tr>\n",
       "<tr>\n",
       "  <th>spcl_Healthcare Management</th>             <td>    0.9052</td> <td>    0.312</td> <td>    2.902</td> <td> 0.004</td> <td>    0.294</td> <td>    1.516</td>\n",
       "</tr>\n",
       "<tr>\n",
       "  <th>spcl_Human Resource Management</th>         <td>    0.8954</td> <td>    0.157</td> <td>    5.715</td> <td> 0.000</td> <td>    0.588</td> <td>    1.202</td>\n",
       "</tr>\n",
       "<tr>\n",
       "  <th>spcl_IT Projects Management</th>            <td>    1.0233</td> <td>    0.215</td> <td>    4.751</td> <td> 0.000</td> <td>    0.601</td> <td>    1.445</td>\n",
       "</tr>\n",
       "<tr>\n",
       "  <th>spcl_International Business</th>            <td>    0.7225</td> <td>    0.268</td> <td>    2.698</td> <td> 0.007</td> <td>    0.198</td> <td>    1.247</td>\n",
       "</tr>\n",
       "<tr>\n",
       "  <th>spcl_Marketing Management</th>              <td>    1.0636</td> <td>    0.155</td> <td>    6.873</td> <td> 0.000</td> <td>    0.760</td> <td>    1.367</td>\n",
       "</tr>\n",
       "<tr>\n",
       "  <th>spcl_Media and Advertising</th>             <td>    0.7006</td> <td>    0.261</td> <td>    2.687</td> <td> 0.007</td> <td>    0.189</td> <td>    1.212</td>\n",
       "</tr>\n",
       "<tr>\n",
       "  <th>spcl_Operations Management</th>             <td>    0.9140</td> <td>    0.181</td> <td>    5.036</td> <td> 0.000</td> <td>    0.558</td> <td>    1.270</td>\n",
       "</tr>\n",
       "<tr>\n",
       "  <th>spcl_Rural and Agribusiness</th>            <td>    0.8087</td> <td>    0.390</td> <td>    2.072</td> <td> 0.038</td> <td>    0.044</td> <td>    1.574</td>\n",
       "</tr>\n",
       "<tr>\n",
       "  <th>spcl_Supply Chain Management</th>           <td>    0.8263</td> <td>    0.213</td> <td>    3.881</td> <td> 0.000</td> <td>    0.409</td> <td>    1.244</td>\n",
       "</tr>\n",
       "<tr>\n",
       "  <th>spcl_Travel and Tourism</th>                <td>    1.1244</td> <td>    0.264</td> <td>    4.261</td> <td> 0.000</td> <td>    0.607</td> <td>    1.642</td>\n",
       "</tr>\n",
       "<tr>\n",
       "  <th>occ_Student</th>                            <td>    1.0257</td> <td>    0.239</td> <td>    4.287</td> <td> 0.000</td> <td>    0.557</td> <td>    1.495</td>\n",
       "</tr>\n",
       "<tr>\n",
       "  <th>occ_Unemployed</th>                         <td>    1.0761</td> <td>    0.092</td> <td>   11.718</td> <td> 0.000</td> <td>    0.896</td> <td>    1.256</td>\n",
       "</tr>\n",
       "<tr>\n",
       "  <th>occ_Working Professional</th>               <td>    3.5086</td> <td>    0.209</td> <td>   16.783</td> <td> 0.000</td> <td>    3.099</td> <td>    3.918</td>\n",
       "</tr>\n",
       "<tr>\n",
       "  <th>last_note_Modified</th>                     <td>   -0.5475</td> <td>    0.088</td> <td>   -6.227</td> <td> 0.000</td> <td>   -0.720</td> <td>   -0.375</td>\n",
       "</tr>\n",
       "<tr>\n",
       "  <th>last_note_Olark Chat Conversation</th>      <td>   -0.8920</td> <td>    0.319</td> <td>   -2.794</td> <td> 0.005</td> <td>   -1.518</td> <td>   -0.266</td>\n",
       "</tr>\n",
       "<tr>\n",
       "  <th>last_note_SMS Sent</th>                     <td>    1.5464</td> <td>    0.091</td> <td>   16.962</td> <td> 0.000</td> <td>    1.368</td> <td>    1.725</td>\n",
       "</tr>\n",
       "<tr>\n",
       "  <th>country_India</th>                          <td>   -1.0992</td> <td>    0.135</td> <td>   -8.158</td> <td> 0.000</td> <td>   -1.363</td> <td>   -0.835</td>\n",
       "</tr>\n",
       "<tr>\n",
       "  <th>country_Outside India</th>                  <td>   -1.5453</td> <td>    0.245</td> <td>   -6.317</td> <td> 0.000</td> <td>   -2.025</td> <td>   -1.066</td>\n",
       "</tr>\n",
       "</table>"
      ],
      "text/plain": [
       "<class 'statsmodels.iolib.summary.Summary'>\n",
       "\"\"\"\n",
       "                 Generalized Linear Model Regression Results                  \n",
       "==============================================================================\n",
       "Dep. Variable:              Converted   No. Observations:                 6154\n",
       "Model:                            GLM   Df Residuals:                     6125\n",
       "Model Family:                Binomial   Df Model:                           28\n",
       "Link Function:                  logit   Scale:                          1.0000\n",
       "Method:                          IRLS   Log-Likelihood:                -2446.2\n",
       "Date:                Sun, 03 Mar 2019   Deviance:                       4892.3\n",
       "Time:                        22:00:16   Pearson chi2:                 6.19e+03\n",
       "No. Iterations:                     6   Covariance Type:             nonrobust\n",
       "==========================================================================================================\n",
       "                                             coef    std err          z      P>|z|      [0.025      0.975]\n",
       "----------------------------------------------------------------------------------------------------------\n",
       "const                                      0.7757      0.244      3.178      0.001       0.297       1.254\n",
       "TotalVisits                               10.2785      2.699      3.809      0.000       4.989      15.568\n",
       "Total_Time_Spent_on_Website                4.8239      0.177     27.241      0.000       4.477       5.171\n",
       "Page_Views_Per_Visit                      -4.1967      1.365     -3.075      0.002      -6.872      -1.521\n",
       "orgn_API                                  -2.8737      0.237    -12.141      0.000      -3.338      -2.410\n",
       "orgn_Landing Page Submission              -3.6975      0.257    -14.395      0.000      -4.201      -3.194\n",
       "dne_Yes                                   -1.5612      0.208     -7.513      0.000      -1.969      -1.154\n",
       "spcl_Banking, Investment And Insurance     1.3863      0.205      6.752      0.000       0.984       1.789\n",
       "spcl_Business Administration               0.8022      0.205      3.909      0.000       0.400       1.204\n",
       "spcl_E-COMMERCE                            1.0514      0.363      2.899      0.004       0.340       1.762\n",
       "spcl_Finance Management                    0.8537      0.154      5.547      0.000       0.552       1.155\n",
       "spcl_Healthcare Management                 0.9052      0.312      2.902      0.004       0.294       1.516\n",
       "spcl_Human Resource Management             0.8954      0.157      5.715      0.000       0.588       1.202\n",
       "spcl_IT Projects Management                1.0233      0.215      4.751      0.000       0.601       1.445\n",
       "spcl_International Business                0.7225      0.268      2.698      0.007       0.198       1.247\n",
       "spcl_Marketing Management                  1.0636      0.155      6.873      0.000       0.760       1.367\n",
       "spcl_Media and Advertising                 0.7006      0.261      2.687      0.007       0.189       1.212\n",
       "spcl_Operations Management                 0.9140      0.181      5.036      0.000       0.558       1.270\n",
       "spcl_Rural and Agribusiness                0.8087      0.390      2.072      0.038       0.044       1.574\n",
       "spcl_Supply Chain Management               0.8263      0.213      3.881      0.000       0.409       1.244\n",
       "spcl_Travel and Tourism                    1.1244      0.264      4.261      0.000       0.607       1.642\n",
       "occ_Student                                1.0257      0.239      4.287      0.000       0.557       1.495\n",
       "occ_Unemployed                             1.0761      0.092     11.718      0.000       0.896       1.256\n",
       "occ_Working Professional                   3.5086      0.209     16.783      0.000       3.099       3.918\n",
       "last_note_Modified                        -0.5475      0.088     -6.227      0.000      -0.720      -0.375\n",
       "last_note_Olark Chat Conversation         -0.8920      0.319     -2.794      0.005      -1.518      -0.266\n",
       "last_note_SMS Sent                         1.5464      0.091     16.962      0.000       1.368       1.725\n",
       "country_India                             -1.0992      0.135     -8.158      0.000      -1.363      -0.835\n",
       "country_Outside India                     -1.5453      0.245     -6.317      0.000      -2.025      -1.066\n",
       "==========================================================================================================\n",
       "\"\"\""
      ]
     },
     "execution_count": 340,
     "metadata": {},
     "output_type": "execute_result"
    }
   ],
   "source": [
    "colnm = ['TotalVisits', 'Total_Time_Spent_on_Website', 'Page_Views_Per_Visit','orgn_API', 'orgn_Landing Page Submission',\n",
    "         'dne_Yes', 'spcl_Banking, Investment And Insurance', 'spcl_Business Administration',\n",
    "         'spcl_E-COMMERCE','spcl_Finance Management', 'spcl_Healthcare Management', 'spcl_Human Resource Management', \n",
    "         'spcl_IT Projects Management', 'spcl_International Business','spcl_Marketing Management', 'spcl_Media and Advertising',\n",
    "         'spcl_Operations Management', 'spcl_Rural and Agribusiness','spcl_Supply Chain Management', 'spcl_Travel and Tourism',\n",
    "         'occ_Student', 'occ_Unemployed', 'occ_Working Professional',  'last_note_Modified', \n",
    "         'last_note_Olark Chat Conversation', 'last_note_SMS Sent', 'country_India', 'country_Outside India']\n",
    "\n",
    "##droppin the non significant varibles and rebuilding model\n",
    "##Dropped Varibles##\n",
    "#, 'spcl_E-Business\n",
    "#'what_Working Professional',\n",
    "\n",
    "import statsmodels.api as sm\n",
    "logm1=sm.GLM(y_train,sm.add_constant(x_train[colnm]), family=sm.families.Binomial())\n",
    "logm1.fit().summary()"
   ]
  },
  {
   "cell_type": "code",
   "execution_count": 341,
   "metadata": {},
   "outputs": [
    {
     "data": {
      "text/html": [
       "<div>\n",
       "<style scoped>\n",
       "    .dataframe tbody tr th:only-of-type {\n",
       "        vertical-align: middle;\n",
       "    }\n",
       "\n",
       "    .dataframe tbody tr th {\n",
       "        vertical-align: top;\n",
       "    }\n",
       "\n",
       "    .dataframe thead th {\n",
       "        text-align: right;\n",
       "    }\n",
       "</style>\n",
       "<table border=\"1\" class=\"dataframe\">\n",
       "  <thead>\n",
       "    <tr style=\"text-align: right;\">\n",
       "      <th></th>\n",
       "      <th>Features</th>\n",
       "      <th>VIF</th>\n",
       "    </tr>\n",
       "  </thead>\n",
       "  <tbody>\n",
       "    <tr>\n",
       "      <th>26</th>\n",
       "      <td>country_India</td>\n",
       "      <td>9.40</td>\n",
       "    </tr>\n",
       "    <tr>\n",
       "      <th>4</th>\n",
       "      <td>orgn_Landing Page Submission</td>\n",
       "      <td>9.37</td>\n",
       "    </tr>\n",
       "    <tr>\n",
       "      <th>2</th>\n",
       "      <td>Page_Views_Per_Visit</td>\n",
       "      <td>4.65</td>\n",
       "    </tr>\n",
       "    <tr>\n",
       "      <th>3</th>\n",
       "      <td>orgn_API</td>\n",
       "      <td>3.25</td>\n",
       "    </tr>\n",
       "    <tr>\n",
       "      <th>0</th>\n",
       "      <td>TotalVisits</td>\n",
       "      <td>3.06</td>\n",
       "    </tr>\n",
       "    <tr>\n",
       "      <th>21</th>\n",
       "      <td>occ_Unemployed</td>\n",
       "      <td>2.92</td>\n",
       "    </tr>\n",
       "    <tr>\n",
       "      <th>1</th>\n",
       "      <td>Total_Time_Spent_on_Website</td>\n",
       "      <td>2.38</td>\n",
       "    </tr>\n",
       "    <tr>\n",
       "      <th>23</th>\n",
       "      <td>last_note_Modified</td>\n",
       "      <td>2.03</td>\n",
       "    </tr>\n",
       "    <tr>\n",
       "      <th>9</th>\n",
       "      <td>spcl_Finance Management</td>\n",
       "      <td>1.82</td>\n",
       "    </tr>\n",
       "    <tr>\n",
       "      <th>25</th>\n",
       "      <td>last_note_SMS Sent</td>\n",
       "      <td>1.65</td>\n",
       "    </tr>\n",
       "    <tr>\n",
       "      <th>11</th>\n",
       "      <td>spcl_Human Resource Management</td>\n",
       "      <td>1.64</td>\n",
       "    </tr>\n",
       "    <tr>\n",
       "      <th>14</th>\n",
       "      <td>spcl_Marketing Management</td>\n",
       "      <td>1.60</td>\n",
       "    </tr>\n",
       "    <tr>\n",
       "      <th>16</th>\n",
       "      <td>spcl_Operations Management</td>\n",
       "      <td>1.44</td>\n",
       "    </tr>\n",
       "    <tr>\n",
       "      <th>27</th>\n",
       "      <td>country_Outside India</td>\n",
       "      <td>1.40</td>\n",
       "    </tr>\n",
       "    <tr>\n",
       "      <th>22</th>\n",
       "      <td>occ_Working Professional</td>\n",
       "      <td>1.37</td>\n",
       "    </tr>\n",
       "    <tr>\n",
       "      <th>12</th>\n",
       "      <td>spcl_IT Projects Management</td>\n",
       "      <td>1.33</td>\n",
       "    </tr>\n",
       "    <tr>\n",
       "      <th>7</th>\n",
       "      <td>spcl_Business Administration</td>\n",
       "      <td>1.32</td>\n",
       "    </tr>\n",
       "    <tr>\n",
       "      <th>18</th>\n",
       "      <td>spcl_Supply Chain Management</td>\n",
       "      <td>1.29</td>\n",
       "    </tr>\n",
       "    <tr>\n",
       "      <th>6</th>\n",
       "      <td>spcl_Banking, Investment And Insurance</td>\n",
       "      <td>1.28</td>\n",
       "    </tr>\n",
       "    <tr>\n",
       "      <th>19</th>\n",
       "      <td>spcl_Travel and Tourism</td>\n",
       "      <td>1.20</td>\n",
       "    </tr>\n",
       "    <tr>\n",
       "      <th>15</th>\n",
       "      <td>spcl_Media and Advertising</td>\n",
       "      <td>1.18</td>\n",
       "    </tr>\n",
       "    <tr>\n",
       "      <th>13</th>\n",
       "      <td>spcl_International Business</td>\n",
       "      <td>1.17</td>\n",
       "    </tr>\n",
       "    <tr>\n",
       "      <th>5</th>\n",
       "      <td>dne_Yes</td>\n",
       "      <td>1.15</td>\n",
       "    </tr>\n",
       "    <tr>\n",
       "      <th>10</th>\n",
       "      <td>spcl_Healthcare Management</td>\n",
       "      <td>1.11</td>\n",
       "    </tr>\n",
       "    <tr>\n",
       "      <th>8</th>\n",
       "      <td>spcl_E-COMMERCE</td>\n",
       "      <td>1.09</td>\n",
       "    </tr>\n",
       "    <tr>\n",
       "      <th>17</th>\n",
       "      <td>spcl_Rural and Agribusiness</td>\n",
       "      <td>1.08</td>\n",
       "    </tr>\n",
       "    <tr>\n",
       "      <th>24</th>\n",
       "      <td>last_note_Olark Chat Conversation</td>\n",
       "      <td>1.08</td>\n",
       "    </tr>\n",
       "    <tr>\n",
       "      <th>20</th>\n",
       "      <td>occ_Student</td>\n",
       "      <td>1.07</td>\n",
       "    </tr>\n",
       "  </tbody>\n",
       "</table>\n",
       "</div>"
      ],
      "text/plain": [
       "                                  Features  VIF\n",
       "26  country_India                          9.40\n",
       "4   orgn_Landing Page Submission           9.37\n",
       "2   Page_Views_Per_Visit                   4.65\n",
       "3   orgn_API                               3.25\n",
       "0   TotalVisits                            3.06\n",
       "21  occ_Unemployed                         2.92\n",
       "1   Total_Time_Spent_on_Website            2.38\n",
       "23  last_note_Modified                     2.03\n",
       "9   spcl_Finance Management                1.82\n",
       "25  last_note_SMS Sent                     1.65\n",
       "11  spcl_Human Resource Management         1.64\n",
       "14  spcl_Marketing Management              1.60\n",
       "16  spcl_Operations Management             1.44\n",
       "27  country_Outside India                  1.40\n",
       "22  occ_Working Professional               1.37\n",
       "12  spcl_IT Projects Management            1.33\n",
       "7   spcl_Business Administration           1.32\n",
       "18  spcl_Supply Chain Management           1.29\n",
       "6   spcl_Banking, Investment And Insurance 1.28\n",
       "19  spcl_Travel and Tourism                1.20\n",
       "15  spcl_Media and Advertising             1.18\n",
       "13  spcl_International Business            1.17\n",
       "5   dne_Yes                                1.15\n",
       "10  spcl_Healthcare Management             1.11\n",
       "8   spcl_E-COMMERCE                        1.09\n",
       "17  spcl_Rural and Agribusiness            1.08\n",
       "24  last_note_Olark Chat Conversation      1.08\n",
       "20  occ_Student                            1.07"
      ]
     },
     "execution_count": 341,
     "metadata": {},
     "output_type": "execute_result"
    }
   ],
   "source": [
    "# Create a dataframe that will contain the names of all the feature variables and their respective VIFs\n",
    "vif = pd.DataFrame()\n",
    "vif['Features'] = x_train[colnm].columns\n",
    "vif['VIF'] = [variance_inflation_factor(x_train[colnm].values, i) for i in range(x_train[colnm].shape[1])]\n",
    "vif['VIF'] = round(vif['VIF'], 2)\n",
    "vif = vif.sort_values(by = \"VIF\", ascending = False)\n",
    "vif"
   ]
  },
  {
   "cell_type": "code",
   "execution_count": 379,
   "metadata": {},
   "outputs": [
    {
     "data": {
      "text/html": [
       "<table class=\"simpletable\">\n",
       "<caption>Generalized Linear Model Regression Results</caption>\n",
       "<tr>\n",
       "  <th>Dep. Variable:</th>      <td>Converted</td>    <th>  No. Observations:  </th>  <td>  6154</td>  \n",
       "</tr>\n",
       "<tr>\n",
       "  <th>Model:</th>                 <td>GLM</td>       <th>  Df Residuals:      </th>  <td>  6126</td>  \n",
       "</tr>\n",
       "<tr>\n",
       "  <th>Model Family:</th>       <td>Binomial</td>     <th>  Df Model:          </th>  <td>    27</td>  \n",
       "</tr>\n",
       "<tr>\n",
       "  <th>Link Function:</th>        <td>logit</td>      <th>  Scale:             </th> <td>  1.0000</td> \n",
       "</tr>\n",
       "<tr>\n",
       "  <th>Method:</th>               <td>IRLS</td>       <th>  Log-Likelihood:    </th> <td> -2480.1</td> \n",
       "</tr>\n",
       "<tr>\n",
       "  <th>Date:</th>           <td>Sun, 03 Mar 2019</td> <th>  Deviance:          </th> <td>  4960.2</td> \n",
       "</tr>\n",
       "<tr>\n",
       "  <th>Time:</th>               <td>22:10:32</td>     <th>  Pearson chi2:      </th> <td>6.12e+03</td> \n",
       "</tr>\n",
       "<tr>\n",
       "  <th>No. Iterations:</th>         <td>6</td>        <th>  Covariance Type:   </th> <td>nonrobust</td>\n",
       "</tr>\n",
       "</table>\n",
       "<table class=\"simpletable\">\n",
       "<tr>\n",
       "                     <td></td>                       <th>coef</th>     <th>std err</th>      <th>z</th>      <th>P>|z|</th>  <th>[0.025</th>    <th>0.975]</th>  \n",
       "</tr>\n",
       "<tr>\n",
       "  <th>const</th>                                  <td>    0.8267</td> <td>    0.244</td> <td>    3.394</td> <td> 0.001</td> <td>    0.349</td> <td>    1.304</td>\n",
       "</tr>\n",
       "<tr>\n",
       "  <th>TotalVisits</th>                            <td>    8.0755</td> <td>    2.626</td> <td>    3.075</td> <td> 0.002</td> <td>    2.928</td> <td>   13.223</td>\n",
       "</tr>\n",
       "<tr>\n",
       "  <th>Total_Time_Spent_on_Website</th>            <td>    4.3450</td> <td>    0.163</td> <td>   26.685</td> <td> 0.000</td> <td>    4.026</td> <td>    4.664</td>\n",
       "</tr>\n",
       "<tr>\n",
       "  <th>Page_Views_Per_Visit</th>                   <td>   -7.4313</td> <td>    1.308</td> <td>   -5.679</td> <td> 0.000</td> <td>   -9.996</td> <td>   -4.867</td>\n",
       "</tr>\n",
       "<tr>\n",
       "  <th>orgn_API</th>                               <td>   -3.3078</td> <td>    0.232</td> <td>  -14.268</td> <td> 0.000</td> <td>   -3.762</td> <td>   -2.853</td>\n",
       "</tr>\n",
       "<tr>\n",
       "  <th>orgn_Landing Page Submission</th>           <td>   -4.3148</td> <td>    0.246</td> <td>  -17.533</td> <td> 0.000</td> <td>   -4.797</td> <td>   -3.832</td>\n",
       "</tr>\n",
       "<tr>\n",
       "  <th>dne_Yes</th>                                <td>   -1.5544</td> <td>    0.205</td> <td>   -7.589</td> <td> 0.000</td> <td>   -1.956</td> <td>   -1.153</td>\n",
       "</tr>\n",
       "<tr>\n",
       "  <th>spcl_Banking, Investment And Insurance</th> <td>    1.2878</td> <td>    0.201</td> <td>    6.405</td> <td> 0.000</td> <td>    0.894</td> <td>    1.682</td>\n",
       "</tr>\n",
       "<tr>\n",
       "  <th>spcl_Business Administration</th>           <td>    0.6848</td> <td>    0.201</td> <td>    3.409</td> <td> 0.001</td> <td>    0.291</td> <td>    1.079</td>\n",
       "</tr>\n",
       "<tr>\n",
       "  <th>spcl_E-COMMERCE</th>                        <td>    0.8995</td> <td>    0.358</td> <td>    2.515</td> <td> 0.012</td> <td>    0.198</td> <td>    1.601</td>\n",
       "</tr>\n",
       "<tr>\n",
       "  <th>spcl_Finance Management</th>                <td>    0.7362</td> <td>    0.150</td> <td>    4.909</td> <td> 0.000</td> <td>    0.442</td> <td>    1.030</td>\n",
       "</tr>\n",
       "<tr>\n",
       "  <th>spcl_Healthcare Management</th>             <td>    0.8204</td> <td>    0.307</td> <td>    2.671</td> <td> 0.008</td> <td>    0.218</td> <td>    1.422</td>\n",
       "</tr>\n",
       "<tr>\n",
       "  <th>spcl_Human Resource Management</th>         <td>    0.7694</td> <td>    0.153</td> <td>    5.018</td> <td> 0.000</td> <td>    0.469</td> <td>    1.070</td>\n",
       "</tr>\n",
       "<tr>\n",
       "  <th>spcl_IT Projects Management</th>            <td>    0.8892</td> <td>    0.210</td> <td>    4.229</td> <td> 0.000</td> <td>    0.477</td> <td>    1.301</td>\n",
       "</tr>\n",
       "<tr>\n",
       "  <th>spcl_International Business</th>            <td>    0.5996</td> <td>    0.264</td> <td>    2.275</td> <td> 0.023</td> <td>    0.083</td> <td>    1.116</td>\n",
       "</tr>\n",
       "<tr>\n",
       "  <th>spcl_Marketing Management</th>              <td>    0.9349</td> <td>    0.152</td> <td>    6.165</td> <td> 0.000</td> <td>    0.638</td> <td>    1.232</td>\n",
       "</tr>\n",
       "<tr>\n",
       "  <th>spcl_Media and Advertising</th>             <td>    0.6049</td> <td>    0.254</td> <td>    2.378</td> <td> 0.017</td> <td>    0.106</td> <td>    1.103</td>\n",
       "</tr>\n",
       "<tr>\n",
       "  <th>spcl_Operations Management</th>             <td>    0.7808</td> <td>    0.177</td> <td>    4.408</td> <td> 0.000</td> <td>    0.434</td> <td>    1.128</td>\n",
       "</tr>\n",
       "<tr>\n",
       "  <th>spcl_Rural and Agribusiness</th>            <td>    0.7702</td> <td>    0.381</td> <td>    2.023</td> <td> 0.043</td> <td>    0.024</td> <td>    1.517</td>\n",
       "</tr>\n",
       "<tr>\n",
       "  <th>spcl_Supply Chain Management</th>           <td>    0.7539</td> <td>    0.208</td> <td>    3.617</td> <td> 0.000</td> <td>    0.345</td> <td>    1.162</td>\n",
       "</tr>\n",
       "<tr>\n",
       "  <th>spcl_Travel and Tourism</th>                <td>    1.0670</td> <td>    0.258</td> <td>    4.136</td> <td> 0.000</td> <td>    0.561</td> <td>    1.573</td>\n",
       "</tr>\n",
       "<tr>\n",
       "  <th>occ_Student</th>                            <td>    1.0464</td> <td>    0.239</td> <td>    4.377</td> <td> 0.000</td> <td>    0.578</td> <td>    1.515</td>\n",
       "</tr>\n",
       "<tr>\n",
       "  <th>occ_Unemployed</th>                         <td>    1.0541</td> <td>    0.091</td> <td>   11.523</td> <td> 0.000</td> <td>    0.875</td> <td>    1.233</td>\n",
       "</tr>\n",
       "<tr>\n",
       "  <th>occ_Working Professional</th>               <td>    3.4830</td> <td>    0.205</td> <td>   16.967</td> <td> 0.000</td> <td>    3.081</td> <td>    3.885</td>\n",
       "</tr>\n",
       "<tr>\n",
       "  <th>last_note_Modified</th>                     <td>   -0.5669</td> <td>    0.087</td> <td>   -6.492</td> <td> 0.000</td> <td>   -0.738</td> <td>   -0.396</td>\n",
       "</tr>\n",
       "<tr>\n",
       "  <th>last_note_Olark Chat Conversation</th>      <td>   -0.8027</td> <td>    0.323</td> <td>   -2.488</td> <td> 0.013</td> <td>   -1.435</td> <td>   -0.170</td>\n",
       "</tr>\n",
       "<tr>\n",
       "  <th>last_note_SMS Sent</th>                     <td>    1.5422</td> <td>    0.090</td> <td>   17.081</td> <td> 0.000</td> <td>    1.365</td> <td>    1.719</td>\n",
       "</tr>\n",
       "<tr>\n",
       "  <th>country_Outside India</th>                  <td>   -0.5384</td> <td>    0.207</td> <td>   -2.603</td> <td> 0.009</td> <td>   -0.944</td> <td>   -0.133</td>\n",
       "</tr>\n",
       "</table>"
      ],
      "text/plain": [
       "<class 'statsmodels.iolib.summary.Summary'>\n",
       "\"\"\"\n",
       "                 Generalized Linear Model Regression Results                  \n",
       "==============================================================================\n",
       "Dep. Variable:              Converted   No. Observations:                 6154\n",
       "Model:                            GLM   Df Residuals:                     6126\n",
       "Model Family:                Binomial   Df Model:                           27\n",
       "Link Function:                  logit   Scale:                          1.0000\n",
       "Method:                          IRLS   Log-Likelihood:                -2480.1\n",
       "Date:                Sun, 03 Mar 2019   Deviance:                       4960.2\n",
       "Time:                        22:10:32   Pearson chi2:                 6.12e+03\n",
       "No. Iterations:                     6   Covariance Type:             nonrobust\n",
       "==========================================================================================================\n",
       "                                             coef    std err          z      P>|z|      [0.025      0.975]\n",
       "----------------------------------------------------------------------------------------------------------\n",
       "const                                      0.8267      0.244      3.394      0.001       0.349       1.304\n",
       "TotalVisits                                8.0755      2.626      3.075      0.002       2.928      13.223\n",
       "Total_Time_Spent_on_Website                4.3450      0.163     26.685      0.000       4.026       4.664\n",
       "Page_Views_Per_Visit                      -7.4313      1.308     -5.679      0.000      -9.996      -4.867\n",
       "orgn_API                                  -3.3078      0.232    -14.268      0.000      -3.762      -2.853\n",
       "orgn_Landing Page Submission              -4.3148      0.246    -17.533      0.000      -4.797      -3.832\n",
       "dne_Yes                                   -1.5544      0.205     -7.589      0.000      -1.956      -1.153\n",
       "spcl_Banking, Investment And Insurance     1.2878      0.201      6.405      0.000       0.894       1.682\n",
       "spcl_Business Administration               0.6848      0.201      3.409      0.001       0.291       1.079\n",
       "spcl_E-COMMERCE                            0.8995      0.358      2.515      0.012       0.198       1.601\n",
       "spcl_Finance Management                    0.7362      0.150      4.909      0.000       0.442       1.030\n",
       "spcl_Healthcare Management                 0.8204      0.307      2.671      0.008       0.218       1.422\n",
       "spcl_Human Resource Management             0.7694      0.153      5.018      0.000       0.469       1.070\n",
       "spcl_IT Projects Management                0.8892      0.210      4.229      0.000       0.477       1.301\n",
       "spcl_International Business                0.5996      0.264      2.275      0.023       0.083       1.116\n",
       "spcl_Marketing Management                  0.9349      0.152      6.165      0.000       0.638       1.232\n",
       "spcl_Media and Advertising                 0.6049      0.254      2.378      0.017       0.106       1.103\n",
       "spcl_Operations Management                 0.7808      0.177      4.408      0.000       0.434       1.128\n",
       "spcl_Rural and Agribusiness                0.7702      0.381      2.023      0.043       0.024       1.517\n",
       "spcl_Supply Chain Management               0.7539      0.208      3.617      0.000       0.345       1.162\n",
       "spcl_Travel and Tourism                    1.0670      0.258      4.136      0.000       0.561       1.573\n",
       "occ_Student                                1.0464      0.239      4.377      0.000       0.578       1.515\n",
       "occ_Unemployed                             1.0541      0.091     11.523      0.000       0.875       1.233\n",
       "occ_Working Professional                   3.4830      0.205     16.967      0.000       3.081       3.885\n",
       "last_note_Modified                        -0.5669      0.087     -6.492      0.000      -0.738      -0.396\n",
       "last_note_Olark Chat Conversation         -0.8027      0.323     -2.488      0.013      -1.435      -0.170\n",
       "last_note_SMS Sent                         1.5422      0.090     17.081      0.000       1.365       1.719\n",
       "country_Outside India                     -0.5384      0.207     -2.603      0.009      -0.944      -0.133\n",
       "==========================================================================================================\n",
       "\"\"\""
      ]
     },
     "execution_count": 379,
     "metadata": {},
     "output_type": "execute_result"
    }
   ],
   "source": [
    "colnm = ['TotalVisits', 'Total_Time_Spent_on_Website', 'Page_Views_Per_Visit','orgn_API', 'orgn_Landing Page Submission',\n",
    "         'dne_Yes', 'spcl_Banking, Investment And Insurance', 'spcl_Business Administration',\n",
    "         'spcl_E-COMMERCE','spcl_Finance Management', 'spcl_Healthcare Management', 'spcl_Human Resource Management', \n",
    "         'spcl_IT Projects Management', 'spcl_International Business','spcl_Marketing Management', 'spcl_Media and Advertising',\n",
    "         'spcl_Operations Management', 'spcl_Rural and Agribusiness','spcl_Supply Chain Management', 'spcl_Travel and Tourism',\n",
    "         'occ_Student', 'occ_Unemployed', 'occ_Working Professional',  'last_note_Modified', \n",
    "         'last_note_Olark Chat Conversation', 'last_note_SMS Sent', 'country_Outside India']\n",
    "\n",
    "##droppin the non significant varibles and rebuilding model\n",
    "##Dropped Varibles##\n",
    "#, 'spcl_E-Business\n",
    "#'what_Working Professional',\n",
    "#'country_India',\n",
    "\n",
    "import statsmodels.api as sm\n",
    "logm1=sm.GLM(y_train,sm.add_constant(x_train[colnm]), family=sm.families.Binomial())\n",
    "logm1.fit().summary()"
   ]
  },
  {
   "cell_type": "code",
   "execution_count": 361,
   "metadata": {},
   "outputs": [
    {
     "data": {
      "text/html": [
       "<div>\n",
       "<style scoped>\n",
       "    .dataframe tbody tr th:only-of-type {\n",
       "        vertical-align: middle;\n",
       "    }\n",
       "\n",
       "    .dataframe tbody tr th {\n",
       "        vertical-align: top;\n",
       "    }\n",
       "\n",
       "    .dataframe thead th {\n",
       "        text-align: right;\n",
       "    }\n",
       "</style>\n",
       "<table border=\"1\" class=\"dataframe\">\n",
       "  <thead>\n",
       "    <tr style=\"text-align: right;\">\n",
       "      <th></th>\n",
       "      <th>Features</th>\n",
       "      <th>VIF</th>\n",
       "    </tr>\n",
       "  </thead>\n",
       "  <tbody>\n",
       "    <tr>\n",
       "      <th>4</th>\n",
       "      <td>orgn_Landing Page Submission</td>\n",
       "      <td>7.05</td>\n",
       "    </tr>\n",
       "    <tr>\n",
       "      <th>2</th>\n",
       "      <td>Page_Views_Per_Visit</td>\n",
       "      <td>4.33</td>\n",
       "    </tr>\n",
       "    <tr>\n",
       "      <th>0</th>\n",
       "      <td>TotalVisits</td>\n",
       "      <td>3.02</td>\n",
       "    </tr>\n",
       "    <tr>\n",
       "      <th>21</th>\n",
       "      <td>occ_Unemployed</td>\n",
       "      <td>2.92</td>\n",
       "    </tr>\n",
       "    <tr>\n",
       "      <th>3</th>\n",
       "      <td>orgn_API</td>\n",
       "      <td>2.57</td>\n",
       "    </tr>\n",
       "    <tr>\n",
       "      <th>1</th>\n",
       "      <td>Total_Time_Spent_on_Website</td>\n",
       "      <td>2.15</td>\n",
       "    </tr>\n",
       "    <tr>\n",
       "      <th>23</th>\n",
       "      <td>last_note_Modified</td>\n",
       "      <td>2.03</td>\n",
       "    </tr>\n",
       "    <tr>\n",
       "      <th>9</th>\n",
       "      <td>spcl_Finance Management</td>\n",
       "      <td>1.81</td>\n",
       "    </tr>\n",
       "    <tr>\n",
       "      <th>25</th>\n",
       "      <td>last_note_SMS Sent</td>\n",
       "      <td>1.65</td>\n",
       "    </tr>\n",
       "    <tr>\n",
       "      <th>11</th>\n",
       "      <td>spcl_Human Resource Management</td>\n",
       "      <td>1.63</td>\n",
       "    </tr>\n",
       "    <tr>\n",
       "      <th>14</th>\n",
       "      <td>spcl_Marketing Management</td>\n",
       "      <td>1.59</td>\n",
       "    </tr>\n",
       "    <tr>\n",
       "      <th>16</th>\n",
       "      <td>spcl_Operations Management</td>\n",
       "      <td>1.43</td>\n",
       "    </tr>\n",
       "    <tr>\n",
       "      <th>22</th>\n",
       "      <td>occ_Working Professional</td>\n",
       "      <td>1.37</td>\n",
       "    </tr>\n",
       "    <tr>\n",
       "      <th>12</th>\n",
       "      <td>spcl_IT Projects Management</td>\n",
       "      <td>1.33</td>\n",
       "    </tr>\n",
       "    <tr>\n",
       "      <th>7</th>\n",
       "      <td>spcl_Business Administration</td>\n",
       "      <td>1.31</td>\n",
       "    </tr>\n",
       "    <tr>\n",
       "      <th>18</th>\n",
       "      <td>spcl_Supply Chain Management</td>\n",
       "      <td>1.29</td>\n",
       "    </tr>\n",
       "    <tr>\n",
       "      <th>6</th>\n",
       "      <td>spcl_Banking, Investment And Insurance</td>\n",
       "      <td>1.27</td>\n",
       "    </tr>\n",
       "    <tr>\n",
       "      <th>19</th>\n",
       "      <td>spcl_Travel and Tourism</td>\n",
       "      <td>1.20</td>\n",
       "    </tr>\n",
       "    <tr>\n",
       "      <th>15</th>\n",
       "      <td>spcl_Media and Advertising</td>\n",
       "      <td>1.18</td>\n",
       "    </tr>\n",
       "    <tr>\n",
       "      <th>13</th>\n",
       "      <td>spcl_International Business</td>\n",
       "      <td>1.17</td>\n",
       "    </tr>\n",
       "    <tr>\n",
       "      <th>5</th>\n",
       "      <td>dne_Yes</td>\n",
       "      <td>1.15</td>\n",
       "    </tr>\n",
       "    <tr>\n",
       "      <th>10</th>\n",
       "      <td>spcl_Healthcare Management</td>\n",
       "      <td>1.11</td>\n",
       "    </tr>\n",
       "    <tr>\n",
       "      <th>8</th>\n",
       "      <td>spcl_E-COMMERCE</td>\n",
       "      <td>1.09</td>\n",
       "    </tr>\n",
       "    <tr>\n",
       "      <th>17</th>\n",
       "      <td>spcl_Rural and Agribusiness</td>\n",
       "      <td>1.08</td>\n",
       "    </tr>\n",
       "    <tr>\n",
       "      <th>24</th>\n",
       "      <td>last_note_Olark Chat Conversation</td>\n",
       "      <td>1.08</td>\n",
       "    </tr>\n",
       "    <tr>\n",
       "      <th>20</th>\n",
       "      <td>occ_Student</td>\n",
       "      <td>1.07</td>\n",
       "    </tr>\n",
       "    <tr>\n",
       "      <th>26</th>\n",
       "      <td>country_Outside India</td>\n",
       "      <td>1.06</td>\n",
       "    </tr>\n",
       "  </tbody>\n",
       "</table>\n",
       "</div>"
      ],
      "text/plain": [
       "                                  Features  VIF\n",
       "4   orgn_Landing Page Submission           7.05\n",
       "2   Page_Views_Per_Visit                   4.33\n",
       "0   TotalVisits                            3.02\n",
       "21  occ_Unemployed                         2.92\n",
       "3   orgn_API                               2.57\n",
       "1   Total_Time_Spent_on_Website            2.15\n",
       "23  last_note_Modified                     2.03\n",
       "9   spcl_Finance Management                1.81\n",
       "25  last_note_SMS Sent                     1.65\n",
       "11  spcl_Human Resource Management         1.63\n",
       "14  spcl_Marketing Management              1.59\n",
       "16  spcl_Operations Management             1.43\n",
       "22  occ_Working Professional               1.37\n",
       "12  spcl_IT Projects Management            1.33\n",
       "7   spcl_Business Administration           1.31\n",
       "18  spcl_Supply Chain Management           1.29\n",
       "6   spcl_Banking, Investment And Insurance 1.27\n",
       "19  spcl_Travel and Tourism                1.20\n",
       "15  spcl_Media and Advertising             1.18\n",
       "13  spcl_International Business            1.17\n",
       "5   dne_Yes                                1.15\n",
       "10  spcl_Healthcare Management             1.11\n",
       "8   spcl_E-COMMERCE                        1.09\n",
       "17  spcl_Rural and Agribusiness            1.08\n",
       "24  last_note_Olark Chat Conversation      1.08\n",
       "20  occ_Student                            1.07\n",
       "26  country_Outside India                  1.06"
      ]
     },
     "execution_count": 361,
     "metadata": {},
     "output_type": "execute_result"
    }
   ],
   "source": [
    "# Create a dataframe that will contain the names of all the feature variables and their respective VIFs\n",
    "vif = pd.DataFrame()\n",
    "vif['Features'] = x_train[colnm].columns\n",
    "vif['VIF'] = [variance_inflation_factor(x_train[colnm].values, i) for i in range(x_train[colnm].shape[1])]\n",
    "vif['VIF'] = round(vif['VIF'], 2)\n",
    "vif = vif.sort_values(by = \"VIF\", ascending = False)\n",
    "vif"
   ]
  },
  {
   "cell_type": "markdown",
   "metadata": {},
   "source": [
    "## Predicting class for the Test data set"
   ]
  },
  {
   "cell_type": "code",
   "execution_count": 380,
   "metadata": {},
   "outputs": [
    {
     "data": {
      "text/plain": [
       "array([[ 0.40315957,  4.12322772, -2.51458309, -3.0208466 , -3.97083839,\n",
       "        -1.43628229,  1.10628733,  0.55276532,  0.65941773,  0.60936468,\n",
       "         0.67490678,  0.64080318,  0.72966803,  0.41152272,  0.80755529,\n",
       "         0.44339035,  0.65799294,  0.65280128,  0.59574418,  0.83389347,\n",
       "         0.97764569,  1.03118804,  3.32484072, -0.56910844, -0.69021165,\n",
       "         1.4777655 , -0.50378044]])"
      ]
     },
     "execution_count": 380,
     "metadata": {},
     "output_type": "execute_result"
    }
   ],
   "source": [
    "from sklearn.linear_model import LogisticRegression\n",
    "from sklearn import metrics\n",
    "logm2 = LogisticRegression()\n",
    "logm2.fit(x_train[colnm], y_train)\n",
    "logm2.coef_"
   ]
  },
  {
   "cell_type": "code",
   "execution_count": 381,
   "metadata": {},
   "outputs": [
    {
     "name": "stdout",
     "output_type": "stream",
     "text": [
      "(6154, 27)\n",
      "(2638, 27)\n"
     ]
    }
   ],
   "source": [
    "print(x_train[colnm].shape)\n",
    "print(x_test[colnm].shape)"
   ]
  },
  {
   "cell_type": "code",
   "execution_count": 382,
   "metadata": {},
   "outputs": [
    {
     "data": {
      "text/plain": [
       "array([[0.05739864, 0.94260136],\n",
       "       [0.18743921, 0.81256079],\n",
       "       [0.84904612, 0.15095388],\n",
       "       ...,\n",
       "       [0.41150281, 0.58849719],\n",
       "       [0.81678868, 0.18321132],\n",
       "       [0.20115116, 0.79884884]])"
      ]
     },
     "execution_count": 382,
     "metadata": {},
     "output_type": "execute_result"
    }
   ],
   "source": [
    "logm2.predict_proba(x_train[colnm])"
   ]
  },
  {
   "cell_type": "markdown",
   "metadata": {},
   "source": [
    "### Assigning Lead Score"
   ]
  },
  {
   "cell_type": "code",
   "execution_count": 383,
   "metadata": {},
   "outputs": [
    {
     "data": {
      "text/html": [
       "<div>\n",
       "<style scoped>\n",
       "    .dataframe tbody tr th:only-of-type {\n",
       "        vertical-align: middle;\n",
       "    }\n",
       "\n",
       "    .dataframe tbody tr th {\n",
       "        vertical-align: top;\n",
       "    }\n",
       "\n",
       "    .dataframe thead th {\n",
       "        text-align: right;\n",
       "    }\n",
       "</style>\n",
       "<table border=\"1\" class=\"dataframe\">\n",
       "  <thead>\n",
       "    <tr style=\"text-align: right;\">\n",
       "      <th></th>\n",
       "      <th>lead_score</th>\n",
       "    </tr>\n",
       "  </thead>\n",
       "  <tbody>\n",
       "    <tr>\n",
       "      <th>0</th>\n",
       "      <td>47.00</td>\n",
       "    </tr>\n",
       "    <tr>\n",
       "      <th>1</th>\n",
       "      <td>100.00</td>\n",
       "    </tr>\n",
       "    <tr>\n",
       "      <th>2</th>\n",
       "      <td>92.00</td>\n",
       "    </tr>\n",
       "    <tr>\n",
       "      <th>3</th>\n",
       "      <td>61.00</td>\n",
       "    </tr>\n",
       "    <tr>\n",
       "      <th>4</th>\n",
       "      <td>13.00</td>\n",
       "    </tr>\n",
       "  </tbody>\n",
       "</table>\n",
       "</div>"
      ],
      "text/plain": [
       "   lead_score\n",
       "0 47.00      \n",
       "1 100.00     \n",
       "2 92.00      \n",
       "3 61.00      \n",
       "4 13.00      "
      ]
     },
     "execution_count": 383,
     "metadata": {},
     "output_type": "execute_result"
    }
   ],
   "source": [
    "#assigning lead score between 0 to 100\n",
    "y_predict=logm2.predict_proba(x_test[colnm])\n",
    "y_predict=pd.DataFrame(y_predict)\n",
    "y_predict = y_predict.iloc[:,[1]]\n",
    "y_predict.rename(columns={1:'predicted'}, inplace=True)\n",
    "y_predict.index=y_test.index\n",
    "y_prob=pd.concat([y_test,y_predict], axis=1)\n",
    "y_prob['predicted']=y_prob['predicted'].map(lambda x: 0 if x<0.5 else 1)\n",
    "lead_score=pd.DataFrame(logm2.predict_proba(x_test[colnm]))\n",
    "lead_score=round(100*(lead_score.iloc[:,[1]]),0)\n",
    "lead_score.rename(columns={1:'lead_score'}, inplace=True)\n",
    "lead_score.head()"
   ]
  },
  {
   "cell_type": "markdown",
   "metadata": {},
   "source": [
    "## Evaluating the Model"
   ]
  },
  {
   "cell_type": "code",
   "execution_count": 391,
   "metadata": {},
   "outputs": [
    {
     "data": {
      "text/plain": [
       "0.81"
      ]
     },
     "execution_count": 391,
     "metadata": {},
     "output_type": "execute_result"
    }
   ],
   "source": [
    "#to check the accuracy of the model\n",
    "round(metrics.accuracy_score(y_prob.Converted, y_prob.predicted),2)"
   ]
  },
  {
   "cell_type": "markdown",
   "metadata": {},
   "source": [
    "### ROC Curve"
   ]
  },
  {
   "cell_type": "code",
   "execution_count": 385,
   "metadata": {},
   "outputs": [
    {
     "data": {
      "image/png": "[encoded data removed]",
      "text/plain": [
       "<Figure size 432x432 with 1 Axes>"
      ]
     },
     "metadata": {
      "needs_background": "light"
     },
     "output_type": "display_data"
    },
    {
     "data": {
      "text/plain": [
       "(array([0.        , 0.13564477, 1.        ]),\n",
       " array([0.        , 0.71126761, 1.        ]),\n",
       " array([2, 1, 0], dtype=int64))"
      ]
     },
     "execution_count": 385,
     "metadata": {},
     "output_type": "execute_result"
    }
   ],
   "source": [
    "##evaluating the model using ROC curve\n",
    "##area under curve is 0.79 means the model is good to go\n",
    "\n",
    "def draw_roc( actual, probs ):\n",
    "    fpr, tpr, thresholds = metrics.roc_curve( actual, probs,\n",
    "                                              drop_intermediate = False )\n",
    "    auc_score = metrics.roc_auc_score( actual, probs )\n",
    "    plt.figure(figsize=(6, 6))\n",
    "    plt.plot( fpr, tpr, label='ROC curve (area = %0.2f)' % auc_score )\n",
    "    plt.plot([0, 1], [0, 1], 'k--')\n",
    "    plt.xlim([0.0, 1.0])\n",
    "    plt.ylim([0.0, 1.05])\n",
    "    plt.xlabel('False Positive Rate or [1 - True Negative Rate]')\n",
    "    plt.ylabel('True Positive Rate')\n",
    "    plt.title('Receiver operating characteristic example')\n",
    "    plt.legend(loc=\"lower right\")\n",
    "    plt.show()\n",
    "\n",
    "    return fpr, tpr, thresholds\n",
    "\n",
    "draw_roc(y_prob.Converted,y_prob.predicted)"
   ]
  },
  {
   "cell_type": "markdown",
   "metadata": {},
   "source": [
    "## Error Metrics\n",
    "\n",
    "### Confusion Matrix"
   ]
  },
  {
   "cell_type": "code",
   "execution_count": 386,
   "metadata": {},
   "outputs": [
    {
     "data": {
      "text/plain": [
       "array([[1421,  223],\n",
       "       [ 287,  707]], dtype=int64)"
      ]
     },
     "execution_count": 386,
     "metadata": {},
     "output_type": "execute_result"
    }
   ],
   "source": [
    "confusion = metrics.confusion_matrix( y_prob.Converted, y_prob.predicted )\n",
    "confusion"
   ]
  },
  {
   "cell_type": "code",
   "execution_count": 392,
   "metadata": {},
   "outputs": [],
   "source": [
    "tp= 1421 \n",
    "fn= 223  \n",
    "fp= 287\n",
    "tn= 707"
   ]
  },
  {
   "cell_type": "code",
   "execution_count": 393,
   "metadata": {},
   "outputs": [
    {
     "name": "stdout",
     "output_type": "stream",
     "text": [
      "Accuracy                ---   80.67 %\n",
      "Specificity             ---   71.13 %\n",
      "sensitivity/TPR/Recall  ---   86.44 %\n",
      "FPR                     ---   28.87 %\n",
      "Precision               ---   83.2 %\n"
     ]
    }
   ],
   "source": [
    "print('Accuracy                ---  ', round((tp+tn)*100/(tp+tn+fp+fn),2),'%')\n",
    "print('Specificity             ---  ', round((tn)*100/(tn+fp),2),'%')\n",
    "print('sensitivity/TPR/Recall  ---  ', round((tp)*100/(tp+fn),2),'%')\n",
    "print('FPR                     ---  ', round((fp)*100/(tn+fp),2),'%')\n",
    "print('Precision               ---  ', round((tp)*100/(tp+fp),2),'%')"
   ]
  },
  {
   "cell_type": "code",
   "execution_count": null,
   "metadata": {},
   "outputs": [],
   "source": []
  }
 ],
 "metadata": {
  "kernelspec": {
   "display_name": "Python 3",
   "language": "python",
   "name": "python3"
  },
  "language_info": {
   "codemirror_mode": {
    "name": "ipython",
    "version": 3
   },
   "file_extension": ".py",
   "mimetype": "text/x-python",
   "name": "python",
   "nbconvert_exporter": "python",
   "pygments_lexer": "ipython3",
   "version": "3.7.0"
  }
 },
 "nbformat": 4,
 "nbformat_minor": 2
}
